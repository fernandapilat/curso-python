{
  "nbformat": 4,
  "nbformat_minor": 0,
  "metadata": {
    "colab": {
      "provenance": [],
      "mount_file_id": "1sT73hu0zROIo1idbCK8KOXyDyl8HwxVV",
      "authorship_tag": "ABX9TyOFCG9yF8EqSw6kxuTUFpzR",
      "include_colab_link": true
    },
    "kernelspec": {
      "name": "python3",
      "display_name": "Python 3"
    },
    "language_info": {
      "name": "python"
    }
  },
  "cells": [
    {
      "cell_type": "markdown",
      "metadata": {
        "id": "view-in-github",
        "colab_type": "text"
      },
      "source": [
        "<a href=\"https://colab.research.google.com/github/fernandapilat/curso-python/blob/main/Curso_Python_Iniciantes.ipynb\" target=\"_parent\"><img src=\"https://colab.research.google.com/assets/colab-badge.svg\" alt=\"Open In Colab\"/></a>"
      ]
    },
    {
      "cell_type": "markdown",
      "source": [
        "**Aula 1** | Primeiro código Python"
      ],
      "metadata": {
        "id": "RFLwbz_SiQxn"
      }
    },
    {
      "cell_type": "code",
      "execution_count": null,
      "metadata": {
        "colab": {
          "base_uri": "https://localhost:8080/"
        },
        "id": "201QKYu1g6rM",
        "outputId": "59d0e747-4d7e-4289-9dbc-577f17d7430d"
      },
      "outputs": [
        {
          "output_type": "stream",
          "name": "stdout",
          "text": [
            "Olá, mundo!\n"
          ]
        }
      ],
      "source": [
        "print('Olá, mundo!')"
      ]
    },
    {
      "cell_type": "code",
      "source": [
        "print('Didática Tech')"
      ],
      "metadata": {
        "colab": {
          "base_uri": "https://localhost:8080/"
        },
        "id": "2p-6VzcXiZcu",
        "outputId": "9e9707bc-c4d1-4dce-a334-668b005efbc9"
      },
      "execution_count": null,
      "outputs": [
        {
          "output_type": "stream",
          "name": "stdout",
          "text": [
            "Didática Tech\n"
          ]
        }
      ]
    },
    {
      "cell_type": "code",
      "source": [
        "print(oi) #existe uma explicação sobre esse erro, o oi não foi definido como uma variável por falta das aspas simples ou duplas."
      ],
      "metadata": {
        "colab": {
          "base_uri": "https://localhost:8080/",
          "height": 183
        },
        "id": "JwBgD2SniqrC",
        "outputId": "ddc3ff35-22bf-4c27-aa56-6cbdf6a19d04"
      },
      "execution_count": null,
      "outputs": [
        {
          "output_type": "error",
          "ename": "NameError",
          "evalue": "ignored",
          "traceback": [
            "\u001b[0;31m---------------------------------------------------------------------------\u001b[0m",
            "\u001b[0;31mNameError\u001b[0m                                 Traceback (most recent call last)",
            "\u001b[0;32m<ipython-input-3-ec60fca5d1e4>\u001b[0m in \u001b[0;36m<module>\u001b[0;34m\u001b[0m\n\u001b[0;32m----> 1\u001b[0;31m \u001b[0mprint\u001b[0m\u001b[0;34m(\u001b[0m\u001b[0moi\u001b[0m\u001b[0;34m)\u001b[0m \u001b[0;31m#existe uma explicação sobre esse erro, o oi não foi definido como uma variável por falta das aspas simples ou duplas.\u001b[0m\u001b[0;34m\u001b[0m\u001b[0;34m\u001b[0m\u001b[0m\n\u001b[0m",
            "\u001b[0;31mNameError\u001b[0m: name 'oi' is not defined"
          ]
        }
      ]
    },
    {
      "cell_type": "code",
      "source": [
        "print('oi ' ', ' 'tudo bem?') #são as aspas que determinam as mensagens que irão ser imprimidas,"
      ],
      "metadata": {
        "colab": {
          "base_uri": "https://localhost:8080/"
        },
        "id": "SobGI08RiyJs",
        "outputId": "1d193ecb-7134-4bc9-b1c6-4f6fe5fef02f"
      },
      "execution_count": null,
      "outputs": [
        {
          "output_type": "stream",
          "name": "stdout",
          "text": [
            "oi , tudo bem?\n"
          ]
        }
      ]
    },
    {
      "cell_type": "code",
      "source": [
        "print('oi')\n",
        "print('tudo bem?')"
      ],
      "metadata": {
        "colab": {
          "base_uri": "https://localhost:8080/"
        },
        "id": "KzrpBBJ9lGU7",
        "outputId": "cbe32142-e5d0-4d41-a78c-a35d60b63f47"
      },
      "execution_count": null,
      "outputs": [
        {
          "output_type": "stream",
          "name": "stdout",
          "text": [
            "oi\n",
            "tudo bem?\n"
          ]
        }
      ]
    },
    {
      "cell_type": "markdown",
      "source": [
        "**Aula 2** | Operadores aritméticos"
      ],
      "metadata": {
        "id": "gFWn_pcKn1KR"
      }
    },
    {
      "cell_type": "code",
      "source": [
        "print(5+6) #soma\n",
        "print(10-5) #subtração\n",
        "print(5*3) #multiplicação\n",
        "print(17/3) #divisão\n",
        "print(2**3) #potenciação"
      ],
      "metadata": {
        "colab": {
          "base_uri": "https://localhost:8080/"
        },
        "id": "NFZG33PYo6-T",
        "outputId": "2a2afe3b-7f9a-421b-b2ae-5866e0a62d5c"
      },
      "execution_count": null,
      "outputs": [
        {
          "output_type": "stream",
          "name": "stdout",
          "text": [
            "11\n",
            "5\n",
            "15\n",
            "5.666666666666667\n",
            "8\n"
          ]
        }
      ]
    },
    {
      "cell_type": "code",
      "source": [
        "print(5//2) #parte inteira da divisão"
      ],
      "metadata": {
        "colab": {
          "base_uri": "https://localhost:8080/"
        },
        "id": "aQl0hOE_pGV3",
        "outputId": "78c9dde8-d406-4cdc-adb5-09c3c80a5801"
      },
      "execution_count": null,
      "outputs": [
        {
          "output_type": "stream",
          "name": "stdout",
          "text": [
            "2\n"
          ]
        }
      ]
    },
    {
      "cell_type": "code",
      "source": [
        "print(5%2) #resto da divisão"
      ],
      "metadata": {
        "colab": {
          "base_uri": "https://localhost:8080/"
        },
        "id": "IPKNGb9jpPPO",
        "outputId": "a5d72d97-dbb1-41e9-d5b7-6853f46cae6b"
      },
      "execution_count": null,
      "outputs": [
        {
          "output_type": "stream",
          "name": "stdout",
          "text": [
            "1\n"
          ]
        }
      ]
    },
    {
      "cell_type": "markdown",
      "source": [
        "**Aula 3** | Variáveis e tipos de dados\n",
        "\n",
        "``variáveis devem começar com letra minúscula.``"
      ],
      "metadata": {
        "id": "C-Qm7uHxp2oR"
      }
    },
    {
      "cell_type": "code",
      "source": [
        "a = 5"
      ],
      "metadata": {
        "id": "lafYlww4p2RG"
      },
      "execution_count": null,
      "outputs": []
    },
    {
      "cell_type": "code",
      "source": [
        "a == 3 #verifica se essa afirmação é verdadeira."
      ],
      "metadata": {
        "colab": {
          "base_uri": "https://localhost:8080/"
        },
        "id": "nuLNOVBSqZWK",
        "outputId": "91e1b0d1-132d-49c1-99dd-2aeeb011e3f6"
      },
      "execution_count": null,
      "outputs": [
        {
          "output_type": "execute_result",
          "data": {
            "text/plain": [
              "False"
            ]
          },
          "metadata": {},
          "execution_count": 32
        }
      ]
    },
    {
      "cell_type": "code",
      "source": [
        "b = 7"
      ],
      "metadata": {
        "id": "ekEuhi-PqhEa"
      },
      "execution_count": null,
      "outputs": []
    },
    {
      "cell_type": "code",
      "source": [
        "c = a + b\n",
        "print(b)"
      ],
      "metadata": {
        "colab": {
          "base_uri": "https://localhost:8080/"
        },
        "id": "JHf_bWNhtcsX",
        "outputId": "dffe4617-875f-405c-94cb-eaa4c7cf493b"
      },
      "execution_count": null,
      "outputs": [
        {
          "output_type": "stream",
          "name": "stdout",
          "text": [
            "11\n"
          ]
        }
      ]
    },
    {
      "cell_type": "code",
      "source": [
        "variavel1 = 3\n",
        "variavel2 = 4\n",
        "variavel1 = 9"
      ],
      "metadata": {
        "id": "WdvDucurtlSF"
      },
      "execution_count": null,
      "outputs": []
    },
    {
      "cell_type": "code",
      "source": [
        "print(variavel1)"
      ],
      "metadata": {
        "colab": {
          "base_uri": "https://localhost:8080/"
        },
        "id": "cORQ5KDguway",
        "outputId": "6ce97682-4f07-4c3f-900c-46ea675919d7"
      },
      "execution_count": null,
      "outputs": [
        {
          "output_type": "stream",
          "name": "stdout",
          "text": [
            "9\n"
          ]
        }
      ]
    },
    {
      "cell_type": "code",
      "source": [
        "b = 11"
      ],
      "metadata": {
        "id": "oXmxdsfSweje"
      },
      "execution_count": null,
      "outputs": []
    },
    {
      "cell_type": "markdown",
      "source": [
        "\n",
        "\n",
        "---\n",
        "\n"
      ],
      "metadata": {
        "id": "PYy38epiw52S"
      }
    },
    {
      "cell_type": "code",
      "source": [
        "var = 4 #números inteiros - ocupam menos espaço de armazenamento.\n",
        "var2 = 3.5 #números não inteiros - ocupam mais espaço de armazenamento."
      ],
      "metadata": {
        "id": "32n9ZhQHwplp"
      },
      "execution_count": null,
      "outputs": []
    },
    {
      "cell_type": "code",
      "source": [
        "type(var2)  "
      ],
      "metadata": {
        "colab": {
          "base_uri": "https://localhost:8080/"
        },
        "id": "0aMue_OcxArD",
        "outputId": "507beb0e-4bb3-41f9-c529-e60d4c583ba8"
      },
      "execution_count": null,
      "outputs": [
        {
          "output_type": "execute_result",
          "data": {
            "text/plain": [
              "float"
            ]
          },
          "metadata": {},
          "execution_count": 46
        }
      ]
    },
    {
      "cell_type": "code",
      "source": [
        "palavra = 'Frase 1' #tipo sting = texto"
      ],
      "metadata": {
        "id": "CRSxouKcxMEe"
      },
      "execution_count": null,
      "outputs": []
    },
    {
      "cell_type": "code",
      "source": [
        "type(palavra)"
      ],
      "metadata": {
        "colab": {
          "base_uri": "https://localhost:8080/"
        },
        "id": "vnejonuHxdvX",
        "outputId": "9f134a99-b3cf-4134-ce10-bfc4e4b9dc73"
      },
      "execution_count": null,
      "outputs": [
        {
          "output_type": "execute_result",
          "data": {
            "text/plain": [
              "str"
            ]
          },
          "metadata": {},
          "execution_count": 48
        }
      ]
    },
    {
      "cell_type": "code",
      "source": [
        "print(var + var2) #operação matemática entre int e float"
      ],
      "metadata": {
        "colab": {
          "base_uri": "https://localhost:8080/"
        },
        "id": "qmOYmnIAxl2b",
        "outputId": "c5f3bf8d-db87-410a-87de-75a444bc1ade"
      },
      "execution_count": null,
      "outputs": [
        {
          "output_type": "stream",
          "name": "stdout",
          "text": [
            "7.5\n"
          ]
        }
      ]
    },
    {
      "cell_type": "code",
      "source": [
        "print(var + palavra) #não soma números com textos"
      ],
      "metadata": {
        "colab": {
          "base_uri": "https://localhost:8080/",
          "height": 165
        },
        "id": "nAYrRt6ExuFn",
        "outputId": "51730c66-ca57-4150-a769-2d154077f90a"
      },
      "execution_count": null,
      "outputs": [
        {
          "output_type": "error",
          "ename": "TypeError",
          "evalue": "ignored",
          "traceback": [
            "\u001b[0;31m---------------------------------------------------------------------------\u001b[0m",
            "\u001b[0;31mTypeError\u001b[0m                                 Traceback (most recent call last)",
            "\u001b[0;32m<ipython-input-50-0838302746d0>\u001b[0m in \u001b[0;36m<module>\u001b[0;34m\u001b[0m\n\u001b[0;32m----> 1\u001b[0;31m \u001b[0mprint\u001b[0m\u001b[0;34m(\u001b[0m\u001b[0mvar\u001b[0m \u001b[0;34m+\u001b[0m \u001b[0mpalavra\u001b[0m\u001b[0;34m)\u001b[0m\u001b[0;34m\u001b[0m\u001b[0;34m\u001b[0m\u001b[0m\n\u001b[0m",
            "\u001b[0;31mTypeError\u001b[0m: unsupported operand type(s) for +: 'int' and 'str'"
          ]
        }
      ]
    },
    {
      "cell_type": "markdown",
      "source": [
        "**Aula 6** | Função input()"
      ],
      "metadata": {
        "id": "oqo3RGH8x8k9"
      }
    },
    {
      "cell_type": "code",
      "source": [
        "nome = input('qual o seu nome?')"
      ],
      "metadata": {
        "colab": {
          "base_uri": "https://localhost:8080/"
        },
        "id": "iSzqdC6Mx6c1",
        "outputId": "dfed749e-45ad-45a9-872a-6470ffcaaed0"
      },
      "execution_count": null,
      "outputs": [
        {
          "name": "stdout",
          "output_type": "stream",
          "text": [
            "qual o seu nome?Fernanda Pilat\n"
          ]
        }
      ]
    },
    {
      "cell_type": "code",
      "source": [
        "print(nome)"
      ],
      "metadata": {
        "colab": {
          "base_uri": "https://localhost:8080/"
        },
        "id": "i6fQm3d1zMqM",
        "outputId": "8e80adb7-211c-49f0-ad6d-626b350bdd5d"
      },
      "execution_count": null,
      "outputs": [
        {
          "output_type": "stream",
          "name": "stdout",
          "text": [
            "Fernanda Pilat\n"
          ]
        }
      ]
    },
    {
      "cell_type": "code",
      "source": [
        "idade = input('Qual a sua idade? ')"
      ],
      "metadata": {
        "colab": {
          "base_uri": "https://localhost:8080/"
        },
        "id": "vRW9h_S5zX2c",
        "outputId": "a6cd28c9-632d-47c0-e2f6-065b880e7ccd"
      },
      "execution_count": null,
      "outputs": [
        {
          "name": "stdout",
          "output_type": "stream",
          "text": [
            "Qual a sua idade? 26\n"
          ]
        }
      ]
    },
    {
      "cell_type": "code",
      "source": [
        "print(idade)"
      ],
      "metadata": {
        "colab": {
          "base_uri": "https://localhost:8080/"
        },
        "id": "UmLh8dFszdmd",
        "outputId": "1cd31acc-3d1d-46fb-93c1-029792578695"
      },
      "execution_count": null,
      "outputs": [
        {
          "output_type": "stream",
          "name": "stdout",
          "text": [
            "26\n"
          ]
        }
      ]
    },
    {
      "cell_type": "code",
      "source": [
        "print(idade*2)"
      ],
      "metadata": {
        "colab": {
          "base_uri": "https://localhost:8080/"
        },
        "id": "U6FCskQMzqdz",
        "outputId": "2fde4e23-96ea-4e41-ff56-5e6948126cc5"
      },
      "execution_count": null,
      "outputs": [
        {
          "output_type": "stream",
          "name": "stdout",
          "text": [
            "2626\n"
          ]
        }
      ]
    },
    {
      "cell_type": "code",
      "source": [
        "type(idade)"
      ],
      "metadata": {
        "colab": {
          "base_uri": "https://localhost:8080/"
        },
        "id": "XLPs-cR5z5Nr",
        "outputId": "ba772734-5ba1-4390-c9d1-e17226f54871"
      },
      "execution_count": null,
      "outputs": [
        {
          "output_type": "execute_result",
          "data": {
            "text/plain": [
              "str"
            ]
          },
          "metadata": {},
          "execution_count": 57
        }
      ]
    },
    {
      "cell_type": "code",
      "source": [
        "a = 'Oi '"
      ],
      "metadata": {
        "id": "GWjdjkuzz8sp"
      },
      "execution_count": null,
      "outputs": []
    },
    {
      "cell_type": "code",
      "source": [
        "print(a*50)"
      ],
      "metadata": {
        "colab": {
          "base_uri": "https://localhost:8080/"
        },
        "id": "e1h2BRT-0IXo",
        "outputId": "233447b5-0fd5-49cc-b6e8-b4bc82fd9d2a"
      },
      "execution_count": null,
      "outputs": [
        {
          "output_type": "stream",
          "name": "stdout",
          "text": [
            "Oi Oi Oi Oi Oi Oi Oi Oi Oi Oi Oi Oi Oi Oi Oi Oi Oi Oi Oi Oi Oi Oi Oi Oi Oi Oi Oi Oi Oi Oi Oi Oi Oi Oi Oi Oi Oi Oi Oi Oi Oi Oi Oi Oi Oi Oi Oi Oi Oi Oi \n"
          ]
        }
      ]
    },
    {
      "cell_type": "code",
      "source": [
        "idade = int(input('Qual a sua idade? '))"
      ],
      "metadata": {
        "colab": {
          "base_uri": "https://localhost:8080/"
        },
        "id": "L_Skru9B0ODE",
        "outputId": "93080f96-846b-4e0d-8f74-52e8a724abbf"
      },
      "execution_count": null,
      "outputs": [
        {
          "name": "stdout",
          "output_type": "stream",
          "text": [
            "Qual a sua idade? 26\n"
          ]
        }
      ]
    },
    {
      "cell_type": "code",
      "source": [
        "type(idade)"
      ],
      "metadata": {
        "colab": {
          "base_uri": "https://localhost:8080/"
        },
        "id": "9k1EdWG10heo",
        "outputId": "93fdc061-5606-4e79-e10b-612632570a97"
      },
      "execution_count": null,
      "outputs": [
        {
          "output_type": "execute_result",
          "data": {
            "text/plain": [
              "int"
            ]
          },
          "metadata": {},
          "execution_count": 67
        }
      ]
    },
    {
      "cell_type": "code",
      "source": [
        "print(idade*2)"
      ],
      "metadata": {
        "colab": {
          "base_uri": "https://localhost:8080/"
        },
        "id": "yMOy7Ly90j2C",
        "outputId": "5a961234-35ed-4dce-ea23-8ef79a9fba9e"
      },
      "execution_count": null,
      "outputs": [
        {
          "output_type": "stream",
          "name": "stdout",
          "text": [
            "52\n"
          ]
        }
      ]
    },
    {
      "cell_type": "markdown",
      "source": [
        "**Aula 7** | .format() e %s"
      ],
      "metadata": {
        "id": "uhdhkKaO1SXB"
      }
    },
    {
      "cell_type": "code",
      "source": [
        "fruta = 'laranja'"
      ],
      "metadata": {
        "id": "abXEm-Qh0nAx"
      },
      "execution_count": null,
      "outputs": []
    },
    {
      "cell_type": "code",
      "source": [
        "type(fruta)"
      ],
      "metadata": {
        "colab": {
          "base_uri": "https://localhost:8080/"
        },
        "id": "Gcpkx4tS2R4q",
        "outputId": "bee666de-a06b-4afb-fe13-c421355daa72"
      },
      "execution_count": null,
      "outputs": [
        {
          "output_type": "execute_result",
          "data": {
            "text/plain": [
              "str"
            ]
          },
          "metadata": {},
          "execution_count": 84
        }
      ]
    },
    {
      "cell_type": "code",
      "source": [
        "print('Suco de %s é o meu favorito!' %fruta)"
      ],
      "metadata": {
        "colab": {
          "base_uri": "https://localhost:8080/"
        },
        "id": "n0id0J_q1oFF",
        "outputId": "26983955-cb64-481d-fb88-07a71176bf49"
      },
      "execution_count": null,
      "outputs": [
        {
          "output_type": "stream",
          "name": "stdout",
          "text": [
            "Suco de laranja é o meu favorito!\n"
          ]
        }
      ]
    },
    {
      "cell_type": "code",
      "source": [
        "print('Suco de {} é o meu favorito!'.format(fruta))"
      ],
      "metadata": {
        "colab": {
          "base_uri": "https://localhost:8080/"
        },
        "id": "e4m5zag33hmN",
        "outputId": "f27e690e-989d-4cda-f890-4d021922c005"
      },
      "execution_count": null,
      "outputs": [
        {
          "output_type": "stream",
          "name": "stdout",
          "text": [
            "Suco de laranja é o meu favorito!\n"
          ]
        }
      ]
    },
    {
      "cell_type": "code",
      "source": [
        "cor1 = 'azul'\n",
        "cor2 = 'rosa'"
      ],
      "metadata": {
        "id": "YHEQQIqH4jq-"
      },
      "execution_count": null,
      "outputs": []
    },
    {
      "cell_type": "code",
      "source": [
        "print('o céu é {0}, a flor é {1} e o meu carro é {1}.'.format(cor1, cor2))"
      ],
      "metadata": {
        "colab": {
          "base_uri": "https://localhost:8080/"
        },
        "id": "ZmvbFbAs46FF",
        "outputId": "7062b48c-ec14-4de1-b91f-850e1babf38d"
      },
      "execution_count": null,
      "outputs": [
        {
          "output_type": "stream",
          "name": "stdout",
          "text": [
            "o céu é azul, a flor é rosa e o meu carro é rosa.\n"
          ]
        }
      ]
    },
    {
      "cell_type": "code",
      "source": [
        "conta = 17/3\n",
        "print(conta)"
      ],
      "metadata": {
        "colab": {
          "base_uri": "https://localhost:8080/"
        },
        "id": "y2nSU0ni8FNI",
        "outputId": "be680dad-aa0c-4731-ccc6-1eab6bcb6f95"
      },
      "execution_count": null,
      "outputs": [
        {
          "output_type": "stream",
          "name": "stdout",
          "text": [
            "5.666666666666667\n"
          ]
        }
      ]
    },
    {
      "cell_type": "code",
      "source": [
        "print('o resultado da conta é: {}'.format(conta))"
      ],
      "metadata": {
        "colab": {
          "base_uri": "https://localhost:8080/"
        },
        "id": "81ZVtsxv8Qf9",
        "outputId": "66ebeb7a-2a5b-4f28-f34c-473d69773e47"
      },
      "execution_count": null,
      "outputs": [
        {
          "output_type": "stream",
          "name": "stdout",
          "text": [
            "o resultado da conta é: 5.666666666666667\n"
          ]
        }
      ]
    },
    {
      "cell_type": "code",
      "source": [
        "print('o resultado da conta é: {:.2f}'.format(conta))"
      ],
      "metadata": {
        "colab": {
          "base_uri": "https://localhost:8080/"
        },
        "id": "bcpAFkUc8faQ",
        "outputId": "a78e3341-5857-4869-9999-40b23d95f48c"
      },
      "execution_count": null,
      "outputs": [
        {
          "output_type": "stream",
          "name": "stdout",
          "text": [
            "o resultado da conta é: 5.67\n"
          ]
        }
      ]
    },
    {
      "cell_type": "markdown",
      "source": [
        "**Aula 8** | Condições If e Else "
      ],
      "metadata": {
        "id": "pIQVSSdC9Imi"
      }
    },
    {
      "cell_type": "code",
      "source": [
        "comida = 'pizza'\n",
        "if comida == 'pizza':\n",
        "  print('possui muitas calorias!')"
      ],
      "metadata": {
        "colab": {
          "base_uri": "https://localhost:8080/"
        },
        "id": "euIrWgIb9FaM",
        "outputId": "fa190c0e-d935-4ba9-9646-df30c3c591c9"
      },
      "execution_count": null,
      "outputs": [
        {
          "output_type": "stream",
          "name": "stdout",
          "text": [
            "possui muitas calorias!\n"
          ]
        }
      ]
    },
    {
      "cell_type": "code",
      "source": [
        "comida = 'pizza'\n",
        "if comida == 'pizza':\n",
        "  print('possui muitas calorias!')\n",
        "else:\n",
        "  print('desconheço as calorias!')"
      ],
      "metadata": {
        "colab": {
          "base_uri": "https://localhost:8080/"
        },
        "id": "WSFuBcJn86TW",
        "outputId": "6e7ffebc-2245-40ac-e4b2-250ae7eff3cd"
      },
      "execution_count": null,
      "outputs": [
        {
          "output_type": "stream",
          "name": "stdout",
          "text": [
            "possui muitas calorias!\n"
          ]
        }
      ]
    },
    {
      "cell_type": "code",
      "source": [
        "comida = 'abóbora'\n",
        "if comida == 'pizza':\n",
        "  print('possui muitas calorias!')\n",
        "elif comida == 'abóbora':\n",
        "  print('possui poucas calorias!')\n",
        "elif comida == 'churrasco':\n",
        "  print('possui muitas calorias!')\n",
        "elif comida == 'melão':\n",
        "  print('possui poucas calorias!')\n",
        "else:\n",
        "  print('desconheço as calorias!')"
      ],
      "metadata": {
        "colab": {
          "base_uri": "https://localhost:8080/"
        },
        "id": "jjz2PAkW4ji-",
        "outputId": "a892d6a2-dcd0-4e6a-c5ab-d6218a7839b3"
      },
      "execution_count": null,
      "outputs": [
        {
          "output_type": "stream",
          "name": "stdout",
          "text": [
            "possui poucas calorias!\n"
          ]
        }
      ]
    },
    {
      "cell_type": "code",
      "source": [
        "comida = 'caldo'\n",
        "if comida != 'pizza':\n",
        "  print('não é pizza!')\n",
        "else:\n",
        "  print('é pizza!')"
      ],
      "metadata": {
        "colab": {
          "base_uri": "https://localhost:8080/"
        },
        "id": "aWqKgOve7Ew4",
        "outputId": "9d1fc6a7-e420-4b72-94e4-a59bb2f42e41"
      },
      "execution_count": null,
      "outputs": [
        {
          "output_type": "stream",
          "name": "stdout",
          "text": [
            "não é pizza!\n"
          ]
        }
      ]
    },
    {
      "cell_type": "code",
      "source": [
        "ano = int(input('Qual ano você nasceu? '))\n",
        "if ano > 2004:\n",
        "  print('você é menor de idade!')\n",
        "else:\n",
        "  print('você é maior de idade!')"
      ],
      "metadata": {
        "colab": {
          "base_uri": "https://localhost:8080/"
        },
        "id": "QxPnBZ-t7pjT",
        "outputId": "54761175-91fa-42fb-85c4-6e2a9f8c999a"
      },
      "execution_count": null,
      "outputs": [
        {
          "output_type": "stream",
          "name": "stdout",
          "text": [
            "Qual ano você nasceu? 2016\n",
            "você é menor de idade!\n"
          ]
        }
      ]
    },
    {
      "cell_type": "code",
      "source": [
        "ano = int(input('Qual ano você nasceu? '))\n",
        "idade = 2022 - ano\n",
        "if idade > 18:\n",
        "  print('você é maior de idade!')\n",
        "else:\n",
        "  print('você é menor de idade!')"
      ],
      "metadata": {
        "colab": {
          "base_uri": "https://localhost:8080/"
        },
        "id": "YwPFIAEkAMbQ",
        "outputId": "b0813b11-b83a-474f-e905-c1869aaec8d6"
      },
      "execution_count": null,
      "outputs": [
        {
          "output_type": "stream",
          "name": "stdout",
          "text": [
            "Qual ano você nasceu? 2022\n",
            "você é menor de idade!\n"
          ]
        }
      ]
    },
    {
      "cell_type": "markdown",
      "source": [
        "**Aula 9** | Como usar o Loop for?"
      ],
      "metadata": {
        "id": "QfoFfwKlBKXe"
      }
    },
    {
      "cell_type": "code",
      "source": [
        "for i in range(5):\n",
        "  print(i)"
      ],
      "metadata": {
        "colab": {
          "base_uri": "https://localhost:8080/"
        },
        "id": "-RoMlCm4BQ4m",
        "outputId": "80f70b5f-aaa0-4b5f-9992-00a5b9cee45e"
      },
      "execution_count": null,
      "outputs": [
        {
          "output_type": "stream",
          "name": "stdout",
          "text": [
            "0\n",
            "1\n",
            "2\n",
            "3\n",
            "4\n"
          ]
        }
      ]
    },
    {
      "cell_type": "code",
      "source": [
        "for i in range(5):\n",
        "  print('vou aprender!')"
      ],
      "metadata": {
        "colab": {
          "base_uri": "https://localhost:8080/"
        },
        "id": "jvCaw9FyHKQh",
        "outputId": "27fbe896-8abf-48a0-c17e-40d6539140da"
      },
      "execution_count": null,
      "outputs": [
        {
          "output_type": "stream",
          "name": "stdout",
          "text": [
            "vou aprender!\n",
            "vou aprender!\n",
            "vou aprender!\n",
            "vou aprender!\n",
            "vou aprender!\n"
          ]
        }
      ]
    },
    {
      "cell_type": "code",
      "source": [
        "for i in range(5):\n",
        "  print(i*2)"
      ],
      "metadata": {
        "colab": {
          "base_uri": "https://localhost:8080/"
        },
        "id": "66O4W6ZBHujM",
        "outputId": "9d9f42da-7de9-4ef9-ed26-1b9c60d80ce1"
      },
      "execution_count": null,
      "outputs": [
        {
          "output_type": "stream",
          "name": "stdout",
          "text": [
            "0\n",
            "2\n",
            "4\n",
            "6\n",
            "8\n"
          ]
        }
      ]
    },
    {
      "cell_type": "code",
      "source": [
        "a = 0\n",
        "for i in range(5):\n",
        "  a = a + 1\n",
        "print(a)"
      ],
      "metadata": {
        "colab": {
          "base_uri": "https://localhost:8080/"
        },
        "id": "QaupMur_H1zp",
        "outputId": "de45e123-b262-48ef-bf6e-4ab26e6a8c3c"
      },
      "execution_count": null,
      "outputs": [
        {
          "output_type": "stream",
          "name": "stdout",
          "text": [
            "5\n"
          ]
        }
      ]
    },
    {
      "cell_type": "code",
      "source": [
        "a = 0\n",
        "b = 10\n",
        "for i in range(b):\n",
        "  print('Frase')"
      ],
      "metadata": {
        "colab": {
          "base_uri": "https://localhost:8080/"
        },
        "id": "zf0LvhlhI8JP",
        "outputId": "03fa1445-811f-4e3b-85a7-3e4eea75cdc8"
      },
      "execution_count": null,
      "outputs": [
        {
          "output_type": "stream",
          "name": "stdout",
          "text": [
            "Frase\n",
            "Frase\n",
            "Frase\n",
            "Frase\n",
            "Frase\n",
            "Frase\n",
            "Frase\n",
            "Frase\n",
            "Frase\n",
            "Frase\n"
          ]
        }
      ]
    },
    {
      "cell_type": "code",
      "source": [
        "palavra = 'math'\n",
        "for i in palavra:\n",
        "  print(i)"
      ],
      "metadata": {
        "colab": {
          "base_uri": "https://localhost:8080/"
        },
        "id": "HshsR3V8JZSg",
        "outputId": "8f688727-1fb0-4c2f-c6c1-28dbddd73381"
      },
      "execution_count": null,
      "outputs": [
        {
          "output_type": "stream",
          "name": "stdout",
          "text": [
            "m\n",
            "a\n",
            "t\n",
            "h\n"
          ]
        }
      ]
    },
    {
      "cell_type": "code",
      "source": [
        "lista = [2, 54, 8, 4, 4]\n",
        "for num in lista:\n",
        "  print(num)"
      ],
      "metadata": {
        "colab": {
          "base_uri": "https://localhost:8080/"
        },
        "id": "n0ZxB5AxJxm1",
        "outputId": "08656d61-2ab8-4b51-9e17-0bef9703465c"
      },
      "execution_count": null,
      "outputs": [
        {
          "output_type": "stream",
          "name": "stdout",
          "text": [
            "2\n",
            "54\n",
            "8\n",
            "4\n",
            "4\n"
          ]
        }
      ]
    },
    {
      "cell_type": "code",
      "source": [
        "lista = [2, 'oi', 8, 4, 4]\n",
        "for num in lista:\n",
        "  print(num)"
      ],
      "metadata": {
        "colab": {
          "base_uri": "https://localhost:8080/"
        },
        "id": "hcd4RnQZKv1a",
        "outputId": "391cd938-dfe3-4e05-da0f-5226c180f243"
      },
      "execution_count": null,
      "outputs": [
        {
          "output_type": "stream",
          "name": "stdout",
          "text": [
            "2\n",
            "oi\n",
            "8\n",
            "4\n",
            "4\n"
          ]
        }
      ]
    },
    {
      "cell_type": "markdown",
      "source": [
        "**Aula 10** | While e Break"
      ],
      "metadata": {
        "id": "_GfficAWLDLu"
      }
    },
    {
      "cell_type": "code",
      "source": [
        "contador = 0\n",
        "while contador < 10:\n",
        "  print('ainda não deu!')\n",
        "  contador = contador + 1\n",
        "print('agora deu!')"
      ],
      "metadata": {
        "colab": {
          "base_uri": "https://localhost:8080/"
        },
        "id": "z0oQMoxNK4Dp",
        "outputId": "a3062ce8-5fe0-49b1-9506-932079cdb2fe"
      },
      "execution_count": null,
      "outputs": [
        {
          "output_type": "stream",
          "name": "stdout",
          "text": [
            "ainda não deu!\n",
            "ainda não deu!\n",
            "ainda não deu!\n",
            "ainda não deu!\n",
            "ainda não deu!\n",
            "ainda não deu!\n",
            "ainda não deu!\n",
            "ainda não deu!\n",
            "ainda não deu!\n",
            "ainda não deu!\n",
            "agora deu!\n"
          ]
        }
      ]
    },
    {
      "cell_type": "code",
      "source": [
        "import time\n",
        "contador = 0\n",
        "while contador < 10:\n",
        "  print('ainda não deu!')\n",
        "  contador = contador + 1\n",
        "  time.sleep(1)\n",
        "print('agora deu!')"
      ],
      "metadata": {
        "colab": {
          "base_uri": "https://localhost:8080/"
        },
        "id": "xEz1TX2ELoJU",
        "outputId": "ff1bcef4-83ce-4df6-dace-f499743ec8e5"
      },
      "execution_count": null,
      "outputs": [
        {
          "output_type": "stream",
          "name": "stdout",
          "text": [
            "ainda não deu!\n",
            "ainda não deu!\n",
            "ainda não deu!\n",
            "ainda não deu!\n",
            "ainda não deu!\n",
            "ainda não deu!\n",
            "ainda não deu!\n",
            "ainda não deu!\n",
            "ainda não deu!\n",
            "ainda não deu!\n",
            "agora deu!\n"
          ]
        }
      ]
    },
    {
      "cell_type": "code",
      "source": [
        "import time\n",
        "contador = 0\n",
        "while contador < 10:\n",
        "  print('ainda não deu!')\n",
        "  contador = contador + 1\n",
        "  if contador == 6:\n",
        "    break\n",
        "  time.sleep(1)\n",
        "print('agora deu!')"
      ],
      "metadata": {
        "colab": {
          "base_uri": "https://localhost:8080/"
        },
        "id": "Qu_q8I1ibINZ",
        "outputId": "5e71745b-4885-46a7-b951-b9d4abf36b20"
      },
      "execution_count": null,
      "outputs": [
        {
          "output_type": "stream",
          "name": "stdout",
          "text": [
            "ainda não deu!\n",
            "ainda não deu!\n",
            "ainda não deu!\n",
            "ainda não deu!\n",
            "ainda não deu!\n",
            "ainda não deu!\n",
            "agora deu!\n"
          ]
        }
      ]
    },
    {
      "cell_type": "code",
      "source": [
        "numero = int(input('Digite um número: '))\n",
        "fatorial = numero\n",
        "contador = 1\n",
        "while (numero - contador)>1:\n",
        "  fatorial = fatorial*(numero-contador)\n",
        "  contador += 1\n",
        "print('{0}! = {1}'.format(numero,fatorial))"
      ],
      "metadata": {
        "colab": {
          "base_uri": "https://localhost:8080/"
        },
        "id": "uf81RBmHc7BB",
        "outputId": "203185bc-de8a-4e92-e5ae-8e4814d73d8c"
      },
      "execution_count": null,
      "outputs": [
        {
          "output_type": "stream",
          "name": "stdout",
          "text": [
            "Digite um número: 20\n",
            "20! = 2432902008176640000\n"
          ]
        }
      ]
    },
    {
      "cell_type": "markdown",
      "source": [
        "**Aula 11** | Módulos e Bibliotecas Python"
      ],
      "metadata": {
        "id": "5hDQv8G2rGSh"
      }
    },
    {
      "cell_type": "code",
      "source": [
        "import math\n",
        "math.factorial(5)"
      ],
      "metadata": {
        "colab": {
          "base_uri": "https://localhost:8080/"
        },
        "id": "adq3bb4krNv5",
        "outputId": "7f5844bb-8f58-4a55-cc55-54e26d65bef5"
      },
      "execution_count": null,
      "outputs": [
        {
          "output_type": "execute_result",
          "data": {
            "text/plain": [
              "120"
            ]
          },
          "metadata": {},
          "execution_count": 10
        }
      ]
    },
    {
      "cell_type": "code",
      "source": [
        "import datetime\n",
        "datetime.date.today()"
      ],
      "metadata": {
        "colab": {
          "base_uri": "https://localhost:8080/"
        },
        "id": "8p41cYwEvpLV",
        "outputId": "e905f62c-90fe-4ba5-cb5e-1bc584465148"
      },
      "execution_count": null,
      "outputs": [
        {
          "output_type": "execute_result",
          "data": {
            "text/plain": [
              "datetime.date(2022, 9, 16)"
            ]
          },
          "metadata": {},
          "execution_count": 20
        }
      ]
    },
    {
      "cell_type": "code",
      "source": [
        "import datetime\n",
        "datetime.date.today().year"
      ],
      "metadata": {
        "colab": {
          "base_uri": "https://localhost:8080/"
        },
        "id": "shTeyC9Jx0Yu",
        "outputId": "990e9832-6934-40ff-97e4-0ed4e7e07149"
      },
      "execution_count": null,
      "outputs": [
        {
          "output_type": "execute_result",
          "data": {
            "text/plain": [
              "2022"
            ]
          },
          "metadata": {},
          "execution_count": 21
        }
      ]
    },
    {
      "cell_type": "code",
      "source": [
        "import datetime\n",
        "datetime.date.isoformat(datetime.date.today())"
      ],
      "metadata": {
        "colab": {
          "base_uri": "https://localhost:8080/",
          "height": 35
        },
        "id": "RwD3dktZypc3",
        "outputId": "fb46f22f-5d80-46f2-ac64-1711abb4d649"
      },
      "execution_count": null,
      "outputs": [
        {
          "output_type": "execute_result",
          "data": {
            "text/plain": [
              "'2022-09-16'"
            ],
            "application/vnd.google.colaboratory.intrinsic+json": {
              "type": "string"
            }
          },
          "metadata": {},
          "execution_count": 23
        }
      ]
    },
    {
      "cell_type": "code",
      "source": [
        "from datetime import date\n",
        "date.isoformat(date.today())"
      ],
      "metadata": {
        "colab": {
          "base_uri": "https://localhost:8080/",
          "height": 35
        },
        "id": "JGS6FqfF1pKx",
        "outputId": "c06e9630-2c90-4108-d1a5-fe4928558b25"
      },
      "execution_count": null,
      "outputs": [
        {
          "output_type": "execute_result",
          "data": {
            "text/plain": [
              "'2022-09-16'"
            ],
            "application/vnd.google.colaboratory.intrinsic+json": {
              "type": "string"
            }
          },
          "metadata": {},
          "execution_count": 26
        }
      ]
    },
    {
      "cell_type": "markdown",
      "source": [
        "**Aula 12** | Funções"
      ],
      "metadata": {
        "id": "Dtcl9uxR4kG4"
      }
    },
    {
      "cell_type": "code",
      "source": [
        "def parabens():\n",
        "  print(' Parabéns para você\\n Nessa data querida (...)\\n') #\\n representa uma quebra de linha."
      ],
      "metadata": {
        "id": "AzIZKNbN16II"
      },
      "execution_count": null,
      "outputs": []
    },
    {
      "cell_type": "code",
      "source": [
        "parabens()"
      ],
      "metadata": {
        "colab": {
          "base_uri": "https://localhost:8080/"
        },
        "id": "z_qc34z59uTz",
        "outputId": "8f409df1-0146-4393-9784-cf94b38f4fcc"
      },
      "execution_count": null,
      "outputs": [
        {
          "output_type": "stream",
          "name": "stdout",
          "text": [
            " Parabéns para você\n",
            " Nessa data querida (...)\n",
            "\n"
          ]
        }
      ]
    },
    {
      "cell_type": "code",
      "source": [
        "def temLetrau():\n",
        "  frase = input('Digite uma frase: ')\n",
        "  if 'u' in frase:\n",
        "    print('Você utilizou a letra u')\n",
        "  else:\n",
        "    print('Você não utilizou a letra u')"
      ],
      "metadata": {
        "id": "aH6tz4RG97_n"
      },
      "execution_count": null,
      "outputs": []
    },
    {
      "cell_type": "markdown",
      "source": [
        "# Nova seção"
      ],
      "metadata": {
        "id": "ETpa19qlxhAT"
      }
    },
    {
      "cell_type": "code",
      "source": [
        "temLetrau()"
      ],
      "metadata": {
        "colab": {
          "base_uri": "https://localhost:8080/"
        },
        "id": "QgX5hOUN-i7S",
        "outputId": "5c398268-b143-4548-8e39-a329d16d980c"
      },
      "execution_count": null,
      "outputs": [
        {
          "output_type": "stream",
          "name": "stdout",
          "text": [
            "Digite uma frase: Eu amo você\n",
            "Você utilizou a letra u\n"
          ]
        }
      ]
    },
    {
      "cell_type": "code",
      "source": [
        "temLetrau()"
      ],
      "metadata": {
        "colab": {
          "base_uri": "https://localhost:8080/"
        },
        "id": "QockLtZy-qRv",
        "outputId": "837f345c-44e1-4728-fb2d-f322360f9744"
      },
      "execution_count": null,
      "outputs": [
        {
          "output_type": "stream",
          "name": "stdout",
          "text": [
            "Digite uma frase: Hoje o dia esta nublado!\n",
            "Você utilizou a letra u\n"
          ]
        }
      ]
    },
    {
      "cell_type": "code",
      "source": [
        "def somaQuadrados(a,b):\n",
        "  somaQ = a**2 + b**2\n",
        "  return somaQ"
      ],
      "metadata": {
        "id": "PzO3gK2x-vmq"
      },
      "execution_count": null,
      "outputs": []
    },
    {
      "cell_type": "code",
      "source": [
        "somaQuadrados(2,3)"
      ],
      "metadata": {
        "colab": {
          "base_uri": "https://localhost:8080/"
        },
        "id": "AfrZwMZz_LBZ",
        "outputId": "470f895c-d087-4619-c5df-45516784e36b"
      },
      "execution_count": null,
      "outputs": [
        {
          "output_type": "execute_result",
          "data": {
            "text/plain": [
              "13"
            ]
          },
          "metadata": {},
          "execution_count": 40
        }
      ]
    }
  ]
}
