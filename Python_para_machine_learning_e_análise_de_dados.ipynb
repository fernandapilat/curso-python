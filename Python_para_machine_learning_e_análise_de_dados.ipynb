{
  "nbformat": 4,
  "nbformat_minor": 0,
  "metadata": {
    "colab": {
      "provenance": [],
      "authorship_tag": "ABX9TyMrCj7kbEaBYAKVpXummOv3",
      "include_colab_link": true
    },
    "kernelspec": {
      "name": "python3",
      "display_name": "Python 3"
    },
    "language_info": {
      "name": "python"
    }
  },
  "cells": [
    {
      "cell_type": "markdown",
      "metadata": {
        "id": "view-in-github",
        "colab_type": "text"
      },
      "source": [
        "<a href=\"https://colab.research.google.com/github/fernandapilat/cursos-python/blob/main/Python_para_machine_learning_e_an%C3%A1lise_de_dados.ipynb\" target=\"_parent\"><img src=\"https://colab.research.google.com/assets/colab-badge.svg\" alt=\"Open In Colab\"/></a>"
      ]
    },
    {
      "cell_type": "markdown",
      "source": [
        "**Listas**"
      ],
      "metadata": {
        "id": "NRKUfKVYBmNc"
      }
    },
    {
      "cell_type": "code",
      "source": [
        "lista1 = [1, 2, 3]"
      ],
      "metadata": {
        "id": "CAQpUVzrjpBU"
      },
      "execution_count": null,
      "outputs": []
    },
    {
      "cell_type": "code",
      "source": [
        "type(lista1)"
      ],
      "metadata": {
        "colab": {
          "base_uri": "https://localhost:8080/"
        },
        "id": "h0V7fV5Mn8ID",
        "outputId": "60118bba-e7c3-4160-e851-d9286e16bf5f"
      },
      "execution_count": null,
      "outputs": [
        {
          "output_type": "execute_result",
          "data": {
            "text/plain": [
              "list"
            ]
          },
          "metadata": {},
          "execution_count": 2
        }
      ]
    },
    {
      "cell_type": "code",
      "source": [
        "lista2 = [[1,2,3], [4,5,6], [7,8,9]]"
      ],
      "metadata": {
        "id": "fASbjOHvn-5c"
      },
      "execution_count": null,
      "outputs": []
    },
    {
      "cell_type": "code",
      "source": [
        "type(lista2)"
      ],
      "metadata": {
        "colab": {
          "base_uri": "https://localhost:8080/"
        },
        "id": "dcLBAB53oYYw",
        "outputId": "f8e3a1cd-a4bd-4dc1-fc37-90b900c69cb2"
      },
      "execution_count": null,
      "outputs": [
        {
          "output_type": "execute_result",
          "data": {
            "text/plain": [
              "list"
            ]
          },
          "metadata": {},
          "execution_count": 4
        }
      ]
    },
    {
      "cell_type": "code",
      "source": [
        "lista1[0]"
      ],
      "metadata": {
        "colab": {
          "base_uri": "https://localhost:8080/"
        },
        "id": "6-mEZLKYofc9",
        "outputId": "2b07c40f-2edd-4371-92fa-35b67c47330c"
      },
      "execution_count": null,
      "outputs": [
        {
          "output_type": "execute_result",
          "data": {
            "text/plain": [
              "1"
            ]
          },
          "metadata": {},
          "execution_count": 5
        }
      ]
    },
    {
      "cell_type": "markdown",
      "source": [
        "Filtro de um elemento dentro de uma lista contida em outra lista:"
      ],
      "metadata": {
        "id": "Bgj4LFjp3Hri"
      }
    },
    {
      "cell_type": "code",
      "source": [
        "lista2[0][2]"
      ],
      "metadata": {
        "colab": {
          "base_uri": "https://localhost:8080/"
        },
        "id": "jBAypUAqopAW",
        "outputId": "56a821ce-86ce-4035-9875-8e2e9de932e1"
      },
      "execution_count": null,
      "outputs": [
        {
          "output_type": "execute_result",
          "data": {
            "text/plain": [
              "3"
            ]
          },
          "metadata": {},
          "execution_count": 6
        }
      ]
    },
    {
      "cell_type": "code",
      "source": [
        " select = lista2[1]\n",
        " print(select)"
      ],
      "metadata": {
        "colab": {
          "base_uri": "https://localhost:8080/"
        },
        "id": "7VG7u40Xo9wS",
        "outputId": "f579130d-edfb-4e64-8896-8c7a2cfc8bd4"
      },
      "execution_count": null,
      "outputs": [
        {
          "output_type": "stream",
          "name": "stdout",
          "text": [
            "[4, 5, 6]\n"
          ]
        }
      ]
    },
    {
      "cell_type": "code",
      "source": [
        "type(select)"
      ],
      "metadata": {
        "colab": {
          "base_uri": "https://localhost:8080/"
        },
        "id": "aoINL5e309b2",
        "outputId": "31f61d89-5038-4325-cd2c-62e75ba2c445"
      },
      "execution_count": null,
      "outputs": [
        {
          "output_type": "execute_result",
          "data": {
            "text/plain": [
              "list"
            ]
          },
          "metadata": {},
          "execution_count": 8
        }
      ]
    },
    {
      "cell_type": "code",
      "source": [
        "select = lista2[0][1]\n",
        "print(select)"
      ],
      "metadata": {
        "colab": {
          "base_uri": "https://localhost:8080/"
        },
        "id": "oLm5x4mR1BX1",
        "outputId": "1cced5db-8f31-4fe7-d33d-96f0f0e47a22"
      },
      "execution_count": null,
      "outputs": [
        {
          "output_type": "stream",
          "name": "stdout",
          "text": [
            "2\n"
          ]
        }
      ]
    },
    {
      "cell_type": "code",
      "source": [
        "  type(select)"
      ],
      "metadata": {
        "colab": {
          "base_uri": "https://localhost:8080/"
        },
        "id": "a89IG0dx1IdP",
        "outputId": "1ac18b29-001c-4f84-aa58-febf884eb4cb"
      },
      "execution_count": null,
      "outputs": [
        {
          "output_type": "execute_result",
          "data": {
            "text/plain": [
              "int"
            ]
          },
          "metadata": {},
          "execution_count": 10
        }
      ]
    },
    {
      "cell_type": "markdown",
      "source": [
        "---\n",
        "**Sorteio**: ainda falando de listas, mas sorteando informações."
      ],
      "metadata": {
        "id": "Dno6YHyh2zak"
      }
    },
    {
      "cell_type": "code",
      "source": [
        "import random as rd\n",
        "cidades = ['São Paulo', 'Rio de Janeiro', 'Belo Horizonte', 'Porto Alegre']\n",
        "escolhida = rd.choice(cidades)\n",
        "print('A cidade Escolhida é:', escolhida,)"
      ],
      "metadata": {
        "colab": {
          "base_uri": "https://localhost:8080/"
        },
        "id": "8eH7jkBP1wkK",
        "outputId": "975019f6-49f9-4bc8-a569-901a9914b786"
      },
      "execution_count": null,
      "outputs": [
        {
          "output_type": "stream",
          "name": "stdout",
          "text": [
            "A cidade Escolhida é: Porto Alegre\n"
          ]
        }
      ]
    },
    {
      "cell_type": "code",
      "source": [
        "a = [1,2,3]"
      ],
      "metadata": {
        "id": "XUpWpLUr2MxR"
      },
      "execution_count": null,
      "outputs": []
    },
    {
      "cell_type": "code",
      "source": [
        "a.append(15)\n",
        "print(a)"
      ],
      "metadata": {
        "colab": {
          "base_uri": "https://localhost:8080/"
        },
        "id": "DWlyFVjr3nju",
        "outputId": "41d2aee6-77b0-4dc1-e57a-d57ac4c756fc"
      },
      "execution_count": null,
      "outputs": [
        {
          "output_type": "stream",
          "name": "stdout",
          "text": [
            "[1, 2, 3, 15]\n"
          ]
        }
      ]
    },
    {
      "cell_type": "code",
      "source": [
        "b = [7,8,9]"
      ],
      "metadata": {
        "id": "WH8IY9Ea3nBG"
      },
      "execution_count": null,
      "outputs": []
    },
    {
      "cell_type": "code",
      "source": [
        "for item in b:\n",
        "  a.append(item)\n",
        "print(a)"
      ],
      "metadata": {
        "colab": {
          "base_uri": "https://localhost:8080/"
        },
        "id": "3KSwDYsL3yIl",
        "outputId": "2f36a500-8aa8-42b8-b6fb-42e7e7daa95e"
      },
      "execution_count": null,
      "outputs": [
        {
          "output_type": "stream",
          "name": "stdout",
          "text": [
            "[1, 2, 3, 15, 7, 8, 9]\n"
          ]
        }
      ]
    },
    {
      "cell_type": "code",
      "source": [
        "num = 8"
      ],
      "metadata": {
        "id": "Ibl02uZq39jW"
      },
      "execution_count": null,
      "outputs": []
    },
    {
      "cell_type": "code",
      "source": [
        "type(num)"
      ],
      "metadata": {
        "colab": {
          "base_uri": "https://localhost:8080/"
        },
        "id": "SQclW0Mr4Tlh",
        "outputId": "7945d308-aacc-46da-8b7f-dd8e497ff070"
      },
      "execution_count": null,
      "outputs": [
        {
          "output_type": "execute_result",
          "data": {
            "text/plain": [
              "int"
            ]
          },
          "metadata": {},
          "execution_count": 17
        }
      ]
    },
    {
      "cell_type": "code",
      "source": [
        "float(num) #para transformar em int é só usar o comandoint('variável')"
      ],
      "metadata": {
        "colab": {
          "base_uri": "https://localhost:8080/"
        },
        "id": "OwYuKAb14V1E",
        "outputId": "de040e16-ada7-4568-b497-fdd03c2b0acf"
      },
      "execution_count": null,
      "outputs": [
        {
          "output_type": "execute_result",
          "data": {
            "text/plain": [
              "8.0"
            ]
          },
          "metadata": {},
          "execution_count": 18
        }
      ]
    },
    {
      "cell_type": "code",
      "source": [
        "x = [2, 4, 10, 6]"
      ],
      "metadata": {
        "id": "-d3B_cMa4Zxk"
      },
      "execution_count": null,
      "outputs": []
    },
    {
      "cell_type": "code",
      "source": [
        "type(x)"
      ],
      "metadata": {
        "colab": {
          "base_uri": "https://localhost:8080/"
        },
        "id": "vcZuK3Wk82ym",
        "outputId": "eb4e639b-ff97-4155-954e-07865d8f3a16"
      },
      "execution_count": null,
      "outputs": [
        {
          "output_type": "execute_result",
          "data": {
            "text/plain": [
              "list"
            ]
          },
          "metadata": {},
          "execution_count": 20
        }
      ]
    },
    {
      "cell_type": "markdown",
      "source": [
        "**int** são números inteiros de 64 bits.\n",
        "**float** são números reais de 64 bits."
      ],
      "metadata": {
        "id": "8NUyOcZW9rqr"
      }
    },
    {
      "cell_type": "code",
      "source": [
        "nova = []\n",
        "for i in x:\n",
        "  nova.append(float(i))\n",
        "print(nova)"
      ],
      "metadata": {
        "colab": {
          "base_uri": "https://localhost:8080/"
        },
        "id": "at3Y9b_987QD",
        "outputId": "1fec6686-536b-442d-9f0a-188d33dadbfa"
      },
      "execution_count": null,
      "outputs": [
        {
          "output_type": "stream",
          "name": "stdout",
          "text": [
            "[2.0, 4.0, 10.0, 6.0]\n"
          ]
        }
      ]
    },
    {
      "cell_type": "markdown",
      "source": [
        "---\n",
        "**Tuplas:** listas que não podem ser alteradas."
      ],
      "metadata": {
        "id": "rjGsxKcg9-xy"
      }
    },
    {
      "cell_type": "code",
      "source": [
        "lista = [2,4,7]"
      ],
      "metadata": {
        "id": "SfOQEobH-Eff"
      },
      "execution_count": null,
      "outputs": []
    },
    {
      "cell_type": "code",
      "source": [
        "lista[0] = 20\n",
        "print(lista)"
      ],
      "metadata": {
        "colab": {
          "base_uri": "https://localhost:8080/"
        },
        "id": "VkawIlyp-KlJ",
        "outputId": "5a31a299-49a1-4c27-9c83-dec96041196e"
      },
      "execution_count": null,
      "outputs": [
        {
          "output_type": "stream",
          "name": "stdout",
          "text": [
            "[20, 4, 7]\n"
          ]
        }
      ]
    },
    {
      "cell_type": "code",
      "source": [
        "tupla = (1,2,3)"
      ],
      "metadata": {
        "id": "GtawgOoL-MuC"
      },
      "execution_count": null,
      "outputs": []
    },
    {
      "cell_type": "code",
      "source": [
        "tupla[0]"
      ],
      "metadata": {
        "colab": {
          "base_uri": "https://localhost:8080/"
        },
        "id": "nGS407Lm-dXL",
        "outputId": "c5aa38b4-da84-47e5-b014-94bd4b19c0f9"
      },
      "execution_count": null,
      "outputs": [
        {
          "output_type": "execute_result",
          "data": {
            "text/plain": [
              "1"
            ]
          },
          "metadata": {},
          "execution_count": 25
        }
      ]
    },
    {
      "cell_type": "code",
      "source": [
        "#tupla[0] = 30"
      ],
      "metadata": {
        "id": "KN3HkyoQ_PKR"
      },
      "execution_count": null,
      "outputs": []
    },
    {
      "cell_type": "code",
      "source": [
        "del lista[0]"
      ],
      "metadata": {
        "id": "SGurS8hJ-qgp"
      },
      "execution_count": null,
      "outputs": []
    },
    {
      "cell_type": "code",
      "source": [
        "print(lista)"
      ],
      "metadata": {
        "colab": {
          "base_uri": "https://localhost:8080/"
        },
        "id": "23nNO9MO_BnN",
        "outputId": "c0a61832-3075-484d-e471-eab91924d010"
      },
      "execution_count": null,
      "outputs": [
        {
          "output_type": "stream",
          "name": "stdout",
          "text": [
            "[4, 7]\n"
          ]
        }
      ]
    },
    {
      "cell_type": "code",
      "source": [
        "#del tupla[0]"
      ],
      "metadata": {
        "id": "EmwO3Vsl_KUB"
      },
      "execution_count": null,
      "outputs": []
    },
    {
      "cell_type": "code",
      "source": [
        "novatupla = tuple(lista)\n",
        "print(novatupla)"
      ],
      "metadata": {
        "colab": {
          "base_uri": "https://localhost:8080/"
        },
        "id": "Fz_L0-Ho_VEE",
        "outputId": "be6715c9-54fb-405e-d125-24a05575c154"
      },
      "execution_count": null,
      "outputs": [
        {
          "output_type": "stream",
          "name": "stdout",
          "text": [
            "(4, 7)\n"
          ]
        }
      ]
    },
    {
      "cell_type": "code",
      "source": [
        "numero = (3)"
      ],
      "metadata": {
        "id": "w-VSKduy_lVL"
      },
      "execution_count": null,
      "outputs": []
    },
    {
      "cell_type": "code",
      "source": [
        "type(numero)"
      ],
      "metadata": {
        "colab": {
          "base_uri": "https://localhost:8080/"
        },
        "id": "HRP9fFwPADhC",
        "outputId": "55d4fde2-36c6-469e-ca71-c86529775d70"
      },
      "execution_count": null,
      "outputs": [
        {
          "output_type": "execute_result",
          "data": {
            "text/plain": [
              "int"
            ]
          },
          "metadata": {},
          "execution_count": 32
        }
      ]
    },
    {
      "cell_type": "code",
      "source": [
        "numero = (3,)"
      ],
      "metadata": {
        "id": "9AojBC61AIEP"
      },
      "execution_count": null,
      "outputs": []
    },
    {
      "cell_type": "code",
      "source": [
        "type(numero)"
      ],
      "metadata": {
        "colab": {
          "base_uri": "https://localhost:8080/"
        },
        "id": "WF_ci1ugAK98",
        "outputId": "92ba587a-2a1a-440f-ffef-9ba6736b899c"
      },
      "execution_count": null,
      "outputs": [
        {
          "output_type": "execute_result",
          "data": {
            "text/plain": [
              "tuple"
            ]
          },
          "metadata": {},
          "execution_count": 34
        }
      ]
    },
    {
      "cell_type": "markdown",
      "source": [
        "---\n",
        "**Dicionário**: Em suma, um dicionário em Python é uma estrutura feita para armazenar informações que podem ser facilmente buscadas no futuro a partir de uma referência. O nome é bastante sugestivo, afinal um dicionário de idiomas, por exemplo, traz traduções para determinadas palavras. No caso do Python, é a mesma coisa, podemos buscar valores a partir de suas chaves. "
      ],
      "metadata": {
        "id": "OSOVvRRFBJ_-"
      }
    },
    {
      "cell_type": "code",
      "source": [
        "dicionario = {'Curso':'Python para ML', \n",
        "              'Produtor':'Didática Tech',\n",
        "              'Preço': 'Gratuito',\n",
        "              'Nota':10}"
      ],
      "metadata": {
        "id": "OM09mk2xBZWp"
      },
      "execution_count": null,
      "outputs": []
    },
    {
      "cell_type": "code",
      "source": [
        "dicionario['Curso']"
      ],
      "metadata": {
        "colab": {
          "base_uri": "https://localhost:8080/",
          "height": 36
        },
        "id": "ygOTeQeSC6XG",
        "outputId": "71cc9b93-c3f3-4ee3-da2a-4ab2e7d31d74"
      },
      "execution_count": null,
      "outputs": [
        {
          "output_type": "execute_result",
          "data": {
            "text/plain": [
              "'Python para ML'"
            ],
            "application/vnd.google.colaboratory.intrinsic+json": {
              "type": "string"
            }
          },
          "metadata": {},
          "execution_count": 36
        }
      ]
    },
    {
      "cell_type": "code",
      "source": [
        "a = dicionario['Nota']\n",
        "print(a)"
      ],
      "metadata": {
        "colab": {
          "base_uri": "https://localhost:8080/"
        },
        "id": "G00_3nNkFUya",
        "outputId": "905e1201-005d-4f55-c13a-bf40eddb3b38"
      },
      "execution_count": null,
      "outputs": [
        {
          "output_type": "stream",
          "name": "stdout",
          "text": [
            "10\n"
          ]
        }
      ]
    },
    {
      "cell_type": "code",
      "source": [
        "dicionario['Preço'] = \"R$ 300,00\""
      ],
      "metadata": {
        "id": "3Nt1-7GIFznc"
      },
      "execution_count": null,
      "outputs": []
    },
    {
      "cell_type": "code",
      "source": [
        "print(dicionario)"
      ],
      "metadata": {
        "colab": {
          "base_uri": "https://localhost:8080/"
        },
        "id": "ih-1DkPvGPik",
        "outputId": "d4ad923d-51f0-4b2a-f976-78a8e8e6fab8"
      },
      "execution_count": null,
      "outputs": [
        {
          "output_type": "stream",
          "name": "stdout",
          "text": [
            "{'Curso': 'Python para ML', 'Produtor': 'Didática Tech', 'Preço': 'R$ 300,00', 'Nota': 10}\n"
          ]
        }
      ]
    },
    {
      "cell_type": "code",
      "source": [
        "dicionario['Pre-requisito'] = 'Python básico'\n",
        "print(dicionario)"
      ],
      "metadata": {
        "colab": {
          "base_uri": "https://localhost:8080/"
        },
        "id": "8XP2JxLuGXT7",
        "outputId": "4e00ec6b-9239-4cbb-aa1d-b67ded8a9f0c"
      },
      "execution_count": null,
      "outputs": [
        {
          "output_type": "stream",
          "name": "stdout",
          "text": [
            "{'Curso': 'Python para ML', 'Produtor': 'Didática Tech', 'Preço': 'R$ 300,00', 'Nota': 10, 'Pre-requisito': 'Python básico'}\n"
          ]
        }
      ]
    },
    {
      "cell_type": "code",
      "source": [
        "dicionario.keys() #mostra as chaves do dicionário - ótimo para análise."
      ],
      "metadata": {
        "colab": {
          "base_uri": "https://localhost:8080/"
        },
        "id": "zSKpg_iAGuBw",
        "outputId": "d0967059-ca72-428b-cbdb-d7e75f7eb9c6"
      },
      "execution_count": null,
      "outputs": [
        {
          "output_type": "execute_result",
          "data": {
            "text/plain": [
              "dict_keys(['Curso', 'Produtor', 'Preço', 'Nota', 'Pre-requisito'])"
            ]
          },
          "metadata": {},
          "execution_count": 41
        }
      ]
    },
    {
      "cell_type": "code",
      "source": [
        "dicionario.items()"
      ],
      "metadata": {
        "colab": {
          "base_uri": "https://localhost:8080/"
        },
        "id": "8Ksb-KKLG-7y",
        "outputId": "587e37bf-a434-4311-dc17-d2c5e79e74da"
      },
      "execution_count": null,
      "outputs": [
        {
          "output_type": "execute_result",
          "data": {
            "text/plain": [
              "dict_items([('Curso', 'Python para ML'), ('Produtor', 'Didática Tech'), ('Preço', 'R$ 300,00'), ('Nota', 10), ('Pre-requisito', 'Python básico')])"
            ]
          },
          "metadata": {},
          "execution_count": 42
        }
      ]
    },
    {
      "cell_type": "code",
      "source": [
        "dicionario.clear()"
      ],
      "metadata": {
        "id": "yD_7JveyHfw7"
      },
      "execution_count": null,
      "outputs": []
    },
    {
      "cell_type": "code",
      "source": [
        "print(dicionario)"
      ],
      "metadata": {
        "colab": {
          "base_uri": "https://localhost:8080/"
        },
        "id": "MegmHmD3Hi-K",
        "outputId": "96d8d87c-2449-48a5-a1fc-af1e86a75d15"
      },
      "execution_count": null,
      "outputs": [
        {
          "output_type": "stream",
          "name": "stdout",
          "text": [
            "{}\n"
          ]
        }
      ]
    },
    {
      "cell_type": "markdown",
      "source": [
        "**Manipulando Strings**"
      ],
      "metadata": {
        "id": "xpcMsf4dy-6m"
      }
    },
    {
      "cell_type": "code",
      "source": [
        "frase = 'Estou gostando do curso'"
      ],
      "metadata": {
        "id": "kSuK4fWEHlhO"
      },
      "execution_count": null,
      "outputs": []
    },
    {
      "cell_type": "code",
      "source": [
        "frase[2:13:3]"
      ],
      "metadata": {
        "colab": {
          "base_uri": "https://localhost:8080/",
          "height": 36
        },
        "id": "r1RF5b7oeONh",
        "outputId": "8b179547-f821-4422-b4b2-567dbae80afb"
      },
      "execution_count": null,
      "outputs": [
        {
          "output_type": "execute_result",
          "data": {
            "text/plain": [
              "'t sn'"
            ],
            "application/vnd.google.colaboratory.intrinsic+json": {
              "type": "string"
            }
          },
          "metadata": {},
          "execution_count": 46
        }
      ]
    },
    {
      "cell_type": "code",
      "source": [
        "frase.count('o')"
      ],
      "metadata": {
        "colab": {
          "base_uri": "https://localhost:8080/"
        },
        "id": "juQD1aRjeSPI",
        "outputId": "92569ed7-c59d-435e-ec64-0b5849118ec6"
      },
      "execution_count": null,
      "outputs": [
        {
          "output_type": "execute_result",
          "data": {
            "text/plain": [
              "5"
            ]
          },
          "metadata": {},
          "execution_count": 47
        }
      ]
    },
    {
      "cell_type": "code",
      "source": [
        "len(frase)"
      ],
      "metadata": {
        "colab": {
          "base_uri": "https://localhost:8080/"
        },
        "id": "A20McUkxfaHq",
        "outputId": "56839209-6369-4186-ee8d-295440d513e5"
      },
      "execution_count": null,
      "outputs": [
        {
          "output_type": "execute_result",
          "data": {
            "text/plain": [
              "23"
            ]
          },
          "metadata": {},
          "execution_count": 48
        }
      ]
    },
    {
      "cell_type": "code",
      "source": [
        "frase.replace('curso', 'Augusto')"
      ],
      "metadata": {
        "colab": {
          "base_uri": "https://localhost:8080/",
          "height": 36
        },
        "id": "QQeUujKlfvh-",
        "outputId": "05a47632-48bb-4068-a46e-d08f09a266ff"
      },
      "execution_count": null,
      "outputs": [
        {
          "output_type": "execute_result",
          "data": {
            "text/plain": [
              "'Estou gostando do Augusto'"
            ],
            "application/vnd.google.colaboratory.intrinsic+json": {
              "type": "string"
            }
          },
          "metadata": {},
          "execution_count": 49
        }
      ]
    },
    {
      "cell_type": "markdown",
      "source": [
        "**Função Lambda**"
      ],
      "metadata": {
        "id": "OyPYYDpwzEeA"
      }
    },
    {
      "cell_type": "code",
      "source": [
        "def somaQuadrados(a, b):\n",
        "  somaQ = a**2 + b**2\n",
        "  return somaQ"
      ],
      "metadata": {
        "id": "3da5hUXigJSC"
      },
      "execution_count": null,
      "outputs": []
    },
    {
      "cell_type": "code",
      "source": [
        "somaQuadrados(2,3)"
      ],
      "metadata": {
        "colab": {
          "base_uri": "https://localhost:8080/"
        },
        "id": "zcglocm7m14W",
        "outputId": "8a11be00-83fd-40b1-8aec-c2c532d1cf1e"
      },
      "execution_count": null,
      "outputs": [
        {
          "output_type": "execute_result",
          "data": {
            "text/plain": [
              "13"
            ]
          },
          "metadata": {},
          "execution_count": 51
        }
      ]
    },
    {
      "cell_type": "code",
      "source": [
        "somaQuadrados2 = lambda a, b: a**2 + b**2"
      ],
      "metadata": {
        "id": "wugtJTlNm7p_"
      },
      "execution_count": null,
      "outputs": []
    },
    {
      "cell_type": "code",
      "source": [
        "somaQuadrados2(2, 3)"
      ],
      "metadata": {
        "colab": {
          "base_uri": "https://localhost:8080/"
        },
        "id": "AgX7pKDbnLjp",
        "outputId": "f2e52f33-3bd9-417a-b56d-286de5c6c92f"
      },
      "execution_count": null,
      "outputs": [
        {
          "output_type": "execute_result",
          "data": {
            "text/plain": [
              "13"
            ]
          },
          "metadata": {},
          "execution_count": 53
        }
      ]
    },
    {
      "cell_type": "code",
      "source": [
        "x = lambda f:f/2"
      ],
      "metadata": {
        "id": "DtEWPt3xnPZg"
      },
      "execution_count": null,
      "outputs": []
    },
    {
      "cell_type": "code",
      "source": [
        "x(10)"
      ],
      "metadata": {
        "colab": {
          "base_uri": "https://localhost:8080/"
        },
        "id": "VoO_E0fVnn7g",
        "outputId": "b4dc45ee-8a14-44d1-b9bc-a003bc162051"
      },
      "execution_count": null,
      "outputs": [
        {
          "output_type": "execute_result",
          "data": {
            "text/plain": [
              "5.0"
            ]
          },
          "metadata": {},
          "execution_count": 55
        }
      ]
    },
    {
      "cell_type": "code",
      "source": [
        "f = lambda f:2/f"
      ],
      "metadata": {
        "id": "tXarxReQntgV"
      },
      "execution_count": null,
      "outputs": []
    },
    {
      "cell_type": "code",
      "source": [
        "f(4)"
      ],
      "metadata": {
        "colab": {
          "base_uri": "https://localhost:8080/"
        },
        "id": "Q7-rvyMLoKtA",
        "outputId": "9dcd6a76-d518-4842-9827-95a3dde99827"
      },
      "execution_count": null,
      "outputs": [
        {
          "output_type": "execute_result",
          "data": {
            "text/plain": [
              "0.5"
            ]
          },
          "metadata": {},
          "execution_count": 57
        }
      ]
    },
    {
      "cell_type": "markdown",
      "source": [
        "**Função Map()**"
      ],
      "metadata": {
        "id": "NsyKysOozP6_"
      }
    },
    {
      "cell_type": "code",
      "source": [
        "kmh = [40, 50, 56, 64, 73, 79, 85, 96, 100, 120]"
      ],
      "metadata": {
        "id": "7CD3IY78lOlA"
      },
      "execution_count": null,
      "outputs": []
    },
    {
      "cell_type": "code",
      "source": [
        "#mph = []\n",
        "#for i in kph:\n",
        "  #mph.append(i/1.61)\n",
        "#print(mph)"
      ],
      "metadata": {
        "id": "1EOrOctDpeBS"
      },
      "execution_count": null,
      "outputs": []
    },
    {
      "cell_type": "code",
      "source": [
        "mph2 = list(map(lambda x: x/1.61, kmh))\n",
        "print(mph2)"
      ],
      "metadata": {
        "colab": {
          "base_uri": "https://localhost:8080/"
        },
        "id": "enbdht5rpwUv",
        "outputId": "2cf220ce-b197-4716-fe8f-1372e566f771"
      },
      "execution_count": null,
      "outputs": [
        {
          "output_type": "stream",
          "name": "stdout",
          "text": [
            "[24.844720496894407, 31.05590062111801, 34.78260869565217, 39.75155279503105, 45.3416149068323, 49.06832298136646, 52.795031055900616, 59.62732919254658, 62.11180124223602, 74.53416149068323]\n"
          ]
        }
      ]
    },
    {
      "cell_type": "code",
      "source": [
        "mph3 = [x/1.61 for x in kmh]\n",
        "print(mph3)"
      ],
      "metadata": {
        "colab": {
          "base_uri": "https://localhost:8080/"
        },
        "id": "QkcxvQfzq3sj",
        "outputId": "6aa12a37-1b4d-4bff-8f1e-2631067117f2"
      },
      "execution_count": null,
      "outputs": [
        {
          "output_type": "stream",
          "name": "stdout",
          "text": [
            "[24.844720496894407, 31.05590062111801, 34.78260869565217, 39.75155279503105, 45.3416149068323, 49.06832298136646, 52.795031055900616, 59.62732919254658, 62.11180124223602, 74.53416149068323]\n"
          ]
        }
      ]
    },
    {
      "cell_type": "markdown",
      "source": [
        "**List Comprehension**"
      ],
      "metadata": {
        "id": "VyXwNdH4zWO1"
      }
    },
    {
      "cell_type": "code",
      "source": [
        "Pilat = [i for i in 'Fernanda Pilat']"
      ],
      "metadata": {
        "id": "FkS5d7NftkET"
      },
      "execution_count": null,
      "outputs": []
    },
    {
      "cell_type": "code",
      "source": [
        "print(Pilat)"
      ],
      "metadata": {
        "colab": {
          "base_uri": "https://localhost:8080/"
        },
        "id": "Ic5M0_Dpxx7n",
        "outputId": "befa8663-4749-48ee-ce92-82bcd447b118"
      },
      "execution_count": null,
      "outputs": [
        {
          "output_type": "stream",
          "name": "stdout",
          "text": [
            "['F', 'e', 'r', 'n', 'a', 'n', 'd', 'a', ' ', 'P', 'i', 'l', 'a', 't']\n"
          ]
        }
      ]
    },
    {
      "cell_type": "markdown",
      "source": [
        "**Biblioteca Numpy**"
      ],
      "metadata": {
        "id": "FpxB9R3rzgg0"
      }
    },
    {
      "cell_type": "code",
      "source": [
        "import numpy as np\n",
        "a = np.array([1, 2, 3]) #no array todos os elementos tem que ser do mesmo tipo."
      ],
      "metadata": {
        "id": "uIh0LexZx2gG"
      },
      "execution_count": null,
      "outputs": []
    },
    {
      "cell_type": "markdown",
      "source": [
        "`Criação de matrizes utilizando a biblioteca Numpy`\n",
        "\n"
      ],
      "metadata": {
        "id": "eatUvGKYF2hQ"
      }
    },
    {
      "cell_type": "code",
      "source": [
        "print(a)"
      ],
      "metadata": {
        "colab": {
          "base_uri": "https://localhost:8080/"
        },
        "id": "XSusCdFv8eSB",
        "outputId": "3b804a06-7760-4815-9f4a-e1d6b2e9ae73"
      },
      "execution_count": null,
      "outputs": [
        {
          "output_type": "stream",
          "name": "stdout",
          "text": [
            "[1 2 3]\n"
          ]
        }
      ]
    },
    {
      "cell_type": "code",
      "source": [
        "b = np.array([(2, 5, 7), (5, 3, 9), (4, 6, 5)])\n",
        "print(b)"
      ],
      "metadata": {
        "colab": {
          "base_uri": "https://localhost:8080/"
        },
        "id": "0DizUq-v8j6j",
        "outputId": "195c69c9-ff12-48da-f783-53bf7d42f8f1"
      },
      "execution_count": null,
      "outputs": [
        {
          "output_type": "stream",
          "name": "stdout",
          "text": [
            "[[2 5 7]\n",
            " [5 3 9]\n",
            " [4 6 5]]\n"
          ]
        }
      ]
    },
    {
      "cell_type": "code",
      "source": [
        "c = np.zeros((4,3)) #criar uma matriz de zeros\n",
        "print(c)"
      ],
      "metadata": {
        "colab": {
          "base_uri": "https://localhost:8080/"
        },
        "id": "tJ0bqo-ZEiCf",
        "outputId": "b6aea18d-3eac-47f1-c6db-e91c0d634ae6"
      },
      "execution_count": null,
      "outputs": [
        {
          "output_type": "stream",
          "name": "stdout",
          "text": [
            "[[0. 0. 0.]\n",
            " [0. 0. 0.]\n",
            " [0. 0. 0.]\n",
            " [0. 0. 0.]]\n"
          ]
        }
      ]
    },
    {
      "cell_type": "code",
      "source": [
        "c = np.ones((4,3))\n",
        "print(c)"
      ],
      "metadata": {
        "colab": {
          "base_uri": "https://localhost:8080/"
        },
        "id": "dIRr5FgZE7o9",
        "outputId": "5fb6afd8-ab88-4f7f-ab51-2e0062783c4d"
      },
      "execution_count": null,
      "outputs": [
        {
          "output_type": "stream",
          "name": "stdout",
          "text": [
            "[[1. 1. 1.]\n",
            " [1. 1. 1.]\n",
            " [1. 1. 1.]\n",
            " [1. 1. 1.]]\n"
          ]
        }
      ]
    },
    {
      "cell_type": "code",
      "source": [
        "c = np.eye(4)\n",
        "print(c)"
      ],
      "metadata": {
        "colab": {
          "base_uri": "https://localhost:8080/"
        },
        "id": "s5z9siCvFBN1",
        "outputId": "34a6375d-d67e-4f64-8fad-52cf3e8c8239"
      },
      "execution_count": null,
      "outputs": [
        {
          "output_type": "stream",
          "name": "stdout",
          "text": [
            "[[1. 0. 0. 0.]\n",
            " [0. 1. 0. 0.]\n",
            " [0. 0. 1. 0.]\n",
            " [0. 0. 0. 1.]]\n"
          ]
        }
      ]
    },
    {
      "cell_type": "code",
      "source": [
        "c = np.eye(10)\n",
        "print(c)"
      ],
      "metadata": {
        "colab": {
          "base_uri": "https://localhost:8080/"
        },
        "id": "U4ZISdBIE3zK",
        "outputId": "552b44ca-925a-4d48-8e50-c532d740f11d"
      },
      "execution_count": null,
      "outputs": [
        {
          "output_type": "stream",
          "name": "stdout",
          "text": [
            "[[1. 0. 0. 0. 0. 0. 0. 0. 0. 0.]\n",
            " [0. 1. 0. 0. 0. 0. 0. 0. 0. 0.]\n",
            " [0. 0. 1. 0. 0. 0. 0. 0. 0. 0.]\n",
            " [0. 0. 0. 1. 0. 0. 0. 0. 0. 0.]\n",
            " [0. 0. 0. 0. 1. 0. 0. 0. 0. 0.]\n",
            " [0. 0. 0. 0. 0. 1. 0. 0. 0. 0.]\n",
            " [0. 0. 0. 0. 0. 0. 1. 0. 0. 0.]\n",
            " [0. 0. 0. 0. 0. 0. 0. 1. 0. 0.]\n",
            " [0. 0. 0. 0. 0. 0. 0. 0. 1. 0.]\n",
            " [0. 0. 0. 0. 0. 0. 0. 0. 0. 1.]]\n"
          ]
        }
      ]
    },
    {
      "cell_type": "code",
      "source": [
        "b.max() #maior elemento da matriz"
      ],
      "metadata": {
        "colab": {
          "base_uri": "https://localhost:8080/"
        },
        "id": "VcMX0lShGEyo",
        "outputId": "14a70ffd-8a3c-4cb8-8ea0-f21310c85009"
      },
      "execution_count": null,
      "outputs": [
        {
          "output_type": "execute_result",
          "data": {
            "text/plain": [
              "9"
            ]
          },
          "metadata": {},
          "execution_count": 71
        }
      ]
    },
    {
      "cell_type": "code",
      "source": [
        "b.min() #menor elemento da matriz"
      ],
      "metadata": {
        "colab": {
          "base_uri": "https://localhost:8080/"
        },
        "id": "a89VaqB9GRPg",
        "outputId": "1cffe2b8-e9b6-4afb-f9c8-36bad66b6eeb"
      },
      "execution_count": null,
      "outputs": [
        {
          "output_type": "execute_result",
          "data": {
            "text/plain": [
              "2"
            ]
          },
          "metadata": {},
          "execution_count": 72
        }
      ]
    },
    {
      "cell_type": "code",
      "source": [
        "b.sum() #soma de todos os elementos da matriz"
      ],
      "metadata": {
        "colab": {
          "base_uri": "https://localhost:8080/"
        },
        "id": "EcBi0Og_GUJX",
        "outputId": "99ebf031-40a4-48b5-9401-08236c45e94a"
      },
      "execution_count": null,
      "outputs": [
        {
          "output_type": "execute_result",
          "data": {
            "text/plain": [
              "46"
            ]
          },
          "metadata": {},
          "execution_count": 73
        }
      ]
    },
    {
      "cell_type": "code",
      "source": [
        "b.mean() #media de todos os elementos da matriz"
      ],
      "metadata": {
        "colab": {
          "base_uri": "https://localhost:8080/"
        },
        "id": "dGldIQi9GaGv",
        "outputId": "95f5f1d6-81ef-417a-995d-b94dae3a32d0"
      },
      "execution_count": null,
      "outputs": [
        {
          "output_type": "execute_result",
          "data": {
            "text/plain": [
              "5.111111111111111"
            ]
          },
          "metadata": {},
          "execution_count": 74
        }
      ]
    },
    {
      "cell_type": "code",
      "source": [
        "b.std() #desvio padrão de todos os elementos da matriz"
      ],
      "metadata": {
        "colab": {
          "base_uri": "https://localhost:8080/"
        },
        "id": "tebhGrKpGfys",
        "outputId": "11b5c6d1-aaeb-4dd2-e814-6c96a5f0efd7"
      },
      "execution_count": null,
      "outputs": [
        {
          "output_type": "execute_result",
          "data": {
            "text/plain": [
              "1.9688939051854832"
            ]
          },
          "metadata": {},
          "execution_count": 75
        }
      ]
    },
    {
      "cell_type": "markdown",
      "source": [
        "**Biblioteca Pandas**\n",
        "\n",
        "`Enquanto com o Numpy nós trabalhamos com números, no Pandas nós iremos trabalhar com Dataframes, ou seja, estruturas de linhas e colunas que contém diversos dados.`"
      ],
      "metadata": {
        "id": "HO_JmoXILIP3"
      }
    },
    {
      "cell_type": "code",
      "source": [
        "import pandas as pd\n",
        "alunos = {'Nome':['Ricardo', 'Pedro', 'Roberto', 'Carlos'],\n",
        "          'Nota':[4, 7, 5.5, 9],\n",
        "          'Aprovados':['Não', 'Sim', 'Não', 'Sim']}"
      ],
      "metadata": {
        "id": "vTVhpTxMGmDC"
      },
      "execution_count": null,
      "outputs": []
    },
    {
      "cell_type": "code",
      "source": [
        "dataframe = pd.DataFrame(alunos)\n",
        "print(dataframe)"
      ],
      "metadata": {
        "colab": {
          "base_uri": "https://localhost:8080/"
        },
        "id": "wYpE57BtMXgL",
        "outputId": "16b6e7e3-9c61-4103-bdbd-e673c1bc7688"
      },
      "execution_count": null,
      "outputs": [
        {
          "output_type": "stream",
          "name": "stdout",
          "text": [
            "      Nome  Nota Aprovados\n",
            "0  Ricardo   4.0       Não\n",
            "1    Pedro   7.0       Sim\n",
            "2  Roberto   5.5       Não\n",
            "3   Carlos   9.0       Sim\n"
          ]
        }
      ]
    },
    {
      "cell_type": "code",
      "source": [
        "objeto1 = pd.Series([2, 6, 9, 10, 5])\n",
        "print(objeto1)"
      ],
      "metadata": {
        "colab": {
          "base_uri": "https://localhost:8080/"
        },
        "id": "OhvzwuzUO_xH",
        "outputId": "a0294a98-f55e-495a-e173-09140c8e1842"
      },
      "execution_count": null,
      "outputs": [
        {
          "output_type": "stream",
          "name": "stdout",
          "text": [
            "0     2\n",
            "1     6\n",
            "2     9\n",
            "3    10\n",
            "4     5\n",
            "dtype: int64\n"
          ]
        }
      ]
    },
    {
      "cell_type": "code",
      "source": [
        "array = np.array([2, 6, 9, 10, 5]) #diferença entre uma serie do pandas e um array do numpy\n",
        "print(array)"
      ],
      "metadata": {
        "colab": {
          "base_uri": "https://localhost:8080/"
        },
        "id": "XQ_C99KtPLhd",
        "outputId": "ba6b4102-d56f-44e0-93f0-7d0eb0632670"
      },
      "execution_count": null,
      "outputs": [
        {
          "output_type": "stream",
          "name": "stdout",
          "text": [
            "[ 2  6  9 10  5]\n"
          ]
        }
      ]
    },
    {
      "cell_type": "code",
      "source": [
        "array1 = np.array([2, 6, 9, 10, 5])\n",
        "array2 = np.array([(2, 6, 9, 10, 5), (6, 12, 2, 9, 10)]) #array multidimensional\n",
        "print(array1)\n",
        "print(array2)"
      ],
      "metadata": {
        "colab": {
          "base_uri": "https://localhost:8080/"
        },
        "id": "cadMbAq7PoUW",
        "outputId": "6bdb0a8b-30e1-48dd-9139-ae2fc89b7f04"
      },
      "execution_count": null,
      "outputs": [
        {
          "output_type": "stream",
          "name": "stdout",
          "text": [
            "[ 2  6  9 10  5]\n",
            "[[ 2  6  9 10  5]\n",
            " [ 6 12  2  9 10]]\n"
          ]
        }
      ]
    },
    {
      "cell_type": "code",
      "source": [
        "objeto2 = pd.Series(array1) #um array multidimensional não pode ser convertido no pandas pelo series\n",
        "print(objeto2)"
      ],
      "metadata": {
        "colab": {
          "base_uri": "https://localhost:8080/"
        },
        "id": "o9KvuW6qQESc",
        "outputId": "d05e2119-57ce-4942-8f27-1e5a3a8aa7ea"
      },
      "execution_count": null,
      "outputs": [
        {
          "output_type": "stream",
          "name": "stdout",
          "text": [
            "0     2\n",
            "1     6\n",
            "2     9\n",
            "3    10\n",
            "4     5\n",
            "dtype: int64\n"
          ]
        }
      ]
    },
    {
      "cell_type": "code",
      "source": [
        "alunosDIC = {'Nome':['Ricardo', 'Pedro', 'Roberto', 'Carlos'],\n",
        "          'Nota':[4, 7, 5.5, 9],\n",
        "          'Aprovados':['Não', 'Sim', 'Não', 'Sim']}"
      ],
      "metadata": {
        "id": "CUb718qlRZI0"
      },
      "execution_count": null,
      "outputs": []
    },
    {
      "cell_type": "code",
      "source": [
        "alunosDF = pd.DataFrame(alunosDIC) \n",
        "print(dataframe)"
      ],
      "metadata": {
        "colab": {
          "base_uri": "https://localhost:8080/"
        },
        "id": "1te9CGP5kRbx",
        "outputId": "880c2c14-3c7d-4b76-f5ff-159fadb686b4"
      },
      "execution_count": null,
      "outputs": [
        {
          "output_type": "stream",
          "name": "stdout",
          "text": [
            "      Nome  Nota Aprovados\n",
            "0  Ricardo   4.0       Não\n",
            "1    Pedro   7.0       Sim\n",
            "2  Roberto   5.5       Não\n",
            "3   Carlos   9.0       Sim\n"
          ]
        }
      ]
    },
    {
      "cell_type": "markdown",
      "source": [
        "**`Exploração de DataFrame:`**"
      ],
      "metadata": {
        "id": "L7S_eCMpkl26"
      }
    },
    {
      "cell_type": "code",
      "source": [
        "alunosDF.head() #exploração das colunas e dados"
      ],
      "metadata": {
        "colab": {
          "base_uri": "https://localhost:8080/",
          "height": 175
        },
        "id": "D7-nT--tkh8p",
        "outputId": "44cc1266-b5b2-49b4-bc78-ba834d3b177e"
      },
      "execution_count": null,
      "outputs": [
        {
          "output_type": "execute_result",
          "data": {
            "text/plain": [
              "      Nome  Nota Aprovados\n",
              "0  Ricardo   4.0       Não\n",
              "1    Pedro   7.0       Sim\n",
              "2  Roberto   5.5       Não\n",
              "3   Carlos   9.0       Sim"
            ],
            "text/html": [
              "\n",
              "  <div id=\"df-0e624885-cd46-4608-aefb-8877d27cc328\">\n",
              "    <div class=\"colab-df-container\">\n",
              "      <div>\n",
              "<style scoped>\n",
              "    .dataframe tbody tr th:only-of-type {\n",
              "        vertical-align: middle;\n",
              "    }\n",
              "\n",
              "    .dataframe tbody tr th {\n",
              "        vertical-align: top;\n",
              "    }\n",
              "\n",
              "    .dataframe thead th {\n",
              "        text-align: right;\n",
              "    }\n",
              "</style>\n",
              "<table border=\"1\" class=\"dataframe\">\n",
              "  <thead>\n",
              "    <tr style=\"text-align: right;\">\n",
              "      <th></th>\n",
              "      <th>Nome</th>\n",
              "      <th>Nota</th>\n",
              "      <th>Aprovados</th>\n",
              "    </tr>\n",
              "  </thead>\n",
              "  <tbody>\n",
              "    <tr>\n",
              "      <th>0</th>\n",
              "      <td>Ricardo</td>\n",
              "      <td>4.0</td>\n",
              "      <td>Não</td>\n",
              "    </tr>\n",
              "    <tr>\n",
              "      <th>1</th>\n",
              "      <td>Pedro</td>\n",
              "      <td>7.0</td>\n",
              "      <td>Sim</td>\n",
              "    </tr>\n",
              "    <tr>\n",
              "      <th>2</th>\n",
              "      <td>Roberto</td>\n",
              "      <td>5.5</td>\n",
              "      <td>Não</td>\n",
              "    </tr>\n",
              "    <tr>\n",
              "      <th>3</th>\n",
              "      <td>Carlos</td>\n",
              "      <td>9.0</td>\n",
              "      <td>Sim</td>\n",
              "    </tr>\n",
              "  </tbody>\n",
              "</table>\n",
              "</div>\n",
              "      <button class=\"colab-df-convert\" onclick=\"convertToInteractive('df-0e624885-cd46-4608-aefb-8877d27cc328')\"\n",
              "              title=\"Convert this dataframe to an interactive table.\"\n",
              "              style=\"display:none;\">\n",
              "        \n",
              "  <svg xmlns=\"http://www.w3.org/2000/svg\" height=\"24px\"viewBox=\"0 0 24 24\"\n",
              "       width=\"24px\">\n",
              "    <path d=\"M0 0h24v24H0V0z\" fill=\"none\"/>\n",
              "    <path d=\"M18.56 5.44l.94 2.06.94-2.06 2.06-.94-2.06-.94-.94-2.06-.94 2.06-2.06.94zm-11 1L8.5 8.5l.94-2.06 2.06-.94-2.06-.94L8.5 2.5l-.94 2.06-2.06.94zm10 10l.94 2.06.94-2.06 2.06-.94-2.06-.94-.94-2.06-.94 2.06-2.06.94z\"/><path d=\"M17.41 7.96l-1.37-1.37c-.4-.4-.92-.59-1.43-.59-.52 0-1.04.2-1.43.59L10.3 9.45l-7.72 7.72c-.78.78-.78 2.05 0 2.83L4 21.41c.39.39.9.59 1.41.59.51 0 1.02-.2 1.41-.59l7.78-7.78 2.81-2.81c.8-.78.8-2.07 0-2.86zM5.41 20L4 18.59l7.72-7.72 1.47 1.35L5.41 20z\"/>\n",
              "  </svg>\n",
              "      </button>\n",
              "      \n",
              "  <style>\n",
              "    .colab-df-container {\n",
              "      display:flex;\n",
              "      flex-wrap:wrap;\n",
              "      gap: 12px;\n",
              "    }\n",
              "\n",
              "    .colab-df-convert {\n",
              "      background-color: #E8F0FE;\n",
              "      border: none;\n",
              "      border-radius: 50%;\n",
              "      cursor: pointer;\n",
              "      display: none;\n",
              "      fill: #1967D2;\n",
              "      height: 32px;\n",
              "      padding: 0 0 0 0;\n",
              "      width: 32px;\n",
              "    }\n",
              "\n",
              "    .colab-df-convert:hover {\n",
              "      background-color: #E2EBFA;\n",
              "      box-shadow: 0px 1px 2px rgba(60, 64, 67, 0.3), 0px 1px 3px 1px rgba(60, 64, 67, 0.15);\n",
              "      fill: #174EA6;\n",
              "    }\n",
              "\n",
              "    [theme=dark] .colab-df-convert {\n",
              "      background-color: #3B4455;\n",
              "      fill: #D2E3FC;\n",
              "    }\n",
              "\n",
              "    [theme=dark] .colab-df-convert:hover {\n",
              "      background-color: #434B5C;\n",
              "      box-shadow: 0px 1px 3px 1px rgba(0, 0, 0, 0.15);\n",
              "      filter: drop-shadow(0px 1px 2px rgba(0, 0, 0, 0.3));\n",
              "      fill: #FFFFFF;\n",
              "    }\n",
              "  </style>\n",
              "\n",
              "      <script>\n",
              "        const buttonEl =\n",
              "          document.querySelector('#df-0e624885-cd46-4608-aefb-8877d27cc328 button.colab-df-convert');\n",
              "        buttonEl.style.display =\n",
              "          google.colab.kernel.accessAllowed ? 'block' : 'none';\n",
              "\n",
              "        async function convertToInteractive(key) {\n",
              "          const element = document.querySelector('#df-0e624885-cd46-4608-aefb-8877d27cc328');\n",
              "          const dataTable =\n",
              "            await google.colab.kernel.invokeFunction('convertToInteractive',\n",
              "                                                     [key], {});\n",
              "          if (!dataTable) return;\n",
              "\n",
              "          const docLinkHtml = 'Like what you see? Visit the ' +\n",
              "            '<a target=\"_blank\" href=https://colab.research.google.com/notebooks/data_table.ipynb>data table notebook</a>'\n",
              "            + ' to learn more about interactive tables.';\n",
              "          element.innerHTML = '';\n",
              "          dataTable['output_type'] = 'display_data';\n",
              "          await google.colab.output.renderOutput(dataTable, element);\n",
              "          const docLink = document.createElement('div');\n",
              "          docLink.innerHTML = docLinkHtml;\n",
              "          element.appendChild(docLink);\n",
              "        }\n",
              "      </script>\n",
              "    </div>\n",
              "  </div>\n",
              "  "
            ]
          },
          "metadata": {},
          "execution_count": 84
        }
      ]
    },
    {
      "cell_type": "code",
      "source": [
        "alunosDF.shape #linhas e colunas"
      ],
      "metadata": {
        "colab": {
          "base_uri": "https://localhost:8080/"
        },
        "id": "fN7b3g7yk3QE",
        "outputId": "06c7c818-20b5-45b1-e69f-ee48874221e5"
      },
      "execution_count": null,
      "outputs": [
        {
          "output_type": "execute_result",
          "data": {
            "text/plain": [
              "(4, 3)"
            ]
          },
          "metadata": {},
          "execution_count": 85
        }
      ]
    },
    {
      "cell_type": "code",
      "source": [
        "alunosDF.describe() #realiza contas com dados numéricos"
      ],
      "metadata": {
        "colab": {
          "base_uri": "https://localhost:8080/",
          "height": 300
        },
        "id": "DnqR7r6ik87A",
        "outputId": "66671298-dc2e-4fdd-8d9c-ca2854599786"
      },
      "execution_count": null,
      "outputs": [
        {
          "output_type": "execute_result",
          "data": {
            "text/plain": [
              "           Nota\n",
              "count  4.000000\n",
              "mean   6.375000\n",
              "std    2.136001\n",
              "min    4.000000\n",
              "25%    5.125000\n",
              "50%    6.250000\n",
              "75%    7.500000\n",
              "max    9.000000"
            ],
            "text/html": [
              "\n",
              "  <div id=\"df-c29d85cb-53ec-4588-b383-49218e9f4d02\">\n",
              "    <div class=\"colab-df-container\">\n",
              "      <div>\n",
              "<style scoped>\n",
              "    .dataframe tbody tr th:only-of-type {\n",
              "        vertical-align: middle;\n",
              "    }\n",
              "\n",
              "    .dataframe tbody tr th {\n",
              "        vertical-align: top;\n",
              "    }\n",
              "\n",
              "    .dataframe thead th {\n",
              "        text-align: right;\n",
              "    }\n",
              "</style>\n",
              "<table border=\"1\" class=\"dataframe\">\n",
              "  <thead>\n",
              "    <tr style=\"text-align: right;\">\n",
              "      <th></th>\n",
              "      <th>Nota</th>\n",
              "    </tr>\n",
              "  </thead>\n",
              "  <tbody>\n",
              "    <tr>\n",
              "      <th>count</th>\n",
              "      <td>4.000000</td>\n",
              "    </tr>\n",
              "    <tr>\n",
              "      <th>mean</th>\n",
              "      <td>6.375000</td>\n",
              "    </tr>\n",
              "    <tr>\n",
              "      <th>std</th>\n",
              "      <td>2.136001</td>\n",
              "    </tr>\n",
              "    <tr>\n",
              "      <th>min</th>\n",
              "      <td>4.000000</td>\n",
              "    </tr>\n",
              "    <tr>\n",
              "      <th>25%</th>\n",
              "      <td>5.125000</td>\n",
              "    </tr>\n",
              "    <tr>\n",
              "      <th>50%</th>\n",
              "      <td>6.250000</td>\n",
              "    </tr>\n",
              "    <tr>\n",
              "      <th>75%</th>\n",
              "      <td>7.500000</td>\n",
              "    </tr>\n",
              "    <tr>\n",
              "      <th>max</th>\n",
              "      <td>9.000000</td>\n",
              "    </tr>\n",
              "  </tbody>\n",
              "</table>\n",
              "</div>\n",
              "      <button class=\"colab-df-convert\" onclick=\"convertToInteractive('df-c29d85cb-53ec-4588-b383-49218e9f4d02')\"\n",
              "              title=\"Convert this dataframe to an interactive table.\"\n",
              "              style=\"display:none;\">\n",
              "        \n",
              "  <svg xmlns=\"http://www.w3.org/2000/svg\" height=\"24px\"viewBox=\"0 0 24 24\"\n",
              "       width=\"24px\">\n",
              "    <path d=\"M0 0h24v24H0V0z\" fill=\"none\"/>\n",
              "    <path d=\"M18.56 5.44l.94 2.06.94-2.06 2.06-.94-2.06-.94-.94-2.06-.94 2.06-2.06.94zm-11 1L8.5 8.5l.94-2.06 2.06-.94-2.06-.94L8.5 2.5l-.94 2.06-2.06.94zm10 10l.94 2.06.94-2.06 2.06-.94-2.06-.94-.94-2.06-.94 2.06-2.06.94z\"/><path d=\"M17.41 7.96l-1.37-1.37c-.4-.4-.92-.59-1.43-.59-.52 0-1.04.2-1.43.59L10.3 9.45l-7.72 7.72c-.78.78-.78 2.05 0 2.83L4 21.41c.39.39.9.59 1.41.59.51 0 1.02-.2 1.41-.59l7.78-7.78 2.81-2.81c.8-.78.8-2.07 0-2.86zM5.41 20L4 18.59l7.72-7.72 1.47 1.35L5.41 20z\"/>\n",
              "  </svg>\n",
              "      </button>\n",
              "      \n",
              "  <style>\n",
              "    .colab-df-container {\n",
              "      display:flex;\n",
              "      flex-wrap:wrap;\n",
              "      gap: 12px;\n",
              "    }\n",
              "\n",
              "    .colab-df-convert {\n",
              "      background-color: #E8F0FE;\n",
              "      border: none;\n",
              "      border-radius: 50%;\n",
              "      cursor: pointer;\n",
              "      display: none;\n",
              "      fill: #1967D2;\n",
              "      height: 32px;\n",
              "      padding: 0 0 0 0;\n",
              "      width: 32px;\n",
              "    }\n",
              "\n",
              "    .colab-df-convert:hover {\n",
              "      background-color: #E2EBFA;\n",
              "      box-shadow: 0px 1px 2px rgba(60, 64, 67, 0.3), 0px 1px 3px 1px rgba(60, 64, 67, 0.15);\n",
              "      fill: #174EA6;\n",
              "    }\n",
              "\n",
              "    [theme=dark] .colab-df-convert {\n",
              "      background-color: #3B4455;\n",
              "      fill: #D2E3FC;\n",
              "    }\n",
              "\n",
              "    [theme=dark] .colab-df-convert:hover {\n",
              "      background-color: #434B5C;\n",
              "      box-shadow: 0px 1px 3px 1px rgba(0, 0, 0, 0.15);\n",
              "      filter: drop-shadow(0px 1px 2px rgba(0, 0, 0, 0.3));\n",
              "      fill: #FFFFFF;\n",
              "    }\n",
              "  </style>\n",
              "\n",
              "      <script>\n",
              "        const buttonEl =\n",
              "          document.querySelector('#df-c29d85cb-53ec-4588-b383-49218e9f4d02 button.colab-df-convert');\n",
              "        buttonEl.style.display =\n",
              "          google.colab.kernel.accessAllowed ? 'block' : 'none';\n",
              "\n",
              "        async function convertToInteractive(key) {\n",
              "          const element = document.querySelector('#df-c29d85cb-53ec-4588-b383-49218e9f4d02');\n",
              "          const dataTable =\n",
              "            await google.colab.kernel.invokeFunction('convertToInteractive',\n",
              "                                                     [key], {});\n",
              "          if (!dataTable) return;\n",
              "\n",
              "          const docLinkHtml = 'Like what you see? Visit the ' +\n",
              "            '<a target=\"_blank\" href=https://colab.research.google.com/notebooks/data_table.ipynb>data table notebook</a>'\n",
              "            + ' to learn more about interactive tables.';\n",
              "          element.innerHTML = '';\n",
              "          dataTable['output_type'] = 'display_data';\n",
              "          await google.colab.output.renderOutput(dataTable, element);\n",
              "          const docLink = document.createElement('div');\n",
              "          docLink.innerHTML = docLinkHtml;\n",
              "          element.appendChild(docLink);\n",
              "        }\n",
              "      </script>\n",
              "    </div>\n",
              "  </div>\n",
              "  "
            ]
          },
          "metadata": {},
          "execution_count": 86
        }
      ]
    },
    {
      "cell_type": "code",
      "source": [
        "alunosDF['Aprovados']"
      ],
      "metadata": {
        "colab": {
          "base_uri": "https://localhost:8080/"
        },
        "id": "i44fXb5godzj",
        "outputId": "bded3bc2-42c1-4ca2-91ab-144d7385ea3b"
      },
      "execution_count": null,
      "outputs": [
        {
          "output_type": "execute_result",
          "data": {
            "text/plain": [
              "0    Não\n",
              "1    Sim\n",
              "2    Não\n",
              "3    Sim\n",
              "Name: Aprovados, dtype: object"
            ]
          },
          "metadata": {},
          "execution_count": 87
        }
      ]
    },
    {
      "cell_type": "code",
      "source": [
        "alunosDF.loc[1:3] #localizar igual ao CTRL + L no excel e Where no SQL"
      ],
      "metadata": {
        "colab": {
          "base_uri": "https://localhost:8080/",
          "height": 143
        },
        "id": "cl99j8skTdCX",
        "outputId": "606e8655-0352-4148-c23e-ae656769416a"
      },
      "execution_count": null,
      "outputs": [
        {
          "output_type": "execute_result",
          "data": {
            "text/plain": [
              "      Nome  Nota Aprovados\n",
              "1    Pedro   7.0       Sim\n",
              "2  Roberto   5.5       Não\n",
              "3   Carlos   9.0       Sim"
            ],
            "text/html": [
              "\n",
              "  <div id=\"df-a7ac935e-3b38-4280-9e07-eed26f15627b\">\n",
              "    <div class=\"colab-df-container\">\n",
              "      <div>\n",
              "<style scoped>\n",
              "    .dataframe tbody tr th:only-of-type {\n",
              "        vertical-align: middle;\n",
              "    }\n",
              "\n",
              "    .dataframe tbody tr th {\n",
              "        vertical-align: top;\n",
              "    }\n",
              "\n",
              "    .dataframe thead th {\n",
              "        text-align: right;\n",
              "    }\n",
              "</style>\n",
              "<table border=\"1\" class=\"dataframe\">\n",
              "  <thead>\n",
              "    <tr style=\"text-align: right;\">\n",
              "      <th></th>\n",
              "      <th>Nome</th>\n",
              "      <th>Nota</th>\n",
              "      <th>Aprovados</th>\n",
              "    </tr>\n",
              "  </thead>\n",
              "  <tbody>\n",
              "    <tr>\n",
              "      <th>1</th>\n",
              "      <td>Pedro</td>\n",
              "      <td>7.0</td>\n",
              "      <td>Sim</td>\n",
              "    </tr>\n",
              "    <tr>\n",
              "      <th>2</th>\n",
              "      <td>Roberto</td>\n",
              "      <td>5.5</td>\n",
              "      <td>Não</td>\n",
              "    </tr>\n",
              "    <tr>\n",
              "      <th>3</th>\n",
              "      <td>Carlos</td>\n",
              "      <td>9.0</td>\n",
              "      <td>Sim</td>\n",
              "    </tr>\n",
              "  </tbody>\n",
              "</table>\n",
              "</div>\n",
              "      <button class=\"colab-df-convert\" onclick=\"convertToInteractive('df-a7ac935e-3b38-4280-9e07-eed26f15627b')\"\n",
              "              title=\"Convert this dataframe to an interactive table.\"\n",
              "              style=\"display:none;\">\n",
              "        \n",
              "  <svg xmlns=\"http://www.w3.org/2000/svg\" height=\"24px\"viewBox=\"0 0 24 24\"\n",
              "       width=\"24px\">\n",
              "    <path d=\"M0 0h24v24H0V0z\" fill=\"none\"/>\n",
              "    <path d=\"M18.56 5.44l.94 2.06.94-2.06 2.06-.94-2.06-.94-.94-2.06-.94 2.06-2.06.94zm-11 1L8.5 8.5l.94-2.06 2.06-.94-2.06-.94L8.5 2.5l-.94 2.06-2.06.94zm10 10l.94 2.06.94-2.06 2.06-.94-2.06-.94-.94-2.06-.94 2.06-2.06.94z\"/><path d=\"M17.41 7.96l-1.37-1.37c-.4-.4-.92-.59-1.43-.59-.52 0-1.04.2-1.43.59L10.3 9.45l-7.72 7.72c-.78.78-.78 2.05 0 2.83L4 21.41c.39.39.9.59 1.41.59.51 0 1.02-.2 1.41-.59l7.78-7.78 2.81-2.81c.8-.78.8-2.07 0-2.86zM5.41 20L4 18.59l7.72-7.72 1.47 1.35L5.41 20z\"/>\n",
              "  </svg>\n",
              "      </button>\n",
              "      \n",
              "  <style>\n",
              "    .colab-df-container {\n",
              "      display:flex;\n",
              "      flex-wrap:wrap;\n",
              "      gap: 12px;\n",
              "    }\n",
              "\n",
              "    .colab-df-convert {\n",
              "      background-color: #E8F0FE;\n",
              "      border: none;\n",
              "      border-radius: 50%;\n",
              "      cursor: pointer;\n",
              "      display: none;\n",
              "      fill: #1967D2;\n",
              "      height: 32px;\n",
              "      padding: 0 0 0 0;\n",
              "      width: 32px;\n",
              "    }\n",
              "\n",
              "    .colab-df-convert:hover {\n",
              "      background-color: #E2EBFA;\n",
              "      box-shadow: 0px 1px 2px rgba(60, 64, 67, 0.3), 0px 1px 3px 1px rgba(60, 64, 67, 0.15);\n",
              "      fill: #174EA6;\n",
              "    }\n",
              "\n",
              "    [theme=dark] .colab-df-convert {\n",
              "      background-color: #3B4455;\n",
              "      fill: #D2E3FC;\n",
              "    }\n",
              "\n",
              "    [theme=dark] .colab-df-convert:hover {\n",
              "      background-color: #434B5C;\n",
              "      box-shadow: 0px 1px 3px 1px rgba(0, 0, 0, 0.15);\n",
              "      filter: drop-shadow(0px 1px 2px rgba(0, 0, 0, 0.3));\n",
              "      fill: #FFFFFF;\n",
              "    }\n",
              "  </style>\n",
              "\n",
              "      <script>\n",
              "        const buttonEl =\n",
              "          document.querySelector('#df-a7ac935e-3b38-4280-9e07-eed26f15627b button.colab-df-convert');\n",
              "        buttonEl.style.display =\n",
              "          google.colab.kernel.accessAllowed ? 'block' : 'none';\n",
              "\n",
              "        async function convertToInteractive(key) {\n",
              "          const element = document.querySelector('#df-a7ac935e-3b38-4280-9e07-eed26f15627b');\n",
              "          const dataTable =\n",
              "            await google.colab.kernel.invokeFunction('convertToInteractive',\n",
              "                                                     [key], {});\n",
              "          if (!dataTable) return;\n",
              "\n",
              "          const docLinkHtml = 'Like what you see? Visit the ' +\n",
              "            '<a target=\"_blank\" href=https://colab.research.google.com/notebooks/data_table.ipynb>data table notebook</a>'\n",
              "            + ' to learn more about interactive tables.';\n",
              "          element.innerHTML = '';\n",
              "          dataTable['output_type'] = 'display_data';\n",
              "          await google.colab.output.renderOutput(dataTable, element);\n",
              "          const docLink = document.createElement('div');\n",
              "          docLink.innerHTML = docLinkHtml;\n",
              "          element.appendChild(docLink);\n",
              "        }\n",
              "      </script>\n",
              "    </div>\n",
              "  </div>\n",
              "  "
            ]
          },
          "metadata": {},
          "execution_count": 88
        }
      ]
    },
    {
      "cell_type": "code",
      "source": [
        "alunosDF.loc[alunosDF['Aprovados'] == 'Sim'] #filtro do filtro, utilizar o símbolo de ==, ao invés de um único =."
      ],
      "metadata": {
        "colab": {
          "base_uri": "https://localhost:8080/",
          "height": 112
        },
        "id": "uw42oxMcUJzx",
        "outputId": "360e69f4-cba3-433f-f519-33affecd142b"
      },
      "execution_count": null,
      "outputs": [
        {
          "output_type": "execute_result",
          "data": {
            "text/plain": [
              "     Nome  Nota Aprovados\n",
              "1   Pedro   7.0       Sim\n",
              "3  Carlos   9.0       Sim"
            ],
            "text/html": [
              "\n",
              "  <div id=\"df-5c147620-e551-4b7e-8b77-443bec1da06a\">\n",
              "    <div class=\"colab-df-container\">\n",
              "      <div>\n",
              "<style scoped>\n",
              "    .dataframe tbody tr th:only-of-type {\n",
              "        vertical-align: middle;\n",
              "    }\n",
              "\n",
              "    .dataframe tbody tr th {\n",
              "        vertical-align: top;\n",
              "    }\n",
              "\n",
              "    .dataframe thead th {\n",
              "        text-align: right;\n",
              "    }\n",
              "</style>\n",
              "<table border=\"1\" class=\"dataframe\">\n",
              "  <thead>\n",
              "    <tr style=\"text-align: right;\">\n",
              "      <th></th>\n",
              "      <th>Nome</th>\n",
              "      <th>Nota</th>\n",
              "      <th>Aprovados</th>\n",
              "    </tr>\n",
              "  </thead>\n",
              "  <tbody>\n",
              "    <tr>\n",
              "      <th>1</th>\n",
              "      <td>Pedro</td>\n",
              "      <td>7.0</td>\n",
              "      <td>Sim</td>\n",
              "    </tr>\n",
              "    <tr>\n",
              "      <th>3</th>\n",
              "      <td>Carlos</td>\n",
              "      <td>9.0</td>\n",
              "      <td>Sim</td>\n",
              "    </tr>\n",
              "  </tbody>\n",
              "</table>\n",
              "</div>\n",
              "      <button class=\"colab-df-convert\" onclick=\"convertToInteractive('df-5c147620-e551-4b7e-8b77-443bec1da06a')\"\n",
              "              title=\"Convert this dataframe to an interactive table.\"\n",
              "              style=\"display:none;\">\n",
              "        \n",
              "  <svg xmlns=\"http://www.w3.org/2000/svg\" height=\"24px\"viewBox=\"0 0 24 24\"\n",
              "       width=\"24px\">\n",
              "    <path d=\"M0 0h24v24H0V0z\" fill=\"none\"/>\n",
              "    <path d=\"M18.56 5.44l.94 2.06.94-2.06 2.06-.94-2.06-.94-.94-2.06-.94 2.06-2.06.94zm-11 1L8.5 8.5l.94-2.06 2.06-.94-2.06-.94L8.5 2.5l-.94 2.06-2.06.94zm10 10l.94 2.06.94-2.06 2.06-.94-2.06-.94-.94-2.06-.94 2.06-2.06.94z\"/><path d=\"M17.41 7.96l-1.37-1.37c-.4-.4-.92-.59-1.43-.59-.52 0-1.04.2-1.43.59L10.3 9.45l-7.72 7.72c-.78.78-.78 2.05 0 2.83L4 21.41c.39.39.9.59 1.41.59.51 0 1.02-.2 1.41-.59l7.78-7.78 2.81-2.81c.8-.78.8-2.07 0-2.86zM5.41 20L4 18.59l7.72-7.72 1.47 1.35L5.41 20z\"/>\n",
              "  </svg>\n",
              "      </button>\n",
              "      \n",
              "  <style>\n",
              "    .colab-df-container {\n",
              "      display:flex;\n",
              "      flex-wrap:wrap;\n",
              "      gap: 12px;\n",
              "    }\n",
              "\n",
              "    .colab-df-convert {\n",
              "      background-color: #E8F0FE;\n",
              "      border: none;\n",
              "      border-radius: 50%;\n",
              "      cursor: pointer;\n",
              "      display: none;\n",
              "      fill: #1967D2;\n",
              "      height: 32px;\n",
              "      padding: 0 0 0 0;\n",
              "      width: 32px;\n",
              "    }\n",
              "\n",
              "    .colab-df-convert:hover {\n",
              "      background-color: #E2EBFA;\n",
              "      box-shadow: 0px 1px 2px rgba(60, 64, 67, 0.3), 0px 1px 3px 1px rgba(60, 64, 67, 0.15);\n",
              "      fill: #174EA6;\n",
              "    }\n",
              "\n",
              "    [theme=dark] .colab-df-convert {\n",
              "      background-color: #3B4455;\n",
              "      fill: #D2E3FC;\n",
              "    }\n",
              "\n",
              "    [theme=dark] .colab-df-convert:hover {\n",
              "      background-color: #434B5C;\n",
              "      box-shadow: 0px 1px 3px 1px rgba(0, 0, 0, 0.15);\n",
              "      filter: drop-shadow(0px 1px 2px rgba(0, 0, 0, 0.3));\n",
              "      fill: #FFFFFF;\n",
              "    }\n",
              "  </style>\n",
              "\n",
              "      <script>\n",
              "        const buttonEl =\n",
              "          document.querySelector('#df-5c147620-e551-4b7e-8b77-443bec1da06a button.colab-df-convert');\n",
              "        buttonEl.style.display =\n",
              "          google.colab.kernel.accessAllowed ? 'block' : 'none';\n",
              "\n",
              "        async function convertToInteractive(key) {\n",
              "          const element = document.querySelector('#df-5c147620-e551-4b7e-8b77-443bec1da06a');\n",
              "          const dataTable =\n",
              "            await google.colab.kernel.invokeFunction('convertToInteractive',\n",
              "                                                     [key], {});\n",
              "          if (!dataTable) return;\n",
              "\n",
              "          const docLinkHtml = 'Like what you see? Visit the ' +\n",
              "            '<a target=\"_blank\" href=https://colab.research.google.com/notebooks/data_table.ipynb>data table notebook</a>'\n",
              "            + ' to learn more about interactive tables.';\n",
              "          element.innerHTML = '';\n",
              "          dataTable['output_type'] = 'display_data';\n",
              "          await google.colab.output.renderOutput(dataTable, element);\n",
              "          const docLink = document.createElement('div');\n",
              "          docLink.innerHTML = docLinkHtml;\n",
              "          element.appendChild(docLink);\n",
              "        }\n",
              "      </script>\n",
              "    </div>\n",
              "  </div>\n",
              "  "
            ]
          },
          "metadata": {},
          "execution_count": 89
        }
      ]
    },
    {
      "cell_type": "code",
      "source": [
        "primeiraslinhas = alunosDF.loc[0:2]\n",
        "print(primeiraslinhas)"
      ],
      "metadata": {
        "colab": {
          "base_uri": "https://localhost:8080/"
        },
        "id": "jxfatf8bUvzX",
        "outputId": "500c9a2c-0b7e-4c15-b32f-07620c5a7caf"
      },
      "execution_count": null,
      "outputs": [
        {
          "output_type": "stream",
          "name": "stdout",
          "text": [
            "      Nome  Nota Aprovados\n",
            "0  Ricardo   4.0       Não\n",
            "1    Pedro   7.0       Sim\n",
            "2  Roberto   5.5       Não\n"
          ]
        }
      ]
    },
    {
      "cell_type": "code",
      "source": [
        "novoDF = alunosDF.loc[alunosDF['Nota']!=9]\n",
        "print(novoDF)"
      ],
      "metadata": {
        "colab": {
          "base_uri": "https://localhost:8080/"
        },
        "id": "V34jMy1XZqNU",
        "outputId": "25418a9b-bce1-4b0e-b11f-d57bf64d7cee"
      },
      "execution_count": null,
      "outputs": [
        {
          "output_type": "stream",
          "name": "stdout",
          "text": [
            "      Nome  Nota Aprovados\n",
            "0  Ricardo   4.0       Não\n",
            "1    Pedro   7.0       Sim\n",
            "2  Roberto   5.5       Não\n"
          ]
        }
      ]
    },
    {
      "cell_type": "code",
      "source": [
        "alunosreprovados = alunosDF.loc[alunosDF['Aprovados']!='Sim']\n",
        "print(alunosreprovados)"
      ],
      "metadata": {
        "colab": {
          "base_uri": "https://localhost:8080/"
        },
        "id": "TakfYHN9axBj",
        "outputId": "26c5a03c-f31a-47bf-bbbb-502c7e8bb397"
      },
      "execution_count": null,
      "outputs": [
        {
          "output_type": "stream",
          "name": "stdout",
          "text": [
            "      Nome  Nota Aprovados\n",
            "0  Ricardo   4.0       Não\n",
            "2  Roberto   5.5       Não\n"
          ]
        }
      ]
    },
    {
      "cell_type": "markdown",
      "source": [
        "**`Aplicando comandos em tabelas:`**\n",
        "\n"
      ],
      "metadata": {
        "id": "aXo7EKLxdCOw"
      }
    },
    {
      "cell_type": "code",
      "source": [
        "from google.colab import drive\n",
        "drive.mount('/content/drive')"
      ],
      "metadata": {
        "colab": {
          "base_uri": "https://localhost:8080/"
        },
        "id": "fH6jwrUnacdC",
        "outputId": "da8c7d57-5e71-4b77-bc6a-71ff80611453"
      },
      "execution_count": null,
      "outputs": [
        {
          "output_type": "stream",
          "name": "stdout",
          "text": [
            "Mounted at /content/drive\n"
          ]
        }
      ]
    },
    {
      "cell_type": "code",
      "source": [
        "import pandas as pd\n",
        "df = pd.read_csv('/content/drive/My Drive/Laboratório de Python/athlete_events.csv')"
      ],
      "metadata": {
        "id": "rgfXwkrQcwwg"
      },
      "execution_count": null,
      "outputs": []
    },
    {
      "cell_type": "code",
      "source": [
        "df.head()"
      ],
      "metadata": {
        "colab": {
          "base_uri": "https://localhost:8080/",
          "height": 337
        },
        "id": "Mw71ueThc9YT",
        "outputId": "467a4cb8-cc29-450a-d43c-0989ca60b635"
      },
      "execution_count": null,
      "outputs": [
        {
          "output_type": "execute_result",
          "data": {
            "text/plain": [
              "   ID                      Name Sex   Age  Height  Weight            Team  \\\n",
              "0   1                 A Dijiang   M  24.0   180.0    80.0           China   \n",
              "1   2                  A Lamusi   M  23.0   170.0    60.0           China   \n",
              "2   3       Gunnar Nielsen Aaby   M  24.0     NaN     NaN         Denmark   \n",
              "3   4      Edgar Lindenau Aabye   M  34.0     NaN     NaN  Denmark/Sweden   \n",
              "4   5  Christine Jacoba Aaftink   F  21.0   185.0    82.0     Netherlands   \n",
              "\n",
              "   NOC        Games  Year  Season       City          Sport  \\\n",
              "0  CHN  1992 Summer  1992  Summer  Barcelona     Basketball   \n",
              "1  CHN  2012 Summer  2012  Summer     London           Judo   \n",
              "2  DEN  1920 Summer  1920  Summer  Antwerpen       Football   \n",
              "3  DEN  1900 Summer  1900  Summer      Paris     Tug-Of-War   \n",
              "4  NED  1988 Winter  1988  Winter    Calgary  Speed Skating   \n",
              "\n",
              "                              Event Medal  \n",
              "0       Basketball Men's Basketball   NaN  \n",
              "1      Judo Men's Extra-Lightweight   NaN  \n",
              "2           Football Men's Football   NaN  \n",
              "3       Tug-Of-War Men's Tug-Of-War  Gold  \n",
              "4  Speed Skating Women's 500 metres   NaN  "
            ],
            "text/html": [
              "\n",
              "  <div id=\"df-0a49362f-a04a-4611-a0a0-32ac68adc153\">\n",
              "    <div class=\"colab-df-container\">\n",
              "      <div>\n",
              "<style scoped>\n",
              "    .dataframe tbody tr th:only-of-type {\n",
              "        vertical-align: middle;\n",
              "    }\n",
              "\n",
              "    .dataframe tbody tr th {\n",
              "        vertical-align: top;\n",
              "    }\n",
              "\n",
              "    .dataframe thead th {\n",
              "        text-align: right;\n",
              "    }\n",
              "</style>\n",
              "<table border=\"1\" class=\"dataframe\">\n",
              "  <thead>\n",
              "    <tr style=\"text-align: right;\">\n",
              "      <th></th>\n",
              "      <th>ID</th>\n",
              "      <th>Name</th>\n",
              "      <th>Sex</th>\n",
              "      <th>Age</th>\n",
              "      <th>Height</th>\n",
              "      <th>Weight</th>\n",
              "      <th>Team</th>\n",
              "      <th>NOC</th>\n",
              "      <th>Games</th>\n",
              "      <th>Year</th>\n",
              "      <th>Season</th>\n",
              "      <th>City</th>\n",
              "      <th>Sport</th>\n",
              "      <th>Event</th>\n",
              "      <th>Medal</th>\n",
              "    </tr>\n",
              "  </thead>\n",
              "  <tbody>\n",
              "    <tr>\n",
              "      <th>0</th>\n",
              "      <td>1</td>\n",
              "      <td>A Dijiang</td>\n",
              "      <td>M</td>\n",
              "      <td>24.0</td>\n",
              "      <td>180.0</td>\n",
              "      <td>80.0</td>\n",
              "      <td>China</td>\n",
              "      <td>CHN</td>\n",
              "      <td>1992 Summer</td>\n",
              "      <td>1992</td>\n",
              "      <td>Summer</td>\n",
              "      <td>Barcelona</td>\n",
              "      <td>Basketball</td>\n",
              "      <td>Basketball Men's Basketball</td>\n",
              "      <td>NaN</td>\n",
              "    </tr>\n",
              "    <tr>\n",
              "      <th>1</th>\n",
              "      <td>2</td>\n",
              "      <td>A Lamusi</td>\n",
              "      <td>M</td>\n",
              "      <td>23.0</td>\n",
              "      <td>170.0</td>\n",
              "      <td>60.0</td>\n",
              "      <td>China</td>\n",
              "      <td>CHN</td>\n",
              "      <td>2012 Summer</td>\n",
              "      <td>2012</td>\n",
              "      <td>Summer</td>\n",
              "      <td>London</td>\n",
              "      <td>Judo</td>\n",
              "      <td>Judo Men's Extra-Lightweight</td>\n",
              "      <td>NaN</td>\n",
              "    </tr>\n",
              "    <tr>\n",
              "      <th>2</th>\n",
              "      <td>3</td>\n",
              "      <td>Gunnar Nielsen Aaby</td>\n",
              "      <td>M</td>\n",
              "      <td>24.0</td>\n",
              "      <td>NaN</td>\n",
              "      <td>NaN</td>\n",
              "      <td>Denmark</td>\n",
              "      <td>DEN</td>\n",
              "      <td>1920 Summer</td>\n",
              "      <td>1920</td>\n",
              "      <td>Summer</td>\n",
              "      <td>Antwerpen</td>\n",
              "      <td>Football</td>\n",
              "      <td>Football Men's Football</td>\n",
              "      <td>NaN</td>\n",
              "    </tr>\n",
              "    <tr>\n",
              "      <th>3</th>\n",
              "      <td>4</td>\n",
              "      <td>Edgar Lindenau Aabye</td>\n",
              "      <td>M</td>\n",
              "      <td>34.0</td>\n",
              "      <td>NaN</td>\n",
              "      <td>NaN</td>\n",
              "      <td>Denmark/Sweden</td>\n",
              "      <td>DEN</td>\n",
              "      <td>1900 Summer</td>\n",
              "      <td>1900</td>\n",
              "      <td>Summer</td>\n",
              "      <td>Paris</td>\n",
              "      <td>Tug-Of-War</td>\n",
              "      <td>Tug-Of-War Men's Tug-Of-War</td>\n",
              "      <td>Gold</td>\n",
              "    </tr>\n",
              "    <tr>\n",
              "      <th>4</th>\n",
              "      <td>5</td>\n",
              "      <td>Christine Jacoba Aaftink</td>\n",
              "      <td>F</td>\n",
              "      <td>21.0</td>\n",
              "      <td>185.0</td>\n",
              "      <td>82.0</td>\n",
              "      <td>Netherlands</td>\n",
              "      <td>NED</td>\n",
              "      <td>1988 Winter</td>\n",
              "      <td>1988</td>\n",
              "      <td>Winter</td>\n",
              "      <td>Calgary</td>\n",
              "      <td>Speed Skating</td>\n",
              "      <td>Speed Skating Women's 500 metres</td>\n",
              "      <td>NaN</td>\n",
              "    </tr>\n",
              "  </tbody>\n",
              "</table>\n",
              "</div>\n",
              "      <button class=\"colab-df-convert\" onclick=\"convertToInteractive('df-0a49362f-a04a-4611-a0a0-32ac68adc153')\"\n",
              "              title=\"Convert this dataframe to an interactive table.\"\n",
              "              style=\"display:none;\">\n",
              "        \n",
              "  <svg xmlns=\"http://www.w3.org/2000/svg\" height=\"24px\"viewBox=\"0 0 24 24\"\n",
              "       width=\"24px\">\n",
              "    <path d=\"M0 0h24v24H0V0z\" fill=\"none\"/>\n",
              "    <path d=\"M18.56 5.44l.94 2.06.94-2.06 2.06-.94-2.06-.94-.94-2.06-.94 2.06-2.06.94zm-11 1L8.5 8.5l.94-2.06 2.06-.94-2.06-.94L8.5 2.5l-.94 2.06-2.06.94zm10 10l.94 2.06.94-2.06 2.06-.94-2.06-.94-.94-2.06-.94 2.06-2.06.94z\"/><path d=\"M17.41 7.96l-1.37-1.37c-.4-.4-.92-.59-1.43-.59-.52 0-1.04.2-1.43.59L10.3 9.45l-7.72 7.72c-.78.78-.78 2.05 0 2.83L4 21.41c.39.39.9.59 1.41.59.51 0 1.02-.2 1.41-.59l7.78-7.78 2.81-2.81c.8-.78.8-2.07 0-2.86zM5.41 20L4 18.59l7.72-7.72 1.47 1.35L5.41 20z\"/>\n",
              "  </svg>\n",
              "      </button>\n",
              "      \n",
              "  <style>\n",
              "    .colab-df-container {\n",
              "      display:flex;\n",
              "      flex-wrap:wrap;\n",
              "      gap: 12px;\n",
              "    }\n",
              "\n",
              "    .colab-df-convert {\n",
              "      background-color: #E8F0FE;\n",
              "      border: none;\n",
              "      border-radius: 50%;\n",
              "      cursor: pointer;\n",
              "      display: none;\n",
              "      fill: #1967D2;\n",
              "      height: 32px;\n",
              "      padding: 0 0 0 0;\n",
              "      width: 32px;\n",
              "    }\n",
              "\n",
              "    .colab-df-convert:hover {\n",
              "      background-color: #E2EBFA;\n",
              "      box-shadow: 0px 1px 2px rgba(60, 64, 67, 0.3), 0px 1px 3px 1px rgba(60, 64, 67, 0.15);\n",
              "      fill: #174EA6;\n",
              "    }\n",
              "\n",
              "    [theme=dark] .colab-df-convert {\n",
              "      background-color: #3B4455;\n",
              "      fill: #D2E3FC;\n",
              "    }\n",
              "\n",
              "    [theme=dark] .colab-df-convert:hover {\n",
              "      background-color: #434B5C;\n",
              "      box-shadow: 0px 1px 3px 1px rgba(0, 0, 0, 0.15);\n",
              "      filter: drop-shadow(0px 1px 2px rgba(0, 0, 0, 0.3));\n",
              "      fill: #FFFFFF;\n",
              "    }\n",
              "  </style>\n",
              "\n",
              "      <script>\n",
              "        const buttonEl =\n",
              "          document.querySelector('#df-0a49362f-a04a-4611-a0a0-32ac68adc153 button.colab-df-convert');\n",
              "        buttonEl.style.display =\n",
              "          google.colab.kernel.accessAllowed ? 'block' : 'none';\n",
              "\n",
              "        async function convertToInteractive(key) {\n",
              "          const element = document.querySelector('#df-0a49362f-a04a-4611-a0a0-32ac68adc153');\n",
              "          const dataTable =\n",
              "            await google.colab.kernel.invokeFunction('convertToInteractive',\n",
              "                                                     [key], {});\n",
              "          if (!dataTable) return;\n",
              "\n",
              "          const docLinkHtml = 'Like what you see? Visit the ' +\n",
              "            '<a target=\"_blank\" href=https://colab.research.google.com/notebooks/data_table.ipynb>data table notebook</a>'\n",
              "            + ' to learn more about interactive tables.';\n",
              "          element.innerHTML = '';\n",
              "          dataTable['output_type'] = 'display_data';\n",
              "          await google.colab.output.renderOutput(dataTable, element);\n",
              "          const docLink = document.createElement('div');\n",
              "          docLink.innerHTML = docLinkHtml;\n",
              "          element.appendChild(docLink);\n",
              "        }\n",
              "      </script>\n",
              "    </div>\n",
              "  </div>\n",
              "  "
            ]
          },
          "metadata": {},
          "execution_count": 95
        }
      ]
    },
    {
      "cell_type": "code",
      "source": [
        "df.rename(columns={'Name':'Nome',\n",
        "                   'Sex':'Sexo',\n",
        "                   'Age':'Idade'}, inplace = True)"
      ],
      "metadata": {
        "id": "k6MwAEZWenwL"
      },
      "execution_count": null,
      "outputs": []
    },
    {
      "cell_type": "code",
      "source": [
        "altura = df['Height']"
      ],
      "metadata": {
        "id": "N7m3vzeVfROv"
      },
      "execution_count": null,
      "outputs": []
    },
    {
      "cell_type": "code",
      "source": [
        "type(altura)"
      ],
      "metadata": {
        "colab": {
          "base_uri": "https://localhost:8080/"
        },
        "id": "EaDD13I3fYw1",
        "outputId": "3c6afb84-dcd4-4f70-8f00-54a668527bb4"
      },
      "execution_count": null,
      "outputs": [
        {
          "output_type": "execute_result",
          "data": {
            "text/plain": [
              "pandas.core.series.Series"
            ]
          },
          "metadata": {},
          "execution_count": 98
        }
      ]
    },
    {
      "cell_type": "code",
      "source": [
        "df['Sexo'].value_counts() #contabilizar todas as vezes que as cidades apareceram."
      ],
      "metadata": {
        "colab": {
          "base_uri": "https://localhost:8080/"
        },
        "id": "4ZxvFyQQfsGz",
        "outputId": "bf56da0b-2460-47d3-aec2-a198704a2518"
      },
      "execution_count": null,
      "outputs": [
        {
          "output_type": "execute_result",
          "data": {
            "text/plain": [
              "M    196594\n",
              "F     74522\n",
              "Name: Sexo, dtype: int64"
            ]
          },
          "metadata": {},
          "execution_count": 99
        }
      ]
    },
    {
      "cell_type": "code",
      "source": [
        "df.describe() #variáveis numéricas"
      ],
      "metadata": {
        "colab": {
          "base_uri": "https://localhost:8080/",
          "height": 300
        },
        "id": "iYMHeQ2VgqjO",
        "outputId": "44d352e3-7309-4a59-bc95-27c6c0952369"
      },
      "execution_count": null,
      "outputs": [
        {
          "output_type": "execute_result",
          "data": {
            "text/plain": [
              "                  ID          Idade         Height         Weight  \\\n",
              "count  271116.000000  261642.000000  210945.000000  208241.000000   \n",
              "mean    68248.954396      25.556898     175.338970      70.702393   \n",
              "std     39022.286345       6.393561      10.518462      14.348020   \n",
              "min         1.000000      10.000000     127.000000      25.000000   \n",
              "25%     34643.000000      21.000000     168.000000      60.000000   \n",
              "50%     68205.000000      24.000000     175.000000      70.000000   \n",
              "75%    102097.250000      28.000000     183.000000      79.000000   \n",
              "max    135571.000000      97.000000     226.000000     214.000000   \n",
              "\n",
              "                Year  \n",
              "count  271116.000000  \n",
              "mean     1978.378480  \n",
              "std        29.877632  \n",
              "min      1896.000000  \n",
              "25%      1960.000000  \n",
              "50%      1988.000000  \n",
              "75%      2002.000000  \n",
              "max      2016.000000  "
            ],
            "text/html": [
              "\n",
              "  <div id=\"df-d6410cba-9811-4267-afa1-0f1fa32ce3f2\">\n",
              "    <div class=\"colab-df-container\">\n",
              "      <div>\n",
              "<style scoped>\n",
              "    .dataframe tbody tr th:only-of-type {\n",
              "        vertical-align: middle;\n",
              "    }\n",
              "\n",
              "    .dataframe tbody tr th {\n",
              "        vertical-align: top;\n",
              "    }\n",
              "\n",
              "    .dataframe thead th {\n",
              "        text-align: right;\n",
              "    }\n",
              "</style>\n",
              "<table border=\"1\" class=\"dataframe\">\n",
              "  <thead>\n",
              "    <tr style=\"text-align: right;\">\n",
              "      <th></th>\n",
              "      <th>ID</th>\n",
              "      <th>Idade</th>\n",
              "      <th>Height</th>\n",
              "      <th>Weight</th>\n",
              "      <th>Year</th>\n",
              "    </tr>\n",
              "  </thead>\n",
              "  <tbody>\n",
              "    <tr>\n",
              "      <th>count</th>\n",
              "      <td>271116.000000</td>\n",
              "      <td>261642.000000</td>\n",
              "      <td>210945.000000</td>\n",
              "      <td>208241.000000</td>\n",
              "      <td>271116.000000</td>\n",
              "    </tr>\n",
              "    <tr>\n",
              "      <th>mean</th>\n",
              "      <td>68248.954396</td>\n",
              "      <td>25.556898</td>\n",
              "      <td>175.338970</td>\n",
              "      <td>70.702393</td>\n",
              "      <td>1978.378480</td>\n",
              "    </tr>\n",
              "    <tr>\n",
              "      <th>std</th>\n",
              "      <td>39022.286345</td>\n",
              "      <td>6.393561</td>\n",
              "      <td>10.518462</td>\n",
              "      <td>14.348020</td>\n",
              "      <td>29.877632</td>\n",
              "    </tr>\n",
              "    <tr>\n",
              "      <th>min</th>\n",
              "      <td>1.000000</td>\n",
              "      <td>10.000000</td>\n",
              "      <td>127.000000</td>\n",
              "      <td>25.000000</td>\n",
              "      <td>1896.000000</td>\n",
              "    </tr>\n",
              "    <tr>\n",
              "      <th>25%</th>\n",
              "      <td>34643.000000</td>\n",
              "      <td>21.000000</td>\n",
              "      <td>168.000000</td>\n",
              "      <td>60.000000</td>\n",
              "      <td>1960.000000</td>\n",
              "    </tr>\n",
              "    <tr>\n",
              "      <th>50%</th>\n",
              "      <td>68205.000000</td>\n",
              "      <td>24.000000</td>\n",
              "      <td>175.000000</td>\n",
              "      <td>70.000000</td>\n",
              "      <td>1988.000000</td>\n",
              "    </tr>\n",
              "    <tr>\n",
              "      <th>75%</th>\n",
              "      <td>102097.250000</td>\n",
              "      <td>28.000000</td>\n",
              "      <td>183.000000</td>\n",
              "      <td>79.000000</td>\n",
              "      <td>2002.000000</td>\n",
              "    </tr>\n",
              "    <tr>\n",
              "      <th>max</th>\n",
              "      <td>135571.000000</td>\n",
              "      <td>97.000000</td>\n",
              "      <td>226.000000</td>\n",
              "      <td>214.000000</td>\n",
              "      <td>2016.000000</td>\n",
              "    </tr>\n",
              "  </tbody>\n",
              "</table>\n",
              "</div>\n",
              "      <button class=\"colab-df-convert\" onclick=\"convertToInteractive('df-d6410cba-9811-4267-afa1-0f1fa32ce3f2')\"\n",
              "              title=\"Convert this dataframe to an interactive table.\"\n",
              "              style=\"display:none;\">\n",
              "        \n",
              "  <svg xmlns=\"http://www.w3.org/2000/svg\" height=\"24px\"viewBox=\"0 0 24 24\"\n",
              "       width=\"24px\">\n",
              "    <path d=\"M0 0h24v24H0V0z\" fill=\"none\"/>\n",
              "    <path d=\"M18.56 5.44l.94 2.06.94-2.06 2.06-.94-2.06-.94-.94-2.06-.94 2.06-2.06.94zm-11 1L8.5 8.5l.94-2.06 2.06-.94-2.06-.94L8.5 2.5l-.94 2.06-2.06.94zm10 10l.94 2.06.94-2.06 2.06-.94-2.06-.94-.94-2.06-.94 2.06-2.06.94z\"/><path d=\"M17.41 7.96l-1.37-1.37c-.4-.4-.92-.59-1.43-.59-.52 0-1.04.2-1.43.59L10.3 9.45l-7.72 7.72c-.78.78-.78 2.05 0 2.83L4 21.41c.39.39.9.59 1.41.59.51 0 1.02-.2 1.41-.59l7.78-7.78 2.81-2.81c.8-.78.8-2.07 0-2.86zM5.41 20L4 18.59l7.72-7.72 1.47 1.35L5.41 20z\"/>\n",
              "  </svg>\n",
              "      </button>\n",
              "      \n",
              "  <style>\n",
              "    .colab-df-container {\n",
              "      display:flex;\n",
              "      flex-wrap:wrap;\n",
              "      gap: 12px;\n",
              "    }\n",
              "\n",
              "    .colab-df-convert {\n",
              "      background-color: #E8F0FE;\n",
              "      border: none;\n",
              "      border-radius: 50%;\n",
              "      cursor: pointer;\n",
              "      display: none;\n",
              "      fill: #1967D2;\n",
              "      height: 32px;\n",
              "      padding: 0 0 0 0;\n",
              "      width: 32px;\n",
              "    }\n",
              "\n",
              "    .colab-df-convert:hover {\n",
              "      background-color: #E2EBFA;\n",
              "      box-shadow: 0px 1px 2px rgba(60, 64, 67, 0.3), 0px 1px 3px 1px rgba(60, 64, 67, 0.15);\n",
              "      fill: #174EA6;\n",
              "    }\n",
              "\n",
              "    [theme=dark] .colab-df-convert {\n",
              "      background-color: #3B4455;\n",
              "      fill: #D2E3FC;\n",
              "    }\n",
              "\n",
              "    [theme=dark] .colab-df-convert:hover {\n",
              "      background-color: #434B5C;\n",
              "      box-shadow: 0px 1px 3px 1px rgba(0, 0, 0, 0.15);\n",
              "      filter: drop-shadow(0px 1px 2px rgba(0, 0, 0, 0.3));\n",
              "      fill: #FFFFFF;\n",
              "    }\n",
              "  </style>\n",
              "\n",
              "      <script>\n",
              "        const buttonEl =\n",
              "          document.querySelector('#df-d6410cba-9811-4267-afa1-0f1fa32ce3f2 button.colab-df-convert');\n",
              "        buttonEl.style.display =\n",
              "          google.colab.kernel.accessAllowed ? 'block' : 'none';\n",
              "\n",
              "        async function convertToInteractive(key) {\n",
              "          const element = document.querySelector('#df-d6410cba-9811-4267-afa1-0f1fa32ce3f2');\n",
              "          const dataTable =\n",
              "            await google.colab.kernel.invokeFunction('convertToInteractive',\n",
              "                                                     [key], {});\n",
              "          if (!dataTable) return;\n",
              "\n",
              "          const docLinkHtml = 'Like what you see? Visit the ' +\n",
              "            '<a target=\"_blank\" href=https://colab.research.google.com/notebooks/data_table.ipynb>data table notebook</a>'\n",
              "            + ' to learn more about interactive tables.';\n",
              "          element.innerHTML = '';\n",
              "          dataTable['output_type'] = 'display_data';\n",
              "          await google.colab.output.renderOutput(dataTable, element);\n",
              "          const docLink = document.createElement('div');\n",
              "          docLink.innerHTML = docLinkHtml;\n",
              "          element.appendChild(docLink);\n",
              "        }\n",
              "      </script>\n",
              "    </div>\n",
              "  </div>\n",
              "  "
            ]
          },
          "metadata": {},
          "execution_count": 100
        }
      ]
    },
    {
      "cell_type": "markdown",
      "source": [
        "**`Excluir colunas e linhas do Dataset.`**"
      ],
      "metadata": {
        "id": "0W0l7ykmwA3n"
      }
    },
    {
      "cell_type": "code",
      "source": [
        "df.drop('ID', axis = 1, inplace = True) #axis = 1 significa que é uma coluna, enquanto axis = 0 significa que é uma linha.\n",
        "df.drop('Season', axis = 1, inplace = True)\n",
        "df.drop('City', axis = 1, inplace = True)"
      ],
      "metadata": {
        "id": "jr_v0pFSuh2h"
      },
      "execution_count": null,
      "outputs": []
    },
    {
      "cell_type": "code",
      "source": [
        "df.head()"
      ],
      "metadata": {
        "colab": {
          "base_uri": "https://localhost:8080/",
          "height": 250
        },
        "id": "1izjTsZ2v6vP",
        "outputId": "0df74862-ed42-4c41-deab-0fdd1269ac06"
      },
      "execution_count": null,
      "outputs": [
        {
          "output_type": "execute_result",
          "data": {
            "text/plain": [
              "                       Nome Sexo  Idade  Height  Weight            Team  NOC  \\\n",
              "0                 A Dijiang    M   24.0   180.0    80.0           China  CHN   \n",
              "1                  A Lamusi    M   23.0   170.0    60.0           China  CHN   \n",
              "2       Gunnar Nielsen Aaby    M   24.0     NaN     NaN         Denmark  DEN   \n",
              "3      Edgar Lindenau Aabye    M   34.0     NaN     NaN  Denmark/Sweden  DEN   \n",
              "4  Christine Jacoba Aaftink    F   21.0   185.0    82.0     Netherlands  NED   \n",
              "\n",
              "         Games  Year          Sport                             Event Medal  \n",
              "0  1992 Summer  1992     Basketball       Basketball Men's Basketball   NaN  \n",
              "1  2012 Summer  2012           Judo      Judo Men's Extra-Lightweight   NaN  \n",
              "2  1920 Summer  1920       Football           Football Men's Football   NaN  \n",
              "3  1900 Summer  1900     Tug-Of-War       Tug-Of-War Men's Tug-Of-War  Gold  \n",
              "4  1988 Winter  1988  Speed Skating  Speed Skating Women's 500 metres   NaN  "
            ],
            "text/html": [
              "\n",
              "  <div id=\"df-0431be67-1bb1-4817-89e6-2c9af818316e\">\n",
              "    <div class=\"colab-df-container\">\n",
              "      <div>\n",
              "<style scoped>\n",
              "    .dataframe tbody tr th:only-of-type {\n",
              "        vertical-align: middle;\n",
              "    }\n",
              "\n",
              "    .dataframe tbody tr th {\n",
              "        vertical-align: top;\n",
              "    }\n",
              "\n",
              "    .dataframe thead th {\n",
              "        text-align: right;\n",
              "    }\n",
              "</style>\n",
              "<table border=\"1\" class=\"dataframe\">\n",
              "  <thead>\n",
              "    <tr style=\"text-align: right;\">\n",
              "      <th></th>\n",
              "      <th>Nome</th>\n",
              "      <th>Sexo</th>\n",
              "      <th>Idade</th>\n",
              "      <th>Height</th>\n",
              "      <th>Weight</th>\n",
              "      <th>Team</th>\n",
              "      <th>NOC</th>\n",
              "      <th>Games</th>\n",
              "      <th>Year</th>\n",
              "      <th>Sport</th>\n",
              "      <th>Event</th>\n",
              "      <th>Medal</th>\n",
              "    </tr>\n",
              "  </thead>\n",
              "  <tbody>\n",
              "    <tr>\n",
              "      <th>0</th>\n",
              "      <td>A Dijiang</td>\n",
              "      <td>M</td>\n",
              "      <td>24.0</td>\n",
              "      <td>180.0</td>\n",
              "      <td>80.0</td>\n",
              "      <td>China</td>\n",
              "      <td>CHN</td>\n",
              "      <td>1992 Summer</td>\n",
              "      <td>1992</td>\n",
              "      <td>Basketball</td>\n",
              "      <td>Basketball Men's Basketball</td>\n",
              "      <td>NaN</td>\n",
              "    </tr>\n",
              "    <tr>\n",
              "      <th>1</th>\n",
              "      <td>A Lamusi</td>\n",
              "      <td>M</td>\n",
              "      <td>23.0</td>\n",
              "      <td>170.0</td>\n",
              "      <td>60.0</td>\n",
              "      <td>China</td>\n",
              "      <td>CHN</td>\n",
              "      <td>2012 Summer</td>\n",
              "      <td>2012</td>\n",
              "      <td>Judo</td>\n",
              "      <td>Judo Men's Extra-Lightweight</td>\n",
              "      <td>NaN</td>\n",
              "    </tr>\n",
              "    <tr>\n",
              "      <th>2</th>\n",
              "      <td>Gunnar Nielsen Aaby</td>\n",
              "      <td>M</td>\n",
              "      <td>24.0</td>\n",
              "      <td>NaN</td>\n",
              "      <td>NaN</td>\n",
              "      <td>Denmark</td>\n",
              "      <td>DEN</td>\n",
              "      <td>1920 Summer</td>\n",
              "      <td>1920</td>\n",
              "      <td>Football</td>\n",
              "      <td>Football Men's Football</td>\n",
              "      <td>NaN</td>\n",
              "    </tr>\n",
              "    <tr>\n",
              "      <th>3</th>\n",
              "      <td>Edgar Lindenau Aabye</td>\n",
              "      <td>M</td>\n",
              "      <td>34.0</td>\n",
              "      <td>NaN</td>\n",
              "      <td>NaN</td>\n",
              "      <td>Denmark/Sweden</td>\n",
              "      <td>DEN</td>\n",
              "      <td>1900 Summer</td>\n",
              "      <td>1900</td>\n",
              "      <td>Tug-Of-War</td>\n",
              "      <td>Tug-Of-War Men's Tug-Of-War</td>\n",
              "      <td>Gold</td>\n",
              "    </tr>\n",
              "    <tr>\n",
              "      <th>4</th>\n",
              "      <td>Christine Jacoba Aaftink</td>\n",
              "      <td>F</td>\n",
              "      <td>21.0</td>\n",
              "      <td>185.0</td>\n",
              "      <td>82.0</td>\n",
              "      <td>Netherlands</td>\n",
              "      <td>NED</td>\n",
              "      <td>1988 Winter</td>\n",
              "      <td>1988</td>\n",
              "      <td>Speed Skating</td>\n",
              "      <td>Speed Skating Women's 500 metres</td>\n",
              "      <td>NaN</td>\n",
              "    </tr>\n",
              "  </tbody>\n",
              "</table>\n",
              "</div>\n",
              "      <button class=\"colab-df-convert\" onclick=\"convertToInteractive('df-0431be67-1bb1-4817-89e6-2c9af818316e')\"\n",
              "              title=\"Convert this dataframe to an interactive table.\"\n",
              "              style=\"display:none;\">\n",
              "        \n",
              "  <svg xmlns=\"http://www.w3.org/2000/svg\" height=\"24px\"viewBox=\"0 0 24 24\"\n",
              "       width=\"24px\">\n",
              "    <path d=\"M0 0h24v24H0V0z\" fill=\"none\"/>\n",
              "    <path d=\"M18.56 5.44l.94 2.06.94-2.06 2.06-.94-2.06-.94-.94-2.06-.94 2.06-2.06.94zm-11 1L8.5 8.5l.94-2.06 2.06-.94-2.06-.94L8.5 2.5l-.94 2.06-2.06.94zm10 10l.94 2.06.94-2.06 2.06-.94-2.06-.94-.94-2.06-.94 2.06-2.06.94z\"/><path d=\"M17.41 7.96l-1.37-1.37c-.4-.4-.92-.59-1.43-.59-.52 0-1.04.2-1.43.59L10.3 9.45l-7.72 7.72c-.78.78-.78 2.05 0 2.83L4 21.41c.39.39.9.59 1.41.59.51 0 1.02-.2 1.41-.59l7.78-7.78 2.81-2.81c.8-.78.8-2.07 0-2.86zM5.41 20L4 18.59l7.72-7.72 1.47 1.35L5.41 20z\"/>\n",
              "  </svg>\n",
              "      </button>\n",
              "      \n",
              "  <style>\n",
              "    .colab-df-container {\n",
              "      display:flex;\n",
              "      flex-wrap:wrap;\n",
              "      gap: 12px;\n",
              "    }\n",
              "\n",
              "    .colab-df-convert {\n",
              "      background-color: #E8F0FE;\n",
              "      border: none;\n",
              "      border-radius: 50%;\n",
              "      cursor: pointer;\n",
              "      display: none;\n",
              "      fill: #1967D2;\n",
              "      height: 32px;\n",
              "      padding: 0 0 0 0;\n",
              "      width: 32px;\n",
              "    }\n",
              "\n",
              "    .colab-df-convert:hover {\n",
              "      background-color: #E2EBFA;\n",
              "      box-shadow: 0px 1px 2px rgba(60, 64, 67, 0.3), 0px 1px 3px 1px rgba(60, 64, 67, 0.15);\n",
              "      fill: #174EA6;\n",
              "    }\n",
              "\n",
              "    [theme=dark] .colab-df-convert {\n",
              "      background-color: #3B4455;\n",
              "      fill: #D2E3FC;\n",
              "    }\n",
              "\n",
              "    [theme=dark] .colab-df-convert:hover {\n",
              "      background-color: #434B5C;\n",
              "      box-shadow: 0px 1px 3px 1px rgba(0, 0, 0, 0.15);\n",
              "      filter: drop-shadow(0px 1px 2px rgba(0, 0, 0, 0.3));\n",
              "      fill: #FFFFFF;\n",
              "    }\n",
              "  </style>\n",
              "\n",
              "      <script>\n",
              "        const buttonEl =\n",
              "          document.querySelector('#df-0431be67-1bb1-4817-89e6-2c9af818316e button.colab-df-convert');\n",
              "        buttonEl.style.display =\n",
              "          google.colab.kernel.accessAllowed ? 'block' : 'none';\n",
              "\n",
              "        async function convertToInteractive(key) {\n",
              "          const element = document.querySelector('#df-0431be67-1bb1-4817-89e6-2c9af818316e');\n",
              "          const dataTable =\n",
              "            await google.colab.kernel.invokeFunction('convertToInteractive',\n",
              "                                                     [key], {});\n",
              "          if (!dataTable) return;\n",
              "\n",
              "          const docLinkHtml = 'Like what you see? Visit the ' +\n",
              "            '<a target=\"_blank\" href=https://colab.research.google.com/notebooks/data_table.ipynb>data table notebook</a>'\n",
              "            + ' to learn more about interactive tables.';\n",
              "          element.innerHTML = '';\n",
              "          dataTable['output_type'] = 'display_data';\n",
              "          await google.colab.output.renderOutput(dataTable, element);\n",
              "          const docLink = document.createElement('div');\n",
              "          docLink.innerHTML = docLinkHtml;\n",
              "          element.appendChild(docLink);\n",
              "        }\n",
              "      </script>\n",
              "    </div>\n",
              "  </div>\n",
              "  "
            ]
          },
          "metadata": {},
          "execution_count": 102
        }
      ]
    },
    {
      "cell_type": "markdown",
      "source": [
        "**`Histogramas`**"
      ],
      "metadata": {
        "id": "y8k3iKgLwXls"
      }
    },
    {
      "cell_type": "code",
      "source": [
        "import pandas as pd\n",
        "df = pd.read_csv('/content/drive/My Drive/Laboratório de Python/athlete_events.csv')"
      ],
      "metadata": {
        "id": "hvpLGFLtv_jg"
      },
      "execution_count": null,
      "outputs": []
    },
    {
      "cell_type": "code",
      "source": [
        "df.head()"
      ],
      "metadata": {
        "colab": {
          "base_uri": "https://localhost:8080/",
          "height": 337
        },
        "id": "ZD8bbp0PxlGj",
        "outputId": "48e01ee6-0bca-4d65-8bf7-6265dba140f2"
      },
      "execution_count": null,
      "outputs": [
        {
          "output_type": "execute_result",
          "data": {
            "text/plain": [
              "   ID                      Name Sex   Age  Height  Weight            Team  \\\n",
              "0   1                 A Dijiang   M  24.0   180.0    80.0           China   \n",
              "1   2                  A Lamusi   M  23.0   170.0    60.0           China   \n",
              "2   3       Gunnar Nielsen Aaby   M  24.0     NaN     NaN         Denmark   \n",
              "3   4      Edgar Lindenau Aabye   M  34.0     NaN     NaN  Denmark/Sweden   \n",
              "4   5  Christine Jacoba Aaftink   F  21.0   185.0    82.0     Netherlands   \n",
              "\n",
              "   NOC        Games  Year  Season       City          Sport  \\\n",
              "0  CHN  1992 Summer  1992  Summer  Barcelona     Basketball   \n",
              "1  CHN  2012 Summer  2012  Summer     London           Judo   \n",
              "2  DEN  1920 Summer  1920  Summer  Antwerpen       Football   \n",
              "3  DEN  1900 Summer  1900  Summer      Paris     Tug-Of-War   \n",
              "4  NED  1988 Winter  1988  Winter    Calgary  Speed Skating   \n",
              "\n",
              "                              Event Medal  \n",
              "0       Basketball Men's Basketball   NaN  \n",
              "1      Judo Men's Extra-Lightweight   NaN  \n",
              "2           Football Men's Football   NaN  \n",
              "3       Tug-Of-War Men's Tug-Of-War  Gold  \n",
              "4  Speed Skating Women's 500 metres   NaN  "
            ],
            "text/html": [
              "\n",
              "  <div id=\"df-cd4b91d1-cd35-4592-a34c-db2b54dff3a6\">\n",
              "    <div class=\"colab-df-container\">\n",
              "      <div>\n",
              "<style scoped>\n",
              "    .dataframe tbody tr th:only-of-type {\n",
              "        vertical-align: middle;\n",
              "    }\n",
              "\n",
              "    .dataframe tbody tr th {\n",
              "        vertical-align: top;\n",
              "    }\n",
              "\n",
              "    .dataframe thead th {\n",
              "        text-align: right;\n",
              "    }\n",
              "</style>\n",
              "<table border=\"1\" class=\"dataframe\">\n",
              "  <thead>\n",
              "    <tr style=\"text-align: right;\">\n",
              "      <th></th>\n",
              "      <th>ID</th>\n",
              "      <th>Name</th>\n",
              "      <th>Sex</th>\n",
              "      <th>Age</th>\n",
              "      <th>Height</th>\n",
              "      <th>Weight</th>\n",
              "      <th>Team</th>\n",
              "      <th>NOC</th>\n",
              "      <th>Games</th>\n",
              "      <th>Year</th>\n",
              "      <th>Season</th>\n",
              "      <th>City</th>\n",
              "      <th>Sport</th>\n",
              "      <th>Event</th>\n",
              "      <th>Medal</th>\n",
              "    </tr>\n",
              "  </thead>\n",
              "  <tbody>\n",
              "    <tr>\n",
              "      <th>0</th>\n",
              "      <td>1</td>\n",
              "      <td>A Dijiang</td>\n",
              "      <td>M</td>\n",
              "      <td>24.0</td>\n",
              "      <td>180.0</td>\n",
              "      <td>80.0</td>\n",
              "      <td>China</td>\n",
              "      <td>CHN</td>\n",
              "      <td>1992 Summer</td>\n",
              "      <td>1992</td>\n",
              "      <td>Summer</td>\n",
              "      <td>Barcelona</td>\n",
              "      <td>Basketball</td>\n",
              "      <td>Basketball Men's Basketball</td>\n",
              "      <td>NaN</td>\n",
              "    </tr>\n",
              "    <tr>\n",
              "      <th>1</th>\n",
              "      <td>2</td>\n",
              "      <td>A Lamusi</td>\n",
              "      <td>M</td>\n",
              "      <td>23.0</td>\n",
              "      <td>170.0</td>\n",
              "      <td>60.0</td>\n",
              "      <td>China</td>\n",
              "      <td>CHN</td>\n",
              "      <td>2012 Summer</td>\n",
              "      <td>2012</td>\n",
              "      <td>Summer</td>\n",
              "      <td>London</td>\n",
              "      <td>Judo</td>\n",
              "      <td>Judo Men's Extra-Lightweight</td>\n",
              "      <td>NaN</td>\n",
              "    </tr>\n",
              "    <tr>\n",
              "      <th>2</th>\n",
              "      <td>3</td>\n",
              "      <td>Gunnar Nielsen Aaby</td>\n",
              "      <td>M</td>\n",
              "      <td>24.0</td>\n",
              "      <td>NaN</td>\n",
              "      <td>NaN</td>\n",
              "      <td>Denmark</td>\n",
              "      <td>DEN</td>\n",
              "      <td>1920 Summer</td>\n",
              "      <td>1920</td>\n",
              "      <td>Summer</td>\n",
              "      <td>Antwerpen</td>\n",
              "      <td>Football</td>\n",
              "      <td>Football Men's Football</td>\n",
              "      <td>NaN</td>\n",
              "    </tr>\n",
              "    <tr>\n",
              "      <th>3</th>\n",
              "      <td>4</td>\n",
              "      <td>Edgar Lindenau Aabye</td>\n",
              "      <td>M</td>\n",
              "      <td>34.0</td>\n",
              "      <td>NaN</td>\n",
              "      <td>NaN</td>\n",
              "      <td>Denmark/Sweden</td>\n",
              "      <td>DEN</td>\n",
              "      <td>1900 Summer</td>\n",
              "      <td>1900</td>\n",
              "      <td>Summer</td>\n",
              "      <td>Paris</td>\n",
              "      <td>Tug-Of-War</td>\n",
              "      <td>Tug-Of-War Men's Tug-Of-War</td>\n",
              "      <td>Gold</td>\n",
              "    </tr>\n",
              "    <tr>\n",
              "      <th>4</th>\n",
              "      <td>5</td>\n",
              "      <td>Christine Jacoba Aaftink</td>\n",
              "      <td>F</td>\n",
              "      <td>21.0</td>\n",
              "      <td>185.0</td>\n",
              "      <td>82.0</td>\n",
              "      <td>Netherlands</td>\n",
              "      <td>NED</td>\n",
              "      <td>1988 Winter</td>\n",
              "      <td>1988</td>\n",
              "      <td>Winter</td>\n",
              "      <td>Calgary</td>\n",
              "      <td>Speed Skating</td>\n",
              "      <td>Speed Skating Women's 500 metres</td>\n",
              "      <td>NaN</td>\n",
              "    </tr>\n",
              "  </tbody>\n",
              "</table>\n",
              "</div>\n",
              "      <button class=\"colab-df-convert\" onclick=\"convertToInteractive('df-cd4b91d1-cd35-4592-a34c-db2b54dff3a6')\"\n",
              "              title=\"Convert this dataframe to an interactive table.\"\n",
              "              style=\"display:none;\">\n",
              "        \n",
              "  <svg xmlns=\"http://www.w3.org/2000/svg\" height=\"24px\"viewBox=\"0 0 24 24\"\n",
              "       width=\"24px\">\n",
              "    <path d=\"M0 0h24v24H0V0z\" fill=\"none\"/>\n",
              "    <path d=\"M18.56 5.44l.94 2.06.94-2.06 2.06-.94-2.06-.94-.94-2.06-.94 2.06-2.06.94zm-11 1L8.5 8.5l.94-2.06 2.06-.94-2.06-.94L8.5 2.5l-.94 2.06-2.06.94zm10 10l.94 2.06.94-2.06 2.06-.94-2.06-.94-.94-2.06-.94 2.06-2.06.94z\"/><path d=\"M17.41 7.96l-1.37-1.37c-.4-.4-.92-.59-1.43-.59-.52 0-1.04.2-1.43.59L10.3 9.45l-7.72 7.72c-.78.78-.78 2.05 0 2.83L4 21.41c.39.39.9.59 1.41.59.51 0 1.02-.2 1.41-.59l7.78-7.78 2.81-2.81c.8-.78.8-2.07 0-2.86zM5.41 20L4 18.59l7.72-7.72 1.47 1.35L5.41 20z\"/>\n",
              "  </svg>\n",
              "      </button>\n",
              "      \n",
              "  <style>\n",
              "    .colab-df-container {\n",
              "      display:flex;\n",
              "      flex-wrap:wrap;\n",
              "      gap: 12px;\n",
              "    }\n",
              "\n",
              "    .colab-df-convert {\n",
              "      background-color: #E8F0FE;\n",
              "      border: none;\n",
              "      border-radius: 50%;\n",
              "      cursor: pointer;\n",
              "      display: none;\n",
              "      fill: #1967D2;\n",
              "      height: 32px;\n",
              "      padding: 0 0 0 0;\n",
              "      width: 32px;\n",
              "    }\n",
              "\n",
              "    .colab-df-convert:hover {\n",
              "      background-color: #E2EBFA;\n",
              "      box-shadow: 0px 1px 2px rgba(60, 64, 67, 0.3), 0px 1px 3px 1px rgba(60, 64, 67, 0.15);\n",
              "      fill: #174EA6;\n",
              "    }\n",
              "\n",
              "    [theme=dark] .colab-df-convert {\n",
              "      background-color: #3B4455;\n",
              "      fill: #D2E3FC;\n",
              "    }\n",
              "\n",
              "    [theme=dark] .colab-df-convert:hover {\n",
              "      background-color: #434B5C;\n",
              "      box-shadow: 0px 1px 3px 1px rgba(0, 0, 0, 0.15);\n",
              "      filter: drop-shadow(0px 1px 2px rgba(0, 0, 0, 0.3));\n",
              "      fill: #FFFFFF;\n",
              "    }\n",
              "  </style>\n",
              "\n",
              "      <script>\n",
              "        const buttonEl =\n",
              "          document.querySelector('#df-cd4b91d1-cd35-4592-a34c-db2b54dff3a6 button.colab-df-convert');\n",
              "        buttonEl.style.display =\n",
              "          google.colab.kernel.accessAllowed ? 'block' : 'none';\n",
              "\n",
              "        async function convertToInteractive(key) {\n",
              "          const element = document.querySelector('#df-cd4b91d1-cd35-4592-a34c-db2b54dff3a6');\n",
              "          const dataTable =\n",
              "            await google.colab.kernel.invokeFunction('convertToInteractive',\n",
              "                                                     [key], {});\n",
              "          if (!dataTable) return;\n",
              "\n",
              "          const docLinkHtml = 'Like what you see? Visit the ' +\n",
              "            '<a target=\"_blank\" href=https://colab.research.google.com/notebooks/data_table.ipynb>data table notebook</a>'\n",
              "            + ' to learn more about interactive tables.';\n",
              "          element.innerHTML = '';\n",
              "          dataTable['output_type'] = 'display_data';\n",
              "          await google.colab.output.renderOutput(dataTable, element);\n",
              "          const docLink = document.createElement('div');\n",
              "          docLink.innerHTML = docLinkHtml;\n",
              "          element.appendChild(docLink);\n",
              "        }\n",
              "      </script>\n",
              "    </div>\n",
              "  </div>\n",
              "  "
            ]
          },
          "metadata": {},
          "execution_count": 104
        }
      ]
    },
    {
      "cell_type": "code",
      "source": [
        "import matplotlib as plt"
      ],
      "metadata": {
        "id": "sP1DiZl-xoNr"
      },
      "execution_count": null,
      "outputs": []
    },
    {
      "cell_type": "code",
      "source": [
        "df.hist(column = 'Age', bins=10) #histograma é uma distribuição de frequência de alguns dados."
      ],
      "metadata": {
        "colab": {
          "base_uri": "https://localhost:8080/",
          "height": 318
        },
        "id": "zWNjwAsfyLk6",
        "outputId": "71869713-5075-4891-d9dd-d343f0324ae9"
      },
      "execution_count": null,
      "outputs": [
        {
          "output_type": "execute_result",
          "data": {
            "text/plain": [
              "array([[<matplotlib.axes._subplots.AxesSubplot object at 0x7f96a0b94190>]],\n",
              "      dtype=object)"
            ]
          },
          "metadata": {},
          "execution_count": 106
        },
        {
          "output_type": "display_data",
          "data": {
            "text/plain": [
              "<Figure size 432x288 with 1 Axes>"
            ],
            "image/png": "[encoded data removed]"
          },
          "metadata": {
            "needs_background": "light"
          }
        }
      ]
    },
    {
      "cell_type": "markdown",
      "source": [
        "**`Cálculo do gráfico de histograma:`**\n",
        "\n",
        "`Ex.: a variação das idades (*'Age'*) dos participantes da olimpíada é 10. Sendo a idade máxima 90 anos e a idade mínima 10. Executamos o cálculo 90-10=80, sendo assim, temos uma variação de 80.`\n",
        "\n",
        "`Se o meu intervalo é 80 e estou criando 10 barras, cada barra equivale a 8.`"
      ],
      "metadata": {
        "id": "7TXLX86hyviR"
      }
    },
    {
      "cell_type": "code",
      "source": [
        "df.hist(column = 'Weight', bins=100)"
      ],
      "metadata": {
        "colab": {
          "base_uri": "https://localhost:8080/",
          "height": 318
        },
        "id": "4doOaH4hyjYH",
        "outputId": "1f8c7588-2d29-47b2-972f-4cd09ec6214f"
      },
      "execution_count": null,
      "outputs": [
        {
          "output_type": "execute_result",
          "data": {
            "text/plain": [
              "array([[<matplotlib.axes._subplots.AxesSubplot object at 0x7f96a0bcd0d0>]],\n",
              "      dtype=object)"
            ]
          },
          "metadata": {},
          "execution_count": 107
        },
        {
          "output_type": "display_data",
          "data": {
            "text/plain": [
              "<Figure size 432x288 with 1 Axes>"
            ],
            "image/png": "[encoded data removed]"
          },
          "metadata": {
            "needs_background": "light"
          }
        }
      ]
    },
    {
      "cell_type": "markdown",
      "source": [
        "**Biblioteca Matplotlib**"
      ],
      "metadata": {
        "id": "FG8hQbu79QOJ"
      }
    },
    {
      "cell_type": "code",
      "source": [
        "import matplotlib.pyplot as plt "
      ],
      "metadata": {
        "id": "D-qQYYse9MmX"
      },
      "execution_count": null,
      "outputs": []
    },
    {
      "cell_type": "code",
      "source": [
        "x = [1, 2, 3, 4, 5, 6, 7, 8, 9, 10]\n",
        "y = [1, 2, 3, 4, 5, 6, 7, 8, 9, 10]"
      ],
      "metadata": {
        "id": "S1Tpjuhf9kdC"
      },
      "execution_count": null,
      "outputs": []
    },
    {
      "cell_type": "code",
      "source": [
        "plt.scatter(x,y)"
      ],
      "metadata": {
        "colab": {
          "base_uri": "https://localhost:8080/",
          "height": 283
        },
        "id": "4cf3R6td95DF",
        "outputId": "613dfdc8-cea3-4a3d-ed9f-a1b0db614d6f"
      },
      "execution_count": null,
      "outputs": [
        {
          "output_type": "execute_result",
          "data": {
            "text/plain": [
              "<matplotlib.collections.PathCollection at 0x7f96a043c290>"
            ]
          },
          "metadata": {},
          "execution_count": 110
        },
        {
          "output_type": "display_data",
          "data": {
            "text/plain": [
              "<Figure size 432x288 with 1 Axes>"
            ],
            "image/png": "[encoded data removed]"
          },
          "metadata": {
            "needs_background": "light"
          }
        }
      ]
    },
    {
      "cell_type": "code",
      "source": [
        "import numpy as np\n",
        "x1 = np.arange(0,1000,1) #array é uma matriz com zero sendo o número inicial, 1000 sendo o número final, com intervalo de um.\n",
        "#print(x1)"
      ],
      "metadata": {
        "id": "sXKZxGE8-NHF"
      },
      "execution_count": null,
      "outputs": []
    },
    {
      "cell_type": "code",
      "source": [
        "plt.plot(x1, x1**2) #elevar a variável e depois plotá-la."
      ],
      "metadata": {
        "colab": {
          "base_uri": "https://localhost:8080/",
          "height": 294
        },
        "id": "nFczJxWx_YNh",
        "outputId": "5bedb0e7-7236-4737-a330-b24006c0b73d"
      },
      "execution_count": null,
      "outputs": [
        {
          "output_type": "execute_result",
          "data": {
            "text/plain": [
              "[<matplotlib.lines.Line2D at 0x7f96a03aae90>]"
            ]
          },
          "metadata": {},
          "execution_count": 112
        },
        {
          "output_type": "display_data",
          "data": {
            "text/plain": [
              "<Figure size 432x288 with 1 Axes>"
            ],
            "image/png": "[encoded data removed]"
          },
          "metadata": {
            "needs_background": "light"
          }
        }
      ]
    },
    {
      "cell_type": "code",
      "source": [
        "x1 = np.arange(-1000,1000,1)"
      ],
      "metadata": {
        "id": "IOeLlEBCABAh"
      },
      "execution_count": null,
      "outputs": []
    },
    {
      "cell_type": "code",
      "source": [
        "plt.plot(x1, x1**2) #parábola x**2"
      ],
      "metadata": {
        "colab": {
          "base_uri": "https://localhost:8080/",
          "height": 294
        },
        "id": "IJK6vK-b_8OK",
        "outputId": "ffc2cea4-2719-4dda-edb6-2134d368dc16"
      },
      "execution_count": null,
      "outputs": [
        {
          "output_type": "execute_result",
          "data": {
            "text/plain": [
              "[<matplotlib.lines.Line2D at 0x7f96a031b990>]"
            ]
          },
          "metadata": {},
          "execution_count": 114
        },
        {
          "output_type": "display_data",
          "data": {
            "text/plain": [
              "<Figure size 432x288 with 1 Axes>"
            ],
            "image/png": "[encoded data removed]"
          },
          "metadata": {
            "needs_background": "light"
          }
        }
      ]
    },
    {
      "cell_type": "code",
      "source": [
        "plt.plot(x1, -x1**3+4) #comportamento de uma função."
      ],
      "metadata": {
        "colab": {
          "base_uri": "https://localhost:8080/",
          "height": 294
        },
        "id": "ATap0T2KASd1",
        "outputId": "a058285f-6220-4e59-ae58-d415963c3528"
      },
      "execution_count": null,
      "outputs": [
        {
          "output_type": "execute_result",
          "data": {
            "text/plain": [
              "[<matplotlib.lines.Line2D at 0x7f96a028ca10>]"
            ]
          },
          "metadata": {},
          "execution_count": 115
        },
        {
          "output_type": "display_data",
          "data": {
            "text/plain": [
              "<Figure size 432x288 with 1 Axes>"
            ],
            "image/png": "[encoded data removed]"
          },
          "metadata": {
            "needs_background": "light"
          }
        }
      ]
    },
    {
      "cell_type": "code",
      "source": [
        "masculinos = df.loc[df['Sex']=='M']"
      ],
      "metadata": {
        "id": "4TODqkRvAYao"
      },
      "execution_count": null,
      "outputs": []
    },
    {
      "cell_type": "code",
      "source": [
        "a = masculinos['Height']\n",
        "p = masculinos['Weight']"
      ],
      "metadata": {
        "id": "Zy6SGYzhDwCc"
      },
      "execution_count": null,
      "outputs": []
    },
    {
      "cell_type": "code",
      "source": [
        "plt.scatter(a,p) #uma baleia."
      ],
      "metadata": {
        "colab": {
          "base_uri": "https://localhost:8080/",
          "height": 283
        },
        "id": "lcbAt6NGD38q",
        "outputId": "e8ad705d-2b43-4f24-8007-2afaf69e8f4a"
      },
      "execution_count": null,
      "outputs": [
        {
          "output_type": "execute_result",
          "data": {
            "text/plain": [
              "<matplotlib.collections.PathCollection at 0x7f96a0266b10>"
            ]
          },
          "metadata": {},
          "execution_count": 118
        },
        {
          "output_type": "display_data",
          "data": {
            "text/plain": [
              "<Figure size 432x288 with 1 Axes>"
            ],
            "image/png": "[encoded data removed]"
          },
          "metadata": {
            "needs_background": "light"
          }
        }
      ]
    },
    {
      "cell_type": "markdown",
      "source": [
        "**Boxplot**"
      ],
      "metadata": {
        "id": "xYbntXLuHOk6"
      }
    },
    {
      "cell_type": "markdown",
      "source": [
        "Artigo sobre [boxplot](https://pt.wikipedia.org/wiki/Diagrama_de_caixa#) ou *diagrama de caixa*."
      ],
      "metadata": {
        "id": "Ee61rdfuJkFV"
      }
    },
    {
      "cell_type": "code",
      "source": [
        "df.head(1)"
      ],
      "metadata": {
        "colab": {
          "base_uri": "https://localhost:8080/",
          "height": 81
        },
        "id": "mH_0qIuKHIvT",
        "outputId": "b9a66eb2-3967-46a1-8a36-031039fc5aa0"
      },
      "execution_count": null,
      "outputs": [
        {
          "output_type": "execute_result",
          "data": {
            "text/plain": [
              "   ID       Name Sex   Age  Height  Weight   Team  NOC        Games  Year  \\\n",
              "0   1  A Dijiang   M  24.0   180.0    80.0  China  CHN  1992 Summer  1992   \n",
              "\n",
              "   Season       City       Sport                        Event Medal  \n",
              "0  Summer  Barcelona  Basketball  Basketball Men's Basketball   NaN  "
            ],
            "text/html": [
              "\n",
              "  <div id=\"df-b1621058-8f17-4c29-a1a9-b1f25c2d69a0\">\n",
              "    <div class=\"colab-df-container\">\n",
              "      <div>\n",
              "<style scoped>\n",
              "    .dataframe tbody tr th:only-of-type {\n",
              "        vertical-align: middle;\n",
              "    }\n",
              "\n",
              "    .dataframe tbody tr th {\n",
              "        vertical-align: top;\n",
              "    }\n",
              "\n",
              "    .dataframe thead th {\n",
              "        text-align: right;\n",
              "    }\n",
              "</style>\n",
              "<table border=\"1\" class=\"dataframe\">\n",
              "  <thead>\n",
              "    <tr style=\"text-align: right;\">\n",
              "      <th></th>\n",
              "      <th>ID</th>\n",
              "      <th>Name</th>\n",
              "      <th>Sex</th>\n",
              "      <th>Age</th>\n",
              "      <th>Height</th>\n",
              "      <th>Weight</th>\n",
              "      <th>Team</th>\n",
              "      <th>NOC</th>\n",
              "      <th>Games</th>\n",
              "      <th>Year</th>\n",
              "      <th>Season</th>\n",
              "      <th>City</th>\n",
              "      <th>Sport</th>\n",
              "      <th>Event</th>\n",
              "      <th>Medal</th>\n",
              "    </tr>\n",
              "  </thead>\n",
              "  <tbody>\n",
              "    <tr>\n",
              "      <th>0</th>\n",
              "      <td>1</td>\n",
              "      <td>A Dijiang</td>\n",
              "      <td>M</td>\n",
              "      <td>24.0</td>\n",
              "      <td>180.0</td>\n",
              "      <td>80.0</td>\n",
              "      <td>China</td>\n",
              "      <td>CHN</td>\n",
              "      <td>1992 Summer</td>\n",
              "      <td>1992</td>\n",
              "      <td>Summer</td>\n",
              "      <td>Barcelona</td>\n",
              "      <td>Basketball</td>\n",
              "      <td>Basketball Men's Basketball</td>\n",
              "      <td>NaN</td>\n",
              "    </tr>\n",
              "  </tbody>\n",
              "</table>\n",
              "</div>\n",
              "      <button class=\"colab-df-convert\" onclick=\"convertToInteractive('df-b1621058-8f17-4c29-a1a9-b1f25c2d69a0')\"\n",
              "              title=\"Convert this dataframe to an interactive table.\"\n",
              "              style=\"display:none;\">\n",
              "        \n",
              "  <svg xmlns=\"http://www.w3.org/2000/svg\" height=\"24px\"viewBox=\"0 0 24 24\"\n",
              "       width=\"24px\">\n",
              "    <path d=\"M0 0h24v24H0V0z\" fill=\"none\"/>\n",
              "    <path d=\"M18.56 5.44l.94 2.06.94-2.06 2.06-.94-2.06-.94-.94-2.06-.94 2.06-2.06.94zm-11 1L8.5 8.5l.94-2.06 2.06-.94-2.06-.94L8.5 2.5l-.94 2.06-2.06.94zm10 10l.94 2.06.94-2.06 2.06-.94-2.06-.94-.94-2.06-.94 2.06-2.06.94z\"/><path d=\"M17.41 7.96l-1.37-1.37c-.4-.4-.92-.59-1.43-.59-.52 0-1.04.2-1.43.59L10.3 9.45l-7.72 7.72c-.78.78-.78 2.05 0 2.83L4 21.41c.39.39.9.59 1.41.59.51 0 1.02-.2 1.41-.59l7.78-7.78 2.81-2.81c.8-.78.8-2.07 0-2.86zM5.41 20L4 18.59l7.72-7.72 1.47 1.35L5.41 20z\"/>\n",
              "  </svg>\n",
              "      </button>\n",
              "      \n",
              "  <style>\n",
              "    .colab-df-container {\n",
              "      display:flex;\n",
              "      flex-wrap:wrap;\n",
              "      gap: 12px;\n",
              "    }\n",
              "\n",
              "    .colab-df-convert {\n",
              "      background-color: #E8F0FE;\n",
              "      border: none;\n",
              "      border-radius: 50%;\n",
              "      cursor: pointer;\n",
              "      display: none;\n",
              "      fill: #1967D2;\n",
              "      height: 32px;\n",
              "      padding: 0 0 0 0;\n",
              "      width: 32px;\n",
              "    }\n",
              "\n",
              "    .colab-df-convert:hover {\n",
              "      background-color: #E2EBFA;\n",
              "      box-shadow: 0px 1px 2px rgba(60, 64, 67, 0.3), 0px 1px 3px 1px rgba(60, 64, 67, 0.15);\n",
              "      fill: #174EA6;\n",
              "    }\n",
              "\n",
              "    [theme=dark] .colab-df-convert {\n",
              "      background-color: #3B4455;\n",
              "      fill: #D2E3FC;\n",
              "    }\n",
              "\n",
              "    [theme=dark] .colab-df-convert:hover {\n",
              "      background-color: #434B5C;\n",
              "      box-shadow: 0px 1px 3px 1px rgba(0, 0, 0, 0.15);\n",
              "      filter: drop-shadow(0px 1px 2px rgba(0, 0, 0, 0.3));\n",
              "      fill: #FFFFFF;\n",
              "    }\n",
              "  </style>\n",
              "\n",
              "      <script>\n",
              "        const buttonEl =\n",
              "          document.querySelector('#df-b1621058-8f17-4c29-a1a9-b1f25c2d69a0 button.colab-df-convert');\n",
              "        buttonEl.style.display =\n",
              "          google.colab.kernel.accessAllowed ? 'block' : 'none';\n",
              "\n",
              "        async function convertToInteractive(key) {\n",
              "          const element = document.querySelector('#df-b1621058-8f17-4c29-a1a9-b1f25c2d69a0');\n",
              "          const dataTable =\n",
              "            await google.colab.kernel.invokeFunction('convertToInteractive',\n",
              "                                                     [key], {});\n",
              "          if (!dataTable) return;\n",
              "\n",
              "          const docLinkHtml = 'Like what you see? Visit the ' +\n",
              "            '<a target=\"_blank\" href=https://colab.research.google.com/notebooks/data_table.ipynb>data table notebook</a>'\n",
              "            + ' to learn more about interactive tables.';\n",
              "          element.innerHTML = '';\n",
              "          dataTable['output_type'] = 'display_data';\n",
              "          await google.colab.output.renderOutput(dataTable, element);\n",
              "          const docLink = document.createElement('div');\n",
              "          docLink.innerHTML = docLinkHtml;\n",
              "          element.appendChild(docLink);\n",
              "        }\n",
              "      </script>\n",
              "    </div>\n",
              "  </div>\n",
              "  "
            ]
          },
          "metadata": {},
          "execution_count": 119
        }
      ]
    },
    {
      "cell_type": "code",
      "source": [
        "df.boxplot(column='Age')"
      ],
      "metadata": {
        "colab": {
          "base_uri": "https://localhost:8080/",
          "height": 284
        },
        "id": "cQQIR4vZHi2y",
        "outputId": "bc7be540-8228-484c-83dd-2a55331e1772"
      },
      "execution_count": null,
      "outputs": [
        {
          "output_type": "execute_result",
          "data": {
            "text/plain": [
              "<matplotlib.axes._subplots.AxesSubplot at 0x7f96a024b910>"
            ]
          },
          "metadata": {},
          "execution_count": 120
        },
        {
          "output_type": "display_data",
          "data": {
            "text/plain": [
              "<Figure size 432x288 with 1 Axes>"
            ],
            "image/png": "[encoded data removed]"
          },
          "metadata": {
            "needs_background": "light"
          }
        }
      ]
    },
    {
      "cell_type": "code",
      "source": [
        "df.boxplot(column=['Age', 'Height', 'Weight']) #posso construir vários boxplots para analisar vários dados."
      ],
      "metadata": {
        "colab": {
          "base_uri": "https://localhost:8080/",
          "height": 340
        },
        "id": "ogRplsrdIDek",
        "outputId": "c14b711e-6ca6-460f-b9c4-cece0a8d8e3d"
      },
      "execution_count": null,
      "outputs": [
        {
          "output_type": "stream",
          "name": "stderr",
          "text": [
            "/usr/local/lib/python3.7/dist-packages/matplotlib/cbook/__init__.py:1376: VisibleDeprecationWarning: Creating an ndarray from ragged nested sequences (which is a list-or-tuple of lists-or-tuples-or ndarrays with different lengths or shapes) is deprecated. If you meant to do this, you must specify 'dtype=object' when creating the ndarray.\n",
            "  X = np.atleast_1d(X.T if isinstance(X, np.ndarray) else np.asarray(X))\n"
          ]
        },
        {
          "output_type": "execute_result",
          "data": {
            "text/plain": [
              "<matplotlib.axes._subplots.AxesSubplot at 0x7f96a041cb90>"
            ]
          },
          "metadata": {},
          "execution_count": 121
        },
        {
          "output_type": "display_data",
          "data": {
            "text/plain": [
              "<Figure size 432x288 with 1 Axes>"
            ],
            "image/png": "[encoded data removed]"
          },
          "metadata": {
            "needs_background": "light"
          }
        }
      ]
    },
    {
      "cell_type": "markdown",
      "source": [
        "Todos os boxplots - **Age, Height, Weight** - possuem outliers.\n",
        "\n",
        "Em estatística, outlier, valor aberrante ou valor atípico, é uma observação que apresenta um **grande afastamento das demais da série**, ou que é **inconsistente**. A existência de outliers implica, tipicamente, em prejuízos à interpretação dos resultados dos testes estatísticos aplicados às amostras."
      ],
      "metadata": {
        "id": "35UsdON4It99"
      }
    },
    {
      "cell_type": "markdown",
      "source": [
        "**Tratando dados faltantes (NaN).**"
      ],
      "metadata": {
        "id": "JqMDxyoLKCth"
      }
    },
    {
      "cell_type": "code",
      "source": [
        "df.head()"
      ],
      "metadata": {
        "colab": {
          "base_uri": "https://localhost:8080/",
          "height": 337
        },
        "id": "nUflnsJaKrdr",
        "outputId": "f871da0b-dfcc-40dd-de64-408b5502b11b"
      },
      "execution_count": null,
      "outputs": [
        {
          "output_type": "execute_result",
          "data": {
            "text/plain": [
              "   ID                      Name Sex   Age  Height  Weight            Team  \\\n",
              "0   1                 A Dijiang   M  24.0   180.0    80.0           China   \n",
              "1   2                  A Lamusi   M  23.0   170.0    60.0           China   \n",
              "2   3       Gunnar Nielsen Aaby   M  24.0     NaN     NaN         Denmark   \n",
              "3   4      Edgar Lindenau Aabye   M  34.0     NaN     NaN  Denmark/Sweden   \n",
              "4   5  Christine Jacoba Aaftink   F  21.0   185.0    82.0     Netherlands   \n",
              "\n",
              "   NOC        Games  Year  Season       City          Sport  \\\n",
              "0  CHN  1992 Summer  1992  Summer  Barcelona     Basketball   \n",
              "1  CHN  2012 Summer  2012  Summer     London           Judo   \n",
              "2  DEN  1920 Summer  1920  Summer  Antwerpen       Football   \n",
              "3  DEN  1900 Summer  1900  Summer      Paris     Tug-Of-War   \n",
              "4  NED  1988 Winter  1988  Winter    Calgary  Speed Skating   \n",
              "\n",
              "                              Event Medal  \n",
              "0       Basketball Men's Basketball   NaN  \n",
              "1      Judo Men's Extra-Lightweight   NaN  \n",
              "2           Football Men's Football   NaN  \n",
              "3       Tug-Of-War Men's Tug-Of-War  Gold  \n",
              "4  Speed Skating Women's 500 metres   NaN  "
            ],
            "text/html": [
              "\n",
              "  <div id=\"df-9f612f54-f84f-49c6-a71b-df5b57f409a2\">\n",
              "    <div class=\"colab-df-container\">\n",
              "      <div>\n",
              "<style scoped>\n",
              "    .dataframe tbody tr th:only-of-type {\n",
              "        vertical-align: middle;\n",
              "    }\n",
              "\n",
              "    .dataframe tbody tr th {\n",
              "        vertical-align: top;\n",
              "    }\n",
              "\n",
              "    .dataframe thead th {\n",
              "        text-align: right;\n",
              "    }\n",
              "</style>\n",
              "<table border=\"1\" class=\"dataframe\">\n",
              "  <thead>\n",
              "    <tr style=\"text-align: right;\">\n",
              "      <th></th>\n",
              "      <th>ID</th>\n",
              "      <th>Name</th>\n",
              "      <th>Sex</th>\n",
              "      <th>Age</th>\n",
              "      <th>Height</th>\n",
              "      <th>Weight</th>\n",
              "      <th>Team</th>\n",
              "      <th>NOC</th>\n",
              "      <th>Games</th>\n",
              "      <th>Year</th>\n",
              "      <th>Season</th>\n",
              "      <th>City</th>\n",
              "      <th>Sport</th>\n",
              "      <th>Event</th>\n",
              "      <th>Medal</th>\n",
              "    </tr>\n",
              "  </thead>\n",
              "  <tbody>\n",
              "    <tr>\n",
              "      <th>0</th>\n",
              "      <td>1</td>\n",
              "      <td>A Dijiang</td>\n",
              "      <td>M</td>\n",
              "      <td>24.0</td>\n",
              "      <td>180.0</td>\n",
              "      <td>80.0</td>\n",
              "      <td>China</td>\n",
              "      <td>CHN</td>\n",
              "      <td>1992 Summer</td>\n",
              "      <td>1992</td>\n",
              "      <td>Summer</td>\n",
              "      <td>Barcelona</td>\n",
              "      <td>Basketball</td>\n",
              "      <td>Basketball Men's Basketball</td>\n",
              "      <td>NaN</td>\n",
              "    </tr>\n",
              "    <tr>\n",
              "      <th>1</th>\n",
              "      <td>2</td>\n",
              "      <td>A Lamusi</td>\n",
              "      <td>M</td>\n",
              "      <td>23.0</td>\n",
              "      <td>170.0</td>\n",
              "      <td>60.0</td>\n",
              "      <td>China</td>\n",
              "      <td>CHN</td>\n",
              "      <td>2012 Summer</td>\n",
              "      <td>2012</td>\n",
              "      <td>Summer</td>\n",
              "      <td>London</td>\n",
              "      <td>Judo</td>\n",
              "      <td>Judo Men's Extra-Lightweight</td>\n",
              "      <td>NaN</td>\n",
              "    </tr>\n",
              "    <tr>\n",
              "      <th>2</th>\n",
              "      <td>3</td>\n",
              "      <td>Gunnar Nielsen Aaby</td>\n",
              "      <td>M</td>\n",
              "      <td>24.0</td>\n",
              "      <td>NaN</td>\n",
              "      <td>NaN</td>\n",
              "      <td>Denmark</td>\n",
              "      <td>DEN</td>\n",
              "      <td>1920 Summer</td>\n",
              "      <td>1920</td>\n",
              "      <td>Summer</td>\n",
              "      <td>Antwerpen</td>\n",
              "      <td>Football</td>\n",
              "      <td>Football Men's Football</td>\n",
              "      <td>NaN</td>\n",
              "    </tr>\n",
              "    <tr>\n",
              "      <th>3</th>\n",
              "      <td>4</td>\n",
              "      <td>Edgar Lindenau Aabye</td>\n",
              "      <td>M</td>\n",
              "      <td>34.0</td>\n",
              "      <td>NaN</td>\n",
              "      <td>NaN</td>\n",
              "      <td>Denmark/Sweden</td>\n",
              "      <td>DEN</td>\n",
              "      <td>1900 Summer</td>\n",
              "      <td>1900</td>\n",
              "      <td>Summer</td>\n",
              "      <td>Paris</td>\n",
              "      <td>Tug-Of-War</td>\n",
              "      <td>Tug-Of-War Men's Tug-Of-War</td>\n",
              "      <td>Gold</td>\n",
              "    </tr>\n",
              "    <tr>\n",
              "      <th>4</th>\n",
              "      <td>5</td>\n",
              "      <td>Christine Jacoba Aaftink</td>\n",
              "      <td>F</td>\n",
              "      <td>21.0</td>\n",
              "      <td>185.0</td>\n",
              "      <td>82.0</td>\n",
              "      <td>Netherlands</td>\n",
              "      <td>NED</td>\n",
              "      <td>1988 Winter</td>\n",
              "      <td>1988</td>\n",
              "      <td>Winter</td>\n",
              "      <td>Calgary</td>\n",
              "      <td>Speed Skating</td>\n",
              "      <td>Speed Skating Women's 500 metres</td>\n",
              "      <td>NaN</td>\n",
              "    </tr>\n",
              "  </tbody>\n",
              "</table>\n",
              "</div>\n",
              "      <button class=\"colab-df-convert\" onclick=\"convertToInteractive('df-9f612f54-f84f-49c6-a71b-df5b57f409a2')\"\n",
              "              title=\"Convert this dataframe to an interactive table.\"\n",
              "              style=\"display:none;\">\n",
              "        \n",
              "  <svg xmlns=\"http://www.w3.org/2000/svg\" height=\"24px\"viewBox=\"0 0 24 24\"\n",
              "       width=\"24px\">\n",
              "    <path d=\"M0 0h24v24H0V0z\" fill=\"none\"/>\n",
              "    <path d=\"M18.56 5.44l.94 2.06.94-2.06 2.06-.94-2.06-.94-.94-2.06-.94 2.06-2.06.94zm-11 1L8.5 8.5l.94-2.06 2.06-.94-2.06-.94L8.5 2.5l-.94 2.06-2.06.94zm10 10l.94 2.06.94-2.06 2.06-.94-2.06-.94-.94-2.06-.94 2.06-2.06.94z\"/><path d=\"M17.41 7.96l-1.37-1.37c-.4-.4-.92-.59-1.43-.59-.52 0-1.04.2-1.43.59L10.3 9.45l-7.72 7.72c-.78.78-.78 2.05 0 2.83L4 21.41c.39.39.9.59 1.41.59.51 0 1.02-.2 1.41-.59l7.78-7.78 2.81-2.81c.8-.78.8-2.07 0-2.86zM5.41 20L4 18.59l7.72-7.72 1.47 1.35L5.41 20z\"/>\n",
              "  </svg>\n",
              "      </button>\n",
              "      \n",
              "  <style>\n",
              "    .colab-df-container {\n",
              "      display:flex;\n",
              "      flex-wrap:wrap;\n",
              "      gap: 12px;\n",
              "    }\n",
              "\n",
              "    .colab-df-convert {\n",
              "      background-color: #E8F0FE;\n",
              "      border: none;\n",
              "      border-radius: 50%;\n",
              "      cursor: pointer;\n",
              "      display: none;\n",
              "      fill: #1967D2;\n",
              "      height: 32px;\n",
              "      padding: 0 0 0 0;\n",
              "      width: 32px;\n",
              "    }\n",
              "\n",
              "    .colab-df-convert:hover {\n",
              "      background-color: #E2EBFA;\n",
              "      box-shadow: 0px 1px 2px rgba(60, 64, 67, 0.3), 0px 1px 3px 1px rgba(60, 64, 67, 0.15);\n",
              "      fill: #174EA6;\n",
              "    }\n",
              "\n",
              "    [theme=dark] .colab-df-convert {\n",
              "      background-color: #3B4455;\n",
              "      fill: #D2E3FC;\n",
              "    }\n",
              "\n",
              "    [theme=dark] .colab-df-convert:hover {\n",
              "      background-color: #434B5C;\n",
              "      box-shadow: 0px 1px 3px 1px rgba(0, 0, 0, 0.15);\n",
              "      filter: drop-shadow(0px 1px 2px rgba(0, 0, 0, 0.3));\n",
              "      fill: #FFFFFF;\n",
              "    }\n",
              "  </style>\n",
              "\n",
              "      <script>\n",
              "        const buttonEl =\n",
              "          document.querySelector('#df-9f612f54-f84f-49c6-a71b-df5b57f409a2 button.colab-df-convert');\n",
              "        buttonEl.style.display =\n",
              "          google.colab.kernel.accessAllowed ? 'block' : 'none';\n",
              "\n",
              "        async function convertToInteractive(key) {\n",
              "          const element = document.querySelector('#df-9f612f54-f84f-49c6-a71b-df5b57f409a2');\n",
              "          const dataTable =\n",
              "            await google.colab.kernel.invokeFunction('convertToInteractive',\n",
              "                                                     [key], {});\n",
              "          if (!dataTable) return;\n",
              "\n",
              "          const docLinkHtml = 'Like what you see? Visit the ' +\n",
              "            '<a target=\"_blank\" href=https://colab.research.google.com/notebooks/data_table.ipynb>data table notebook</a>'\n",
              "            + ' to learn more about interactive tables.';\n",
              "          element.innerHTML = '';\n",
              "          dataTable['output_type'] = 'display_data';\n",
              "          await google.colab.output.renderOutput(dataTable, element);\n",
              "          const docLink = document.createElement('div');\n",
              "          docLink.innerHTML = docLinkHtml;\n",
              "          element.appendChild(docLink);\n",
              "        }\n",
              "      </script>\n",
              "    </div>\n",
              "  </div>\n",
              "  "
            ]
          },
          "metadata": {},
          "execution_count": 122
        }
      ]
    },
    {
      "cell_type": "code",
      "source": [
        "df2 = df.dropna() #exclui todas as linhas que não tem dados."
      ],
      "metadata": {
        "id": "41Fv_Eu_KtDV"
      },
      "execution_count": null,
      "outputs": []
    },
    {
      "cell_type": "code",
      "source": [
        "df2.head()"
      ],
      "metadata": {
        "colab": {
          "base_uri": "https://localhost:8080/",
          "height": 337
        },
        "id": "IuDXinJ1L7Ge",
        "outputId": "6f43d263-82e3-450c-f580-44c86e433999"
      },
      "execution_count": null,
      "outputs": [
        {
          "output_type": "execute_result",
          "data": {
            "text/plain": [
              "    ID                      Name Sex   Age  Height  Weight     Team  NOC  \\\n",
              "40  16  Juhamatti Tapio Aaltonen   M  28.0   184.0    85.0  Finland  FIN   \n",
              "41  17   Paavo Johannes Aaltonen   M  28.0   175.0    64.0  Finland  FIN   \n",
              "42  17   Paavo Johannes Aaltonen   M  28.0   175.0    64.0  Finland  FIN   \n",
              "44  17   Paavo Johannes Aaltonen   M  28.0   175.0    64.0  Finland  FIN   \n",
              "48  17   Paavo Johannes Aaltonen   M  28.0   175.0    64.0  Finland  FIN   \n",
              "\n",
              "          Games  Year  Season    City       Sport  \\\n",
              "40  2014 Winter  2014  Winter   Sochi  Ice Hockey   \n",
              "41  1948 Summer  1948  Summer  London  Gymnastics   \n",
              "42  1948 Summer  1948  Summer  London  Gymnastics   \n",
              "44  1948 Summer  1948  Summer  London  Gymnastics   \n",
              "48  1948 Summer  1948  Summer  London  Gymnastics   \n",
              "\n",
              "                                     Event   Medal  \n",
              "40             Ice Hockey Men's Ice Hockey  Bronze  \n",
              "41  Gymnastics Men's Individual All-Around  Bronze  \n",
              "42        Gymnastics Men's Team All-Around    Gold  \n",
              "44            Gymnastics Men's Horse Vault    Gold  \n",
              "48        Gymnastics Men's Pommelled Horse    Gold  "
            ],
            "text/html": [
              "\n",
              "  <div id=\"df-e1cd8a7a-cd9b-4e4c-a42e-bf25db102575\">\n",
              "    <div class=\"colab-df-container\">\n",
              "      <div>\n",
              "<style scoped>\n",
              "    .dataframe tbody tr th:only-of-type {\n",
              "        vertical-align: middle;\n",
              "    }\n",
              "\n",
              "    .dataframe tbody tr th {\n",
              "        vertical-align: top;\n",
              "    }\n",
              "\n",
              "    .dataframe thead th {\n",
              "        text-align: right;\n",
              "    }\n",
              "</style>\n",
              "<table border=\"1\" class=\"dataframe\">\n",
              "  <thead>\n",
              "    <tr style=\"text-align: right;\">\n",
              "      <th></th>\n",
              "      <th>ID</th>\n",
              "      <th>Name</th>\n",
              "      <th>Sex</th>\n",
              "      <th>Age</th>\n",
              "      <th>Height</th>\n",
              "      <th>Weight</th>\n",
              "      <th>Team</th>\n",
              "      <th>NOC</th>\n",
              "      <th>Games</th>\n",
              "      <th>Year</th>\n",
              "      <th>Season</th>\n",
              "      <th>City</th>\n",
              "      <th>Sport</th>\n",
              "      <th>Event</th>\n",
              "      <th>Medal</th>\n",
              "    </tr>\n",
              "  </thead>\n",
              "  <tbody>\n",
              "    <tr>\n",
              "      <th>40</th>\n",
              "      <td>16</td>\n",
              "      <td>Juhamatti Tapio Aaltonen</td>\n",
              "      <td>M</td>\n",
              "      <td>28.0</td>\n",
              "      <td>184.0</td>\n",
              "      <td>85.0</td>\n",
              "      <td>Finland</td>\n",
              "      <td>FIN</td>\n",
              "      <td>2014 Winter</td>\n",
              "      <td>2014</td>\n",
              "      <td>Winter</td>\n",
              "      <td>Sochi</td>\n",
              "      <td>Ice Hockey</td>\n",
              "      <td>Ice Hockey Men's Ice Hockey</td>\n",
              "      <td>Bronze</td>\n",
              "    </tr>\n",
              "    <tr>\n",
              "      <th>41</th>\n",
              "      <td>17</td>\n",
              "      <td>Paavo Johannes Aaltonen</td>\n",
              "      <td>M</td>\n",
              "      <td>28.0</td>\n",
              "      <td>175.0</td>\n",
              "      <td>64.0</td>\n",
              "      <td>Finland</td>\n",
              "      <td>FIN</td>\n",
              "      <td>1948 Summer</td>\n",
              "      <td>1948</td>\n",
              "      <td>Summer</td>\n",
              "      <td>London</td>\n",
              "      <td>Gymnastics</td>\n",
              "      <td>Gymnastics Men's Individual All-Around</td>\n",
              "      <td>Bronze</td>\n",
              "    </tr>\n",
              "    <tr>\n",
              "      <th>42</th>\n",
              "      <td>17</td>\n",
              "      <td>Paavo Johannes Aaltonen</td>\n",
              "      <td>M</td>\n",
              "      <td>28.0</td>\n",
              "      <td>175.0</td>\n",
              "      <td>64.0</td>\n",
              "      <td>Finland</td>\n",
              "      <td>FIN</td>\n",
              "      <td>1948 Summer</td>\n",
              "      <td>1948</td>\n",
              "      <td>Summer</td>\n",
              "      <td>London</td>\n",
              "      <td>Gymnastics</td>\n",
              "      <td>Gymnastics Men's Team All-Around</td>\n",
              "      <td>Gold</td>\n",
              "    </tr>\n",
              "    <tr>\n",
              "      <th>44</th>\n",
              "      <td>17</td>\n",
              "      <td>Paavo Johannes Aaltonen</td>\n",
              "      <td>M</td>\n",
              "      <td>28.0</td>\n",
              "      <td>175.0</td>\n",
              "      <td>64.0</td>\n",
              "      <td>Finland</td>\n",
              "      <td>FIN</td>\n",
              "      <td>1948 Summer</td>\n",
              "      <td>1948</td>\n",
              "      <td>Summer</td>\n",
              "      <td>London</td>\n",
              "      <td>Gymnastics</td>\n",
              "      <td>Gymnastics Men's Horse Vault</td>\n",
              "      <td>Gold</td>\n",
              "    </tr>\n",
              "    <tr>\n",
              "      <th>48</th>\n",
              "      <td>17</td>\n",
              "      <td>Paavo Johannes Aaltonen</td>\n",
              "      <td>M</td>\n",
              "      <td>28.0</td>\n",
              "      <td>175.0</td>\n",
              "      <td>64.0</td>\n",
              "      <td>Finland</td>\n",
              "      <td>FIN</td>\n",
              "      <td>1948 Summer</td>\n",
              "      <td>1948</td>\n",
              "      <td>Summer</td>\n",
              "      <td>London</td>\n",
              "      <td>Gymnastics</td>\n",
              "      <td>Gymnastics Men's Pommelled Horse</td>\n",
              "      <td>Gold</td>\n",
              "    </tr>\n",
              "  </tbody>\n",
              "</table>\n",
              "</div>\n",
              "      <button class=\"colab-df-convert\" onclick=\"convertToInteractive('df-e1cd8a7a-cd9b-4e4c-a42e-bf25db102575')\"\n",
              "              title=\"Convert this dataframe to an interactive table.\"\n",
              "              style=\"display:none;\">\n",
              "        \n",
              "  <svg xmlns=\"http://www.w3.org/2000/svg\" height=\"24px\"viewBox=\"0 0 24 24\"\n",
              "       width=\"24px\">\n",
              "    <path d=\"M0 0h24v24H0V0z\" fill=\"none\"/>\n",
              "    <path d=\"M18.56 5.44l.94 2.06.94-2.06 2.06-.94-2.06-.94-.94-2.06-.94 2.06-2.06.94zm-11 1L8.5 8.5l.94-2.06 2.06-.94-2.06-.94L8.5 2.5l-.94 2.06-2.06.94zm10 10l.94 2.06.94-2.06 2.06-.94-2.06-.94-.94-2.06-.94 2.06-2.06.94z\"/><path d=\"M17.41 7.96l-1.37-1.37c-.4-.4-.92-.59-1.43-.59-.52 0-1.04.2-1.43.59L10.3 9.45l-7.72 7.72c-.78.78-.78 2.05 0 2.83L4 21.41c.39.39.9.59 1.41.59.51 0 1.02-.2 1.41-.59l7.78-7.78 2.81-2.81c.8-.78.8-2.07 0-2.86zM5.41 20L4 18.59l7.72-7.72 1.47 1.35L5.41 20z\"/>\n",
              "  </svg>\n",
              "      </button>\n",
              "      \n",
              "  <style>\n",
              "    .colab-df-container {\n",
              "      display:flex;\n",
              "      flex-wrap:wrap;\n",
              "      gap: 12px;\n",
              "    }\n",
              "\n",
              "    .colab-df-convert {\n",
              "      background-color: #E8F0FE;\n",
              "      border: none;\n",
              "      border-radius: 50%;\n",
              "      cursor: pointer;\n",
              "      display: none;\n",
              "      fill: #1967D2;\n",
              "      height: 32px;\n",
              "      padding: 0 0 0 0;\n",
              "      width: 32px;\n",
              "    }\n",
              "\n",
              "    .colab-df-convert:hover {\n",
              "      background-color: #E2EBFA;\n",
              "      box-shadow: 0px 1px 2px rgba(60, 64, 67, 0.3), 0px 1px 3px 1px rgba(60, 64, 67, 0.15);\n",
              "      fill: #174EA6;\n",
              "    }\n",
              "\n",
              "    [theme=dark] .colab-df-convert {\n",
              "      background-color: #3B4455;\n",
              "      fill: #D2E3FC;\n",
              "    }\n",
              "\n",
              "    [theme=dark] .colab-df-convert:hover {\n",
              "      background-color: #434B5C;\n",
              "      box-shadow: 0px 1px 3px 1px rgba(0, 0, 0, 0.15);\n",
              "      filter: drop-shadow(0px 1px 2px rgba(0, 0, 0, 0.3));\n",
              "      fill: #FFFFFF;\n",
              "    }\n",
              "  </style>\n",
              "\n",
              "      <script>\n",
              "        const buttonEl =\n",
              "          document.querySelector('#df-e1cd8a7a-cd9b-4e4c-a42e-bf25db102575 button.colab-df-convert');\n",
              "        buttonEl.style.display =\n",
              "          google.colab.kernel.accessAllowed ? 'block' : 'none';\n",
              "\n",
              "        async function convertToInteractive(key) {\n",
              "          const element = document.querySelector('#df-e1cd8a7a-cd9b-4e4c-a42e-bf25db102575');\n",
              "          const dataTable =\n",
              "            await google.colab.kernel.invokeFunction('convertToInteractive',\n",
              "                                                     [key], {});\n",
              "          if (!dataTable) return;\n",
              "\n",
              "          const docLinkHtml = 'Like what you see? Visit the ' +\n",
              "            '<a target=\"_blank\" href=https://colab.research.google.com/notebooks/data_table.ipynb>data table notebook</a>'\n",
              "            + ' to learn more about interactive tables.';\n",
              "          element.innerHTML = '';\n",
              "          dataTable['output_type'] = 'display_data';\n",
              "          await google.colab.output.renderOutput(dataTable, element);\n",
              "          const docLink = document.createElement('div');\n",
              "          docLink.innerHTML = docLinkHtml;\n",
              "          element.appendChild(docLink);\n",
              "        }\n",
              "      </script>\n",
              "    </div>\n",
              "  </div>\n",
              "  "
            ]
          },
          "metadata": {},
          "execution_count": 124
        }
      ]
    },
    {
      "cell_type": "code",
      "source": [
        "df2.shape"
      ],
      "metadata": {
        "colab": {
          "base_uri": "https://localhost:8080/"
        },
        "id": "bnmDZOYdMI7i",
        "outputId": "56a0dac7-08ff-431a-eaff-b265c79f67f0"
      },
      "execution_count": null,
      "outputs": [
        {
          "output_type": "execute_result",
          "data": {
            "text/plain": [
              "(30181, 15)"
            ]
          },
          "metadata": {},
          "execution_count": 125
        }
      ]
    },
    {
      "cell_type": "code",
      "source": [
        "df.shape"
      ],
      "metadata": {
        "colab": {
          "base_uri": "https://localhost:8080/"
        },
        "id": "YpJj00syMMOQ",
        "outputId": "eb5a3493-9457-40e1-f29c-1e86c507b09b"
      },
      "execution_count": null,
      "outputs": [
        {
          "output_type": "execute_result",
          "data": {
            "text/plain": [
              "(271116, 15)"
            ]
          },
          "metadata": {},
          "execution_count": 126
        }
      ]
    },
    {
      "cell_type": "code",
      "source": [
        "enulo = df.isnull()"
      ],
      "metadata": {
        "id": "DfnGxub3N3WY"
      },
      "execution_count": null,
      "outputs": []
    },
    {
      "cell_type": "code",
      "source": [
        "faltantes = df.isnull().sum() #soma a quantidade de dados faltantes em cada uma das colunas.\n",
        "print(faltantes)"
      ],
      "metadata": {
        "colab": {
          "base_uri": "https://localhost:8080/"
        },
        "id": "z1qWjopgQXz5",
        "outputId": "bd397767-07f8-4615-b216-00f3464f9b8a"
      },
      "execution_count": null,
      "outputs": [
        {
          "output_type": "stream",
          "name": "stdout",
          "text": [
            "ID             0\n",
            "Name           0\n",
            "Sex            0\n",
            "Age         9474\n",
            "Height     60171\n",
            "Weight     62875\n",
            "Team           0\n",
            "NOC            0\n",
            "Games          0\n",
            "Year           0\n",
            "Season         0\n",
            "City           0\n",
            "Sport          0\n",
            "Event          0\n",
            "Medal     231333\n",
            "dtype: int64\n"
          ]
        }
      ]
    },
    {
      "cell_type": "code",
      "source": [
        "faltantes_percentual = (df.isnull().sum()/len(df['ID']))*100\n",
        "print(faltantes_percentual)"
      ],
      "metadata": {
        "colab": {
          "base_uri": "https://localhost:8080/"
        },
        "id": "IjX3EnSlS6MI",
        "outputId": "08c4e6b7-7b9a-4515-b8c0-b6ffc0d76500"
      },
      "execution_count": null,
      "outputs": [
        {
          "output_type": "stream",
          "name": "stdout",
          "text": [
            "ID         0.000000\n",
            "Name       0.000000\n",
            "Sex        0.000000\n",
            "Age        3.494445\n",
            "Height    22.193821\n",
            "Weight    23.191180\n",
            "Team       0.000000\n",
            "NOC        0.000000\n",
            "Games      0.000000\n",
            "Year       0.000000\n",
            "Season     0.000000\n",
            "City       0.000000\n",
            "Sport      0.000000\n",
            "Event      0.000000\n",
            "Medal     85.326207\n",
            "dtype: float64\n"
          ]
        }
      ]
    },
    {
      "cell_type": "code",
      "source": [
        "df['Medal'].fillna('Nenhuma', inplace = True) #substituir os dados faltantes por uma stg.\n",
        "df['Age'].fillna(df['Age'].mean(), inplace = True) #substituir os dados pela média ou mediana.\n",
        "df['Height'].fillna(df['Height'].mean(), inplace = True) #substituir os dados pela média ou mediana.\n",
        "df['Weight'].fillna(df['Weight'].mean(), inplace = True) #substituir os dados pela média ou mediana.\n",
        "df.head()"
      ],
      "metadata": {
        "colab": {
          "base_uri": "https://localhost:8080/",
          "height": 371
        },
        "id": "0p5EizS6T7Ge",
        "outputId": "38c7019f-e1d3-4964-c134-ef247a2a3941"
      },
      "execution_count": null,
      "outputs": [
        {
          "output_type": "execute_result",
          "data": {
            "text/plain": [
              "   ID                      Name Sex   Age     Height     Weight  \\\n",
              "0   1                 A Dijiang   M  24.0  180.00000  80.000000   \n",
              "1   2                  A Lamusi   M  23.0  170.00000  60.000000   \n",
              "2   3       Gunnar Nielsen Aaby   M  24.0  175.33897  70.702393   \n",
              "3   4      Edgar Lindenau Aabye   M  34.0  175.33897  70.702393   \n",
              "4   5  Christine Jacoba Aaftink   F  21.0  185.00000  82.000000   \n",
              "\n",
              "             Team  NOC        Games  Year  Season       City          Sport  \\\n",
              "0           China  CHN  1992 Summer  1992  Summer  Barcelona     Basketball   \n",
              "1           China  CHN  2012 Summer  2012  Summer     London           Judo   \n",
              "2         Denmark  DEN  1920 Summer  1920  Summer  Antwerpen       Football   \n",
              "3  Denmark/Sweden  DEN  1900 Summer  1900  Summer      Paris     Tug-Of-War   \n",
              "4     Netherlands  NED  1988 Winter  1988  Winter    Calgary  Speed Skating   \n",
              "\n",
              "                              Event    Medal  \n",
              "0       Basketball Men's Basketball  Nenhuma  \n",
              "1      Judo Men's Extra-Lightweight  Nenhuma  \n",
              "2           Football Men's Football  Nenhuma  \n",
              "3       Tug-Of-War Men's Tug-Of-War     Gold  \n",
              "4  Speed Skating Women's 500 metres  Nenhuma  "
            ],
            "text/html": [
              "\n",
              "  <div id=\"df-94168f9b-f871-47fa-bde8-e82c288cbf36\">\n",
              "    <div class=\"colab-df-container\">\n",
              "      <div>\n",
              "<style scoped>\n",
              "    .dataframe tbody tr th:only-of-type {\n",
              "        vertical-align: middle;\n",
              "    }\n",
              "\n",
              "    .dataframe tbody tr th {\n",
              "        vertical-align: top;\n",
              "    }\n",
              "\n",
              "    .dataframe thead th {\n",
              "        text-align: right;\n",
              "    }\n",
              "</style>\n",
              "<table border=\"1\" class=\"dataframe\">\n",
              "  <thead>\n",
              "    <tr style=\"text-align: right;\">\n",
              "      <th></th>\n",
              "      <th>ID</th>\n",
              "      <th>Name</th>\n",
              "      <th>Sex</th>\n",
              "      <th>Age</th>\n",
              "      <th>Height</th>\n",
              "      <th>Weight</th>\n",
              "      <th>Team</th>\n",
              "      <th>NOC</th>\n",
              "      <th>Games</th>\n",
              "      <th>Year</th>\n",
              "      <th>Season</th>\n",
              "      <th>City</th>\n",
              "      <th>Sport</th>\n",
              "      <th>Event</th>\n",
              "      <th>Medal</th>\n",
              "    </tr>\n",
              "  </thead>\n",
              "  <tbody>\n",
              "    <tr>\n",
              "      <th>0</th>\n",
              "      <td>1</td>\n",
              "      <td>A Dijiang</td>\n",
              "      <td>M</td>\n",
              "      <td>24.0</td>\n",
              "      <td>180.00000</td>\n",
              "      <td>80.000000</td>\n",
              "      <td>China</td>\n",
              "      <td>CHN</td>\n",
              "      <td>1992 Summer</td>\n",
              "      <td>1992</td>\n",
              "      <td>Summer</td>\n",
              "      <td>Barcelona</td>\n",
              "      <td>Basketball</td>\n",
              "      <td>Basketball Men's Basketball</td>\n",
              "      <td>Nenhuma</td>\n",
              "    </tr>\n",
              "    <tr>\n",
              "      <th>1</th>\n",
              "      <td>2</td>\n",
              "      <td>A Lamusi</td>\n",
              "      <td>M</td>\n",
              "      <td>23.0</td>\n",
              "      <td>170.00000</td>\n",
              "      <td>60.000000</td>\n",
              "      <td>China</td>\n",
              "      <td>CHN</td>\n",
              "      <td>2012 Summer</td>\n",
              "      <td>2012</td>\n",
              "      <td>Summer</td>\n",
              "      <td>London</td>\n",
              "      <td>Judo</td>\n",
              "      <td>Judo Men's Extra-Lightweight</td>\n",
              "      <td>Nenhuma</td>\n",
              "    </tr>\n",
              "    <tr>\n",
              "      <th>2</th>\n",
              "      <td>3</td>\n",
              "      <td>Gunnar Nielsen Aaby</td>\n",
              "      <td>M</td>\n",
              "      <td>24.0</td>\n",
              "      <td>175.33897</td>\n",
              "      <td>70.702393</td>\n",
              "      <td>Denmark</td>\n",
              "      <td>DEN</td>\n",
              "      <td>1920 Summer</td>\n",
              "      <td>1920</td>\n",
              "      <td>Summer</td>\n",
              "      <td>Antwerpen</td>\n",
              "      <td>Football</td>\n",
              "      <td>Football Men's Football</td>\n",
              "      <td>Nenhuma</td>\n",
              "    </tr>\n",
              "    <tr>\n",
              "      <th>3</th>\n",
              "      <td>4</td>\n",
              "      <td>Edgar Lindenau Aabye</td>\n",
              "      <td>M</td>\n",
              "      <td>34.0</td>\n",
              "      <td>175.33897</td>\n",
              "      <td>70.702393</td>\n",
              "      <td>Denmark/Sweden</td>\n",
              "      <td>DEN</td>\n",
              "      <td>1900 Summer</td>\n",
              "      <td>1900</td>\n",
              "      <td>Summer</td>\n",
              "      <td>Paris</td>\n",
              "      <td>Tug-Of-War</td>\n",
              "      <td>Tug-Of-War Men's Tug-Of-War</td>\n",
              "      <td>Gold</td>\n",
              "    </tr>\n",
              "    <tr>\n",
              "      <th>4</th>\n",
              "      <td>5</td>\n",
              "      <td>Christine Jacoba Aaftink</td>\n",
              "      <td>F</td>\n",
              "      <td>21.0</td>\n",
              "      <td>185.00000</td>\n",
              "      <td>82.000000</td>\n",
              "      <td>Netherlands</td>\n",
              "      <td>NED</td>\n",
              "      <td>1988 Winter</td>\n",
              "      <td>1988</td>\n",
              "      <td>Winter</td>\n",
              "      <td>Calgary</td>\n",
              "      <td>Speed Skating</td>\n",
              "      <td>Speed Skating Women's 500 metres</td>\n",
              "      <td>Nenhuma</td>\n",
              "    </tr>\n",
              "  </tbody>\n",
              "</table>\n",
              "</div>\n",
              "      <button class=\"colab-df-convert\" onclick=\"convertToInteractive('df-94168f9b-f871-47fa-bde8-e82c288cbf36')\"\n",
              "              title=\"Convert this dataframe to an interactive table.\"\n",
              "              style=\"display:none;\">\n",
              "        \n",
              "  <svg xmlns=\"http://www.w3.org/2000/svg\" height=\"24px\"viewBox=\"0 0 24 24\"\n",
              "       width=\"24px\">\n",
              "    <path d=\"M0 0h24v24H0V0z\" fill=\"none\"/>\n",
              "    <path d=\"M18.56 5.44l.94 2.06.94-2.06 2.06-.94-2.06-.94-.94-2.06-.94 2.06-2.06.94zm-11 1L8.5 8.5l.94-2.06 2.06-.94-2.06-.94L8.5 2.5l-.94 2.06-2.06.94zm10 10l.94 2.06.94-2.06 2.06-.94-2.06-.94-.94-2.06-.94 2.06-2.06.94z\"/><path d=\"M17.41 7.96l-1.37-1.37c-.4-.4-.92-.59-1.43-.59-.52 0-1.04.2-1.43.59L10.3 9.45l-7.72 7.72c-.78.78-.78 2.05 0 2.83L4 21.41c.39.39.9.59 1.41.59.51 0 1.02-.2 1.41-.59l7.78-7.78 2.81-2.81c.8-.78.8-2.07 0-2.86zM5.41 20L4 18.59l7.72-7.72 1.47 1.35L5.41 20z\"/>\n",
              "  </svg>\n",
              "      </button>\n",
              "      \n",
              "  <style>\n",
              "    .colab-df-container {\n",
              "      display:flex;\n",
              "      flex-wrap:wrap;\n",
              "      gap: 12px;\n",
              "    }\n",
              "\n",
              "    .colab-df-convert {\n",
              "      background-color: #E8F0FE;\n",
              "      border: none;\n",
              "      border-radius: 50%;\n",
              "      cursor: pointer;\n",
              "      display: none;\n",
              "      fill: #1967D2;\n",
              "      height: 32px;\n",
              "      padding: 0 0 0 0;\n",
              "      width: 32px;\n",
              "    }\n",
              "\n",
              "    .colab-df-convert:hover {\n",
              "      background-color: #E2EBFA;\n",
              "      box-shadow: 0px 1px 2px rgba(60, 64, 67, 0.3), 0px 1px 3px 1px rgba(60, 64, 67, 0.15);\n",
              "      fill: #174EA6;\n",
              "    }\n",
              "\n",
              "    [theme=dark] .colab-df-convert {\n",
              "      background-color: #3B4455;\n",
              "      fill: #D2E3FC;\n",
              "    }\n",
              "\n",
              "    [theme=dark] .colab-df-convert:hover {\n",
              "      background-color: #434B5C;\n",
              "      box-shadow: 0px 1px 3px 1px rgba(0, 0, 0, 0.15);\n",
              "      filter: drop-shadow(0px 1px 2px rgba(0, 0, 0, 0.3));\n",
              "      fill: #FFFFFF;\n",
              "    }\n",
              "  </style>\n",
              "\n",
              "      <script>\n",
              "        const buttonEl =\n",
              "          document.querySelector('#df-94168f9b-f871-47fa-bde8-e82c288cbf36 button.colab-df-convert');\n",
              "        buttonEl.style.display =\n",
              "          google.colab.kernel.accessAllowed ? 'block' : 'none';\n",
              "\n",
              "        async function convertToInteractive(key) {\n",
              "          const element = document.querySelector('#df-94168f9b-f871-47fa-bde8-e82c288cbf36');\n",
              "          const dataTable =\n",
              "            await google.colab.kernel.invokeFunction('convertToInteractive',\n",
              "                                                     [key], {});\n",
              "          if (!dataTable) return;\n",
              "\n",
              "          const docLinkHtml = 'Like what you see? Visit the ' +\n",
              "            '<a target=\"_blank\" href=https://colab.research.google.com/notebooks/data_table.ipynb>data table notebook</a>'\n",
              "            + ' to learn more about interactive tables.';\n",
              "          element.innerHTML = '';\n",
              "          dataTable['output_type'] = 'display_data';\n",
              "          await google.colab.output.renderOutput(dataTable, element);\n",
              "          const docLink = document.createElement('div');\n",
              "          docLink.innerHTML = docLinkHtml;\n",
              "          element.appendChild(docLink);\n",
              "        }\n",
              "      </script>\n",
              "    </div>\n",
              "  </div>\n",
              "  "
            ]
          },
          "metadata": {},
          "execution_count": 130
        }
      ]
    },
    {
      "cell_type": "code",
      "source": [
        "df.shape #verificar a quantidade de linhas e colunas."
      ],
      "metadata": {
        "colab": {
          "base_uri": "https://localhost:8080/"
        },
        "id": "mPIbdMTXWB5Y",
        "outputId": "004dadaa-e045-4904-9e8a-d80f13970586"
      },
      "execution_count": null,
      "outputs": [
        {
          "output_type": "execute_result",
          "data": {
            "text/plain": [
              "(271116, 15)"
            ]
          },
          "metadata": {},
          "execution_count": 131
        }
      ]
    },
    {
      "cell_type": "code",
      "source": [
        "faltantes_percentual = (df.isnull().sum()/len(df['ID']))*100\n",
        "print(faltantes_percentual)"
      ],
      "metadata": {
        "id": "FlRBpZP3WKMC",
        "outputId": "797c3b9c-c2e0-42cc-d89c-3c1220d49e0d",
        "colab": {
          "base_uri": "https://localhost:8080/"
        }
      },
      "execution_count": null,
      "outputs": [
        {
          "output_type": "stream",
          "name": "stdout",
          "text": [
            "ID        0.0\n",
            "Name      0.0\n",
            "Sex       0.0\n",
            "Age       0.0\n",
            "Height    0.0\n",
            "Weight    0.0\n",
            "Team      0.0\n",
            "NOC       0.0\n",
            "Games     0.0\n",
            "Year      0.0\n",
            "Season    0.0\n",
            "City      0.0\n",
            "Sport     0.0\n",
            "Event     0.0\n",
            "Medal     0.0\n",
            "dtype: float64\n"
          ]
        }
      ]
    },
    {
      "cell_type": "markdown",
      "source": [
        "**Machine Learning** "
      ],
      "metadata": {
        "id": "oviFLLBX33T4"
      }
    },
    {
      "cell_type": "code",
      "source": [
        "df = pd.read_csv('/content/drive/My Drive/Laboratório de Python/wine_dataset.csv')"
      ],
      "metadata": {
        "id": "35jirrSJ3BQO"
      },
      "execution_count": null,
      "outputs": []
    },
    {
      "cell_type": "code",
      "source": [
        "df.head()"
      ],
      "metadata": {
        "colab": {
          "base_uri": "https://localhost:8080/",
          "height": 270
        },
        "id": "Jb_oFpjoCEp2",
        "outputId": "45c581ae-1c76-471e-859c-38c7955d6e4f"
      },
      "execution_count": null,
      "outputs": [
        {
          "output_type": "execute_result",
          "data": {
            "text/plain": [
              "   fixed_acidity  volatile_acidity  citric_acid  residual_sugar  chlorides  \\\n",
              "0            7.4              0.70         0.00             1.9      0.076   \n",
              "1            7.8              0.88         0.00             2.6      0.098   \n",
              "2            7.8              0.76         0.04             2.3      0.092   \n",
              "3           11.2              0.28         0.56             1.9      0.075   \n",
              "4            7.4              0.70         0.00             1.9      0.076   \n",
              "\n",
              "   free_sulfur_dioxide  total_sulfur_dioxide  density    pH  sulphates  \\\n",
              "0                 11.0                  34.0   0.9978  3.51       0.56   \n",
              "1                 25.0                  67.0   0.9968  3.20       0.68   \n",
              "2                 15.0                  54.0   0.9970  3.26       0.65   \n",
              "3                 17.0                  60.0   0.9980  3.16       0.58   \n",
              "4                 11.0                  34.0   0.9978  3.51       0.56   \n",
              "\n",
              "   alcohol  quality style  \n",
              "0      9.4        5   red  \n",
              "1      9.8        5   red  \n",
              "2      9.8        5   red  \n",
              "3      9.8        6   red  \n",
              "4      9.4        5   red  "
            ],
            "text/html": [
              "\n",
              "  <div id=\"df-a3eff912-ff67-4db3-b9a9-b806b21bb751\">\n",
              "    <div class=\"colab-df-container\">\n",
              "      <div>\n",
              "<style scoped>\n",
              "    .dataframe tbody tr th:only-of-type {\n",
              "        vertical-align: middle;\n",
              "    }\n",
              "\n",
              "    .dataframe tbody tr th {\n",
              "        vertical-align: top;\n",
              "    }\n",
              "\n",
              "    .dataframe thead th {\n",
              "        text-align: right;\n",
              "    }\n",
              "</style>\n",
              "<table border=\"1\" class=\"dataframe\">\n",
              "  <thead>\n",
              "    <tr style=\"text-align: right;\">\n",
              "      <th></th>\n",
              "      <th>fixed_acidity</th>\n",
              "      <th>volatile_acidity</th>\n",
              "      <th>citric_acid</th>\n",
              "      <th>residual_sugar</th>\n",
              "      <th>chlorides</th>\n",
              "      <th>free_sulfur_dioxide</th>\n",
              "      <th>total_sulfur_dioxide</th>\n",
              "      <th>density</th>\n",
              "      <th>pH</th>\n",
              "      <th>sulphates</th>\n",
              "      <th>alcohol</th>\n",
              "      <th>quality</th>\n",
              "      <th>style</th>\n",
              "    </tr>\n",
              "  </thead>\n",
              "  <tbody>\n",
              "    <tr>\n",
              "      <th>0</th>\n",
              "      <td>7.4</td>\n",
              "      <td>0.70</td>\n",
              "      <td>0.00</td>\n",
              "      <td>1.9</td>\n",
              "      <td>0.076</td>\n",
              "      <td>11.0</td>\n",
              "      <td>34.0</td>\n",
              "      <td>0.9978</td>\n",
              "      <td>3.51</td>\n",
              "      <td>0.56</td>\n",
              "      <td>9.4</td>\n",
              "      <td>5</td>\n",
              "      <td>red</td>\n",
              "    </tr>\n",
              "    <tr>\n",
              "      <th>1</th>\n",
              "      <td>7.8</td>\n",
              "      <td>0.88</td>\n",
              "      <td>0.00</td>\n",
              "      <td>2.6</td>\n",
              "      <td>0.098</td>\n",
              "      <td>25.0</td>\n",
              "      <td>67.0</td>\n",
              "      <td>0.9968</td>\n",
              "      <td>3.20</td>\n",
              "      <td>0.68</td>\n",
              "      <td>9.8</td>\n",
              "      <td>5</td>\n",
              "      <td>red</td>\n",
              "    </tr>\n",
              "    <tr>\n",
              "      <th>2</th>\n",
              "      <td>7.8</td>\n",
              "      <td>0.76</td>\n",
              "      <td>0.04</td>\n",
              "      <td>2.3</td>\n",
              "      <td>0.092</td>\n",
              "      <td>15.0</td>\n",
              "      <td>54.0</td>\n",
              "      <td>0.9970</td>\n",
              "      <td>3.26</td>\n",
              "      <td>0.65</td>\n",
              "      <td>9.8</td>\n",
              "      <td>5</td>\n",
              "      <td>red</td>\n",
              "    </tr>\n",
              "    <tr>\n",
              "      <th>3</th>\n",
              "      <td>11.2</td>\n",
              "      <td>0.28</td>\n",
              "      <td>0.56</td>\n",
              "      <td>1.9</td>\n",
              "      <td>0.075</td>\n",
              "      <td>17.0</td>\n",
              "      <td>60.0</td>\n",
              "      <td>0.9980</td>\n",
              "      <td>3.16</td>\n",
              "      <td>0.58</td>\n",
              "      <td>9.8</td>\n",
              "      <td>6</td>\n",
              "      <td>red</td>\n",
              "    </tr>\n",
              "    <tr>\n",
              "      <th>4</th>\n",
              "      <td>7.4</td>\n",
              "      <td>0.70</td>\n",
              "      <td>0.00</td>\n",
              "      <td>1.9</td>\n",
              "      <td>0.076</td>\n",
              "      <td>11.0</td>\n",
              "      <td>34.0</td>\n",
              "      <td>0.9978</td>\n",
              "      <td>3.51</td>\n",
              "      <td>0.56</td>\n",
              "      <td>9.4</td>\n",
              "      <td>5</td>\n",
              "      <td>red</td>\n",
              "    </tr>\n",
              "  </tbody>\n",
              "</table>\n",
              "</div>\n",
              "      <button class=\"colab-df-convert\" onclick=\"convertToInteractive('df-a3eff912-ff67-4db3-b9a9-b806b21bb751')\"\n",
              "              title=\"Convert this dataframe to an interactive table.\"\n",
              "              style=\"display:none;\">\n",
              "        \n",
              "  <svg xmlns=\"http://www.w3.org/2000/svg\" height=\"24px\"viewBox=\"0 0 24 24\"\n",
              "       width=\"24px\">\n",
              "    <path d=\"M0 0h24v24H0V0z\" fill=\"none\"/>\n",
              "    <path d=\"M18.56 5.44l.94 2.06.94-2.06 2.06-.94-2.06-.94-.94-2.06-.94 2.06-2.06.94zm-11 1L8.5 8.5l.94-2.06 2.06-.94-2.06-.94L8.5 2.5l-.94 2.06-2.06.94zm10 10l.94 2.06.94-2.06 2.06-.94-2.06-.94-.94-2.06-.94 2.06-2.06.94z\"/><path d=\"M17.41 7.96l-1.37-1.37c-.4-.4-.92-.59-1.43-.59-.52 0-1.04.2-1.43.59L10.3 9.45l-7.72 7.72c-.78.78-.78 2.05 0 2.83L4 21.41c.39.39.9.59 1.41.59.51 0 1.02-.2 1.41-.59l7.78-7.78 2.81-2.81c.8-.78.8-2.07 0-2.86zM5.41 20L4 18.59l7.72-7.72 1.47 1.35L5.41 20z\"/>\n",
              "  </svg>\n",
              "      </button>\n",
              "      \n",
              "  <style>\n",
              "    .colab-df-container {\n",
              "      display:flex;\n",
              "      flex-wrap:wrap;\n",
              "      gap: 12px;\n",
              "    }\n",
              "\n",
              "    .colab-df-convert {\n",
              "      background-color: #E8F0FE;\n",
              "      border: none;\n",
              "      border-radius: 50%;\n",
              "      cursor: pointer;\n",
              "      display: none;\n",
              "      fill: #1967D2;\n",
              "      height: 32px;\n",
              "      padding: 0 0 0 0;\n",
              "      width: 32px;\n",
              "    }\n",
              "\n",
              "    .colab-df-convert:hover {\n",
              "      background-color: #E2EBFA;\n",
              "      box-shadow: 0px 1px 2px rgba(60, 64, 67, 0.3), 0px 1px 3px 1px rgba(60, 64, 67, 0.15);\n",
              "      fill: #174EA6;\n",
              "    }\n",
              "\n",
              "    [theme=dark] .colab-df-convert {\n",
              "      background-color: #3B4455;\n",
              "      fill: #D2E3FC;\n",
              "    }\n",
              "\n",
              "    [theme=dark] .colab-df-convert:hover {\n",
              "      background-color: #434B5C;\n",
              "      box-shadow: 0px 1px 3px 1px rgba(0, 0, 0, 0.15);\n",
              "      filter: drop-shadow(0px 1px 2px rgba(0, 0, 0, 0.3));\n",
              "      fill: #FFFFFF;\n",
              "    }\n",
              "  </style>\n",
              "\n",
              "      <script>\n",
              "        const buttonEl =\n",
              "          document.querySelector('#df-a3eff912-ff67-4db3-b9a9-b806b21bb751 button.colab-df-convert');\n",
              "        buttonEl.style.display =\n",
              "          google.colab.kernel.accessAllowed ? 'block' : 'none';\n",
              "\n",
              "        async function convertToInteractive(key) {\n",
              "          const element = document.querySelector('#df-a3eff912-ff67-4db3-b9a9-b806b21bb751');\n",
              "          const dataTable =\n",
              "            await google.colab.kernel.invokeFunction('convertToInteractive',\n",
              "                                                     [key], {});\n",
              "          if (!dataTable) return;\n",
              "\n",
              "          const docLinkHtml = 'Like what you see? Visit the ' +\n",
              "            '<a target=\"_blank\" href=https://colab.research.google.com/notebooks/data_table.ipynb>data table notebook</a>'\n",
              "            + ' to learn more about interactive tables.';\n",
              "          element.innerHTML = '';\n",
              "          dataTable['output_type'] = 'display_data';\n",
              "          await google.colab.output.renderOutput(dataTable, element);\n",
              "          const docLink = document.createElement('div');\n",
              "          docLink.innerHTML = docLinkHtml;\n",
              "          element.appendChild(docLink);\n",
              "        }\n",
              "      </script>\n",
              "    </div>\n",
              "  </div>\n",
              "  "
            ]
          },
          "metadata": {},
          "execution_count": 137
        }
      ]
    },
    {
      "cell_type": "markdown",
      "source": [
        "`Ensinar a máquina a classificar um vinho em branco ou tinto de acordo com as características de cada um.`"
      ],
      "metadata": {
        "id": "3DrswYc4C7wk"
      }
    },
    {
      "cell_type": "code",
      "source": [
        "df['style'] = df['style'].replace('red', 0)"
      ],
      "metadata": {
        "id": "a0aPJ8ldC4UT"
      },
      "execution_count": null,
      "outputs": []
    },
    {
      "cell_type": "code",
      "source": [
        "df['style'] = df['style'].replace('white', 1)"
      ],
      "metadata": {
        "id": "shcVC3QhCJxa"
      },
      "execution_count": null,
      "outputs": []
    },
    {
      "cell_type": "code",
      "source": [
        "y = df['style']\n",
        "x = df.drop('style', axis = 1)"
      ],
      "metadata": {
        "id": "SmO39vtlFDH_"
      },
      "execution_count": null,
      "outputs": []
    },
    {
      "cell_type": "code",
      "source": [
        "df.shape"
      ],
      "metadata": {
        "colab": {
          "base_uri": "https://localhost:8080/"
        },
        "id": "3Oy-VWiiIfCD",
        "outputId": "e8b07fd1-1164-4f13-887f-d33af88ffbb5"
      },
      "execution_count": null,
      "outputs": [
        {
          "output_type": "execute_result",
          "data": {
            "text/plain": [
              "(6497, 13)"
            ]
          },
          "metadata": {},
          "execution_count": 148
        }
      ]
    },
    {
      "cell_type": "code",
      "source": [
        "from sklearn.model_selection import train_test_split\n",
        "\n",
        "x_treino, x_teste, y_treino, y_teste = train_test_split(x, y, test_size = 0.3)"
      ],
      "metadata": {
        "id": "GRkzF9OgHUmF"
      },
      "execution_count": null,
      "outputs": []
    },
    {
      "cell_type": "code",
      "source": [
        "y.shape"
      ],
      "metadata": {
        "colab": {
          "base_uri": "https://localhost:8080/"
        },
        "id": "p3HCqW7aIiEG",
        "outputId": "dff5d95d-7bde-4ee2-fea3-b5091f9742bb"
      },
      "execution_count": null,
      "outputs": [
        {
          "output_type": "execute_result",
          "data": {
            "text/plain": [
              "(6497,)"
            ]
          },
          "metadata": {},
          "execution_count": 150
        }
      ]
    },
    {
      "cell_type": "code",
      "source": [
        "y_teste.shape"
      ],
      "metadata": {
        "colab": {
          "base_uri": "https://localhost:8080/"
        },
        "id": "RKK-rRPiImsY",
        "outputId": "e1ba405d-9396-4862-f2ff-9bbe4d7e391c"
      },
      "execution_count": null,
      "outputs": [
        {
          "output_type": "execute_result",
          "data": {
            "text/plain": [
              "(1950,)"
            ]
          },
          "metadata": {},
          "execution_count": 153
        }
      ]
    },
    {
      "cell_type": "code",
      "source": [
        "y_treino.shape"
      ],
      "metadata": {
        "colab": {
          "base_uri": "https://localhost:8080/"
        },
        "id": "C8H2tBuXI_Ip",
        "outputId": "74391572-9a92-465d-8149-58492257e3eb"
      },
      "execution_count": null,
      "outputs": [
        {
          "output_type": "execute_result",
          "data": {
            "text/plain": [
              "(4547,)"
            ]
          },
          "metadata": {},
          "execution_count": 154
        }
      ]
    },
    {
      "cell_type": "code",
      "source": [
        "from sklearn.ensemble import ExtraTreesClassifier\n",
        "\n",
        "#criação do modelo\n",
        "modelo = ExtraTreesClassifier()\n",
        "modelo.fit(x_treino, y_treino)\n",
        "\n",
        "#resultado do modelo\n",
        "resultado = modelo.score(x_teste, y_teste)\n",
        "print(\"Acurácia:\", resultado)"
      ],
      "metadata": {
        "colab": {
          "base_uri": "https://localhost:8080/"
        },
        "id": "upngU7UzJBm3",
        "outputId": "a4216cca-b6a3-4a56-cfbf-edc134ee7e0a"
      },
      "execution_count": null,
      "outputs": [
        {
          "output_type": "stream",
          "name": "stdout",
          "text": [
            "Acurácia: 0.9969230769230769\n"
          ]
        }
      ]
    },
    {
      "cell_type": "code",
      "source": [
        "y_teste[400:403]"
      ],
      "metadata": {
        "colab": {
          "base_uri": "https://localhost:8080/"
        },
        "id": "vPWVyPrwKZgm",
        "outputId": "61c1de9c-4305-4d53-f71f-d32fc8e4e255"
      },
      "execution_count": null,
      "outputs": [
        {
          "output_type": "execute_result",
          "data": {
            "text/plain": [
              "2322    1\n",
              "1589    0\n",
              "4671    1\n",
              "Name: style, dtype: int64"
            ]
          },
          "metadata": {},
          "execution_count": 158
        }
      ]
    },
    {
      "cell_type": "code",
      "source": [
        "x_teste[400:403]"
      ],
      "metadata": {
        "colab": {
          "base_uri": "https://localhost:8080/",
          "height": 207
        },
        "id": "Tkr2KbQJKkYp",
        "outputId": "427506d8-d7e6-4eae-d9b7-921922fe4bdf"
      },
      "execution_count": null,
      "outputs": [
        {
          "output_type": "execute_result",
          "data": {
            "text/plain": [
              "      fixed_acidity  volatile_acidity  citric_acid  residual_sugar  chlorides  \\\n",
              "2322            6.6             0.330         0.31             1.3      0.020   \n",
              "1589            6.6             0.725         0.20             7.8      0.073   \n",
              "4671            7.5             0.250         0.47             4.1      0.041   \n",
              "\n",
              "      free_sulfur_dioxide  total_sulfur_dioxide  density    pH  sulphates  \\\n",
              "2322                 29.0                  89.0  0.99035  3.26       0.44   \n",
              "1589                 29.0                  79.0  0.99770  3.29       0.54   \n",
              "4671                 95.0                 163.0  0.99184  2.92       0.59   \n",
              "\n",
              "      alcohol  quality  \n",
              "2322     12.4        8  \n",
              "1589      9.2        5  \n",
              "4671     11.3        6  "
            ],
            "text/html": [
              "\n",
              "  <div id=\"df-66f0b18e-01bb-4d64-af77-e0d39972ebda\">\n",
              "    <div class=\"colab-df-container\">\n",
              "      <div>\n",
              "<style scoped>\n",
              "    .dataframe tbody tr th:only-of-type {\n",
              "        vertical-align: middle;\n",
              "    }\n",
              "\n",
              "    .dataframe tbody tr th {\n",
              "        vertical-align: top;\n",
              "    }\n",
              "\n",
              "    .dataframe thead th {\n",
              "        text-align: right;\n",
              "    }\n",
              "</style>\n",
              "<table border=\"1\" class=\"dataframe\">\n",
              "  <thead>\n",
              "    <tr style=\"text-align: right;\">\n",
              "      <th></th>\n",
              "      <th>fixed_acidity</th>\n",
              "      <th>volatile_acidity</th>\n",
              "      <th>citric_acid</th>\n",
              "      <th>residual_sugar</th>\n",
              "      <th>chlorides</th>\n",
              "      <th>free_sulfur_dioxide</th>\n",
              "      <th>total_sulfur_dioxide</th>\n",
              "      <th>density</th>\n",
              "      <th>pH</th>\n",
              "      <th>sulphates</th>\n",
              "      <th>alcohol</th>\n",
              "      <th>quality</th>\n",
              "    </tr>\n",
              "  </thead>\n",
              "  <tbody>\n",
              "    <tr>\n",
              "      <th>2322</th>\n",
              "      <td>6.6</td>\n",
              "      <td>0.330</td>\n",
              "      <td>0.31</td>\n",
              "      <td>1.3</td>\n",
              "      <td>0.020</td>\n",
              "      <td>29.0</td>\n",
              "      <td>89.0</td>\n",
              "      <td>0.99035</td>\n",
              "      <td>3.26</td>\n",
              "      <td>0.44</td>\n",
              "      <td>12.4</td>\n",
              "      <td>8</td>\n",
              "    </tr>\n",
              "    <tr>\n",
              "      <th>1589</th>\n",
              "      <td>6.6</td>\n",
              "      <td>0.725</td>\n",
              "      <td>0.20</td>\n",
              "      <td>7.8</td>\n",
              "      <td>0.073</td>\n",
              "      <td>29.0</td>\n",
              "      <td>79.0</td>\n",
              "      <td>0.99770</td>\n",
              "      <td>3.29</td>\n",
              "      <td>0.54</td>\n",
              "      <td>9.2</td>\n",
              "      <td>5</td>\n",
              "    </tr>\n",
              "    <tr>\n",
              "      <th>4671</th>\n",
              "      <td>7.5</td>\n",
              "      <td>0.250</td>\n",
              "      <td>0.47</td>\n",
              "      <td>4.1</td>\n",
              "      <td>0.041</td>\n",
              "      <td>95.0</td>\n",
              "      <td>163.0</td>\n",
              "      <td>0.99184</td>\n",
              "      <td>2.92</td>\n",
              "      <td>0.59</td>\n",
              "      <td>11.3</td>\n",
              "      <td>6</td>\n",
              "    </tr>\n",
              "  </tbody>\n",
              "</table>\n",
              "</div>\n",
              "      <button class=\"colab-df-convert\" onclick=\"convertToInteractive('df-66f0b18e-01bb-4d64-af77-e0d39972ebda')\"\n",
              "              title=\"Convert this dataframe to an interactive table.\"\n",
              "              style=\"display:none;\">\n",
              "        \n",
              "  <svg xmlns=\"http://www.w3.org/2000/svg\" height=\"24px\"viewBox=\"0 0 24 24\"\n",
              "       width=\"24px\">\n",
              "    <path d=\"M0 0h24v24H0V0z\" fill=\"none\"/>\n",
              "    <path d=\"M18.56 5.44l.94 2.06.94-2.06 2.06-.94-2.06-.94-.94-2.06-.94 2.06-2.06.94zm-11 1L8.5 8.5l.94-2.06 2.06-.94-2.06-.94L8.5 2.5l-.94 2.06-2.06.94zm10 10l.94 2.06.94-2.06 2.06-.94-2.06-.94-.94-2.06-.94 2.06-2.06.94z\"/><path d=\"M17.41 7.96l-1.37-1.37c-.4-.4-.92-.59-1.43-.59-.52 0-1.04.2-1.43.59L10.3 9.45l-7.72 7.72c-.78.78-.78 2.05 0 2.83L4 21.41c.39.39.9.59 1.41.59.51 0 1.02-.2 1.41-.59l7.78-7.78 2.81-2.81c.8-.78.8-2.07 0-2.86zM5.41 20L4 18.59l7.72-7.72 1.47 1.35L5.41 20z\"/>\n",
              "  </svg>\n",
              "      </button>\n",
              "      \n",
              "  <style>\n",
              "    .colab-df-container {\n",
              "      display:flex;\n",
              "      flex-wrap:wrap;\n",
              "      gap: 12px;\n",
              "    }\n",
              "\n",
              "    .colab-df-convert {\n",
              "      background-color: #E8F0FE;\n",
              "      border: none;\n",
              "      border-radius: 50%;\n",
              "      cursor: pointer;\n",
              "      display: none;\n",
              "      fill: #1967D2;\n",
              "      height: 32px;\n",
              "      padding: 0 0 0 0;\n",
              "      width: 32px;\n",
              "    }\n",
              "\n",
              "    .colab-df-convert:hover {\n",
              "      background-color: #E2EBFA;\n",
              "      box-shadow: 0px 1px 2px rgba(60, 64, 67, 0.3), 0px 1px 3px 1px rgba(60, 64, 67, 0.15);\n",
              "      fill: #174EA6;\n",
              "    }\n",
              "\n",
              "    [theme=dark] .colab-df-convert {\n",
              "      background-color: #3B4455;\n",
              "      fill: #D2E3FC;\n",
              "    }\n",
              "\n",
              "    [theme=dark] .colab-df-convert:hover {\n",
              "      background-color: #434B5C;\n",
              "      box-shadow: 0px 1px 3px 1px rgba(0, 0, 0, 0.15);\n",
              "      filter: drop-shadow(0px 1px 2px rgba(0, 0, 0, 0.3));\n",
              "      fill: #FFFFFF;\n",
              "    }\n",
              "  </style>\n",
              "\n",
              "      <script>\n",
              "        const buttonEl =\n",
              "          document.querySelector('#df-66f0b18e-01bb-4d64-af77-e0d39972ebda button.colab-df-convert');\n",
              "        buttonEl.style.display =\n",
              "          google.colab.kernel.accessAllowed ? 'block' : 'none';\n",
              "\n",
              "        async function convertToInteractive(key) {\n",
              "          const element = document.querySelector('#df-66f0b18e-01bb-4d64-af77-e0d39972ebda');\n",
              "          const dataTable =\n",
              "            await google.colab.kernel.invokeFunction('convertToInteractive',\n",
              "                                                     [key], {});\n",
              "          if (!dataTable) return;\n",
              "\n",
              "          const docLinkHtml = 'Like what you see? Visit the ' +\n",
              "            '<a target=\"_blank\" href=https://colab.research.google.com/notebooks/data_table.ipynb>data table notebook</a>'\n",
              "            + ' to learn more about interactive tables.';\n",
              "          element.innerHTML = '';\n",
              "          dataTable['output_type'] = 'display_data';\n",
              "          await google.colab.output.renderOutput(dataTable, element);\n",
              "          const docLink = document.createElement('div');\n",
              "          docLink.innerHTML = docLinkHtml;\n",
              "          element.appendChild(docLink);\n",
              "        }\n",
              "      </script>\n",
              "    </div>\n",
              "  </div>\n",
              "  "
            ]
          },
          "metadata": {},
          "execution_count": 159
        }
      ]
    },
    {
      "cell_type": "code",
      "source": [
        "previsoes = modelo.predict(x_teste[400:403])"
      ],
      "metadata": {
        "id": "36-RTHVSLbSV"
      },
      "execution_count": null,
      "outputs": []
    },
    {
      "cell_type": "code",
      "source": [
        "previsoes"
      ],
      "metadata": {
        "colab": {
          "base_uri": "https://localhost:8080/"
        },
        "id": "mkPCAQ5zLgyC",
        "outputId": "3bb57060-9b2a-4ca1-9b08-f4991a5c2cbc"
      },
      "execution_count": null,
      "outputs": [
        {
          "output_type": "execute_result",
          "data": {
            "text/plain": [
              "array([1, 0, 1])"
            ]
          },
          "metadata": {},
          "execution_count": 161
        }
      ]
    },
    {
      "cell_type": "markdown",
      "source": [
        "**Classes, Objetos, Métodos, Herança e Construtor.**"
      ],
      "metadata": {
        "id": "LdXYpT8FMs3A"
      }
    },
    {
      "cell_type": "code",
      "source": [
        "def teste(v,i):\n",
        "    valor = v\n",
        "    incremento = i\n",
        "    resultado = valor + incremento\n",
        "    return resultado"
      ],
      "metadata": {
        "id": "kuWUu2bsMr0W"
      },
      "execution_count": null,
      "outputs": []
    },
    {
      "cell_type": "code",
      "source": [
        "a = teste(10,1)"
      ],
      "metadata": {
        "id": "N5GNlD2ISqdb"
      },
      "execution_count": null,
      "outputs": []
    },
    {
      "cell_type": "code",
      "source": [
        "a"
      ],
      "metadata": {
        "colab": {
          "base_uri": "https://localhost:8080/"
        },
        "id": "zuXwXYexU7HG",
        "outputId": "a1dc08c6-3437-48bc-f2a2-9890d0451242"
      },
      "execution_count": null,
      "outputs": [
        {
          "output_type": "execute_result",
          "data": {
            "text/plain": [
              "11"
            ]
          },
          "metadata": {},
          "execution_count": 3
        }
      ]
    },
    {
      "cell_type": "code",
      "source": [
        "#classes e métodos\n",
        "class DidaticaTech:\n",
        "  def incrementa(self, v, i):\n",
        "    valor = v\n",
        "    incremento = i\n",
        "    resultado = valor + incremento\n",
        "    return resultado"
      ],
      "metadata": {
        "id": "H8Z21cvbVw7P"
      },
      "execution_count": null,
      "outputs": []
    },
    {
      "cell_type": "code",
      "source": [
        "a = DidaticaTech()"
      ],
      "metadata": {
        "id": "o17WdGqTYubd"
      },
      "execution_count": null,
      "outputs": []
    },
    {
      "cell_type": "code",
      "source": [
        "b = a.incrementa(10,1)\n",
        "print(b)"
      ],
      "metadata": {
        "colab": {
          "base_uri": "https://localhost:8080/"
        },
        "id": "exYKgYxIYy0I",
        "outputId": "5bcf3935-f1ba-4fd7-ead5-faeaee239c4a"
      },
      "execution_count": null,
      "outputs": [
        {
          "output_type": "stream",
          "name": "stdout",
          "text": [
            "11\n"
          ]
        }
      ]
    },
    {
      "cell_type": "code",
      "source": [
        "a = DidaticaTech().incrementa(10,1)\n",
        "print(a)"
      ],
      "metadata": {
        "colab": {
          "base_uri": "https://localhost:8080/"
        },
        "id": "ilDass00Zv_j",
        "outputId": "a02a9cd3-b9db-4292-cda7-3fd12148e762"
      },
      "execution_count": null,
      "outputs": [
        {
          "output_type": "stream",
          "name": "stdout",
          "text": [
            "11\n"
          ]
        }
      ]
    },
    {
      "cell_type": "code",
      "source": [
        "class DidaticaTech:\n",
        "  def incrementa(self, v, i):\n",
        "    self.valor = v\n",
        "    self.incremento = i\n",
        "    self.resultado = self.valor + self.incremento\n",
        "    return self.resultado"
      ],
      "metadata": {
        "id": "zwnp111GaB93"
      },
      "execution_count": null,
      "outputs": []
    },
    {
      "cell_type": "code",
      "source": [
        "a = DidaticaTech()"
      ],
      "metadata": {
        "id": "jrhPGoVYaPZW"
      },
      "execution_count": null,
      "outputs": []
    },
    {
      "cell_type": "code",
      "source": [
        "b = a.incrementa(10, 1)\n",
        "print(b)"
      ],
      "metadata": {
        "colab": {
          "base_uri": "https://localhost:8080/"
        },
        "id": "QPbxlWozaS_s",
        "outputId": "cc81a374-6b0b-497c-b145-a6fc637b6e02"
      },
      "execution_count": null,
      "outputs": [
        {
          "output_type": "stream",
          "name": "stdout",
          "text": [
            "11\n"
          ]
        }
      ]
    },
    {
      "cell_type": "code",
      "source": [
        "a.valor"
      ],
      "metadata": {
        "colab": {
          "base_uri": "https://localhost:8080/"
        },
        "id": "v5UMFC4_apb0",
        "outputId": "2c880d3e-ab26-499d-db1f-9adc21c14014"
      },
      "execution_count": null,
      "outputs": [
        {
          "output_type": "execute_result",
          "data": {
            "text/plain": [
              "10"
            ]
          },
          "metadata": {},
          "execution_count": 8
        }
      ]
    },
    {
      "cell_type": "code",
      "source": [
        "class DidaticaTech:\n",
        "  def __init__(self, v:int, i:int):\n",
        "    self.valor = v\n",
        "    self.incremento = i\n",
        "  def incrementa(self):\n",
        "    self.valor = self.valor + self.incremento\n",
        "    #return self.resultado"
      ],
      "metadata": {
        "id": "n8tLFtFUd4NC"
      },
      "execution_count": null,
      "outputs": []
    },
    {
      "cell_type": "code",
      "source": [
        "a = DidaticaTech(10, 1)"
      ],
      "metadata": {
        "id": "1TqWpLZXaV9R"
      },
      "execution_count": null,
      "outputs": []
    },
    {
      "cell_type": "code",
      "source": [
        "a.incrementa()"
      ],
      "metadata": {
        "id": "5pzl-TZDaawA"
      },
      "execution_count": null,
      "outputs": []
    },
    {
      "cell_type": "code",
      "source": [
        "a.valor"
      ],
      "metadata": {
        "colab": {
          "base_uri": "https://localhost:8080/"
        },
        "id": "iBeIw87bawmf",
        "outputId": "d84ff7f9-e2a9-47b0-f653-23ff7c4e3ee2"
      },
      "execution_count": null,
      "outputs": [
        {
          "output_type": "execute_result",
          "data": {
            "text/plain": [
              "12"
            ]
          },
          "metadata": {},
          "execution_count": 23
        }
      ]
    },
    {
      "cell_type": "code",
      "source": [
        "b = DidaticaTech(10, 1)"
      ],
      "metadata": {
        "id": "siOoLC2ua2ZG"
      },
      "execution_count": null,
      "outputs": []
    },
    {
      "cell_type": "code",
      "source": [
        "b.incrementa()"
      ],
      "metadata": {
        "id": "6lPzg4Z1bN2W"
      },
      "execution_count": null,
      "outputs": []
    },
    {
      "cell_type": "code",
      "source": [
        "b.valor"
      ],
      "metadata": {
        "colab": {
          "base_uri": "https://localhost:8080/"
        },
        "id": "gkDSVYHbbWog",
        "outputId": "71af9d5e-23d8-4b94-c9b8-c3899abb2050"
      },
      "execution_count": null,
      "outputs": [
        {
          "output_type": "execute_result",
          "data": {
            "text/plain": [
              "11"
            ]
          },
          "metadata": {},
          "execution_count": 27
        }
      ]
    },
    {
      "cell_type": "code",
      "source": [
        "class DidaticaTech:\n",
        "  def __init__(self, v= 10, i= 1):\n",
        "    self.valor = v\n",
        "    self.incremento = i\n",
        "  def incrementa(self):\n",
        "    self.valor = self.valor + self.incremento"
      ],
      "metadata": {
        "id": "mo3yd1KZbYBz"
      },
      "execution_count": null,
      "outputs": []
    },
    {
      "cell_type": "code",
      "source": [
        "a = DidaticaTech()"
      ],
      "metadata": {
        "id": "kDNm2heQcsNZ"
      },
      "execution_count": null,
      "outputs": []
    },
    {
      "cell_type": "code",
      "source": [
        "a.incrementa()"
      ],
      "metadata": {
        "id": "eNQ23wnMczGO"
      },
      "execution_count": null,
      "outputs": []
    },
    {
      "cell_type": "code",
      "source": [
        "a.valor"
      ],
      "metadata": {
        "colab": {
          "base_uri": "https://localhost:8080/"
        },
        "id": "szhzg8d6c4RL",
        "outputId": "5c8eee1a-d5d6-4903-d7ee-5d035b00b68c"
      },
      "execution_count": null,
      "outputs": [
        {
          "output_type": "execute_result",
          "data": {
            "text/plain": [
              "11"
            ]
          },
          "metadata": {},
          "execution_count": 32
        }
      ]
    },
    {
      "cell_type": "markdown",
      "source": [
        "Quando estanciamos uma classe (Didaticatech) por meio de um objeto (**a** ou **b**), os métodos, que correspondem as funções, são compartilhados com todos os objetos criados a partir da mesma classe.\n",
        "\n",
        "Já os **atributos** não são compartilhados com outros objetos criados a partir da mesma classe.\n",
        "\n",
        "O atributo valor não foi compartilhado com o objeto a e objeto b. Exemplo disso é o a.valor = 12.\n",
        "\n",
        "Existe uma outra terminologia, onde os métodos são o *comportamento*, enquanto os atributos são o *estado*."
      ],
      "metadata": {
        "id": "mQriMz_6dYVH"
      }
    },
    {
      "cell_type": "code",
      "source": [
        "class DidaticaTech:\n",
        "  def __init__(self, v= 10, i= 1):\n",
        "    self.valor = v\n",
        "    self.incremento = i\n",
        "    self.valor_exponencial = v\n",
        "  def incrementa(self):\n",
        "    self.valor = self.valor + self.incremento\n",
        "  def verifica(self):\n",
        "      if self.valor > 12:\n",
        "          print(\"Ultrapassou 12\")\n",
        "      else:\n",
        "          print(\"Não ultrapassou 12\")\n",
        "  def exponencial(self, e):\n",
        "      self.valor_exponencial = self.valor**e\n",
        "  def incrementa_quadrado(self):\n",
        "      self.incrementa()\n",
        "      self.exponencial(2)"
      ],
      "metadata": {
        "id": "ypD3KvZPe6aI"
      },
      "execution_count": null,
      "outputs": []
    },
    {
      "cell_type": "code",
      "source": [
        "a = DidaticaTech()"
      ],
      "metadata": {
        "id": "iXcsu4jPht5S"
      },
      "execution_count": null,
      "outputs": []
    },
    {
      "cell_type": "code",
      "source": [
        "a.incrementa()"
      ],
      "metadata": {
        "id": "WCJCZY7qhxE0"
      },
      "execution_count": null,
      "outputs": []
    },
    {
      "cell_type": "code",
      "source": [
        "a.valor"
      ],
      "metadata": {
        "colab": {
          "base_uri": "https://localhost:8080/"
        },
        "id": "Qq3vx4aXiik_",
        "outputId": "9df53ca2-4c4d-4357-b4ca-3815e0c4cc3d"
      },
      "execution_count": null,
      "outputs": [
        {
          "output_type": "execute_result",
          "data": {
            "text/plain": [
              "11"
            ]
          },
          "metadata": {},
          "execution_count": 42
        }
      ]
    },
    {
      "cell_type": "code",
      "source": [
        "a.verifica()"
      ],
      "metadata": {
        "colab": {
          "base_uri": "https://localhost:8080/"
        },
        "id": "LzLynKdShysW",
        "outputId": "432a1705-23c3-4dac-fbc7-9849e2a1333a"
      },
      "execution_count": null,
      "outputs": [
        {
          "output_type": "stream",
          "name": "stdout",
          "text": [
            "Não ultrapassou 12\n"
          ]
        }
      ]
    },
    {
      "cell_type": "code",
      "source": [
        "a.exponencial(3)"
      ],
      "metadata": {
        "id": "SrHqdmO9ibCg"
      },
      "execution_count": null,
      "outputs": []
    },
    {
      "cell_type": "code",
      "source": [
        "a.valor_exponencial"
      ],
      "metadata": {
        "colab": {
          "base_uri": "https://localhost:8080/"
        },
        "id": "NSd0XBQqiozt",
        "outputId": "bf8cbd41-cb2c-4a9d-8794-4dbaa0a2611c"
      },
      "execution_count": null,
      "outputs": [
        {
          "output_type": "execute_result",
          "data": {
            "text/plain": [
              "1331"
            ]
          },
          "metadata": {},
          "execution_count": 43
        }
      ]
    },
    {
      "cell_type": "code",
      "source": [
        "a.incrementa_quadrado()"
      ],
      "metadata": {
        "id": "jLhX-kUEix7A"
      },
      "execution_count": null,
      "outputs": []
    },
    {
      "cell_type": "code",
      "source": [
        "a.valor"
      ],
      "metadata": {
        "colab": {
          "base_uri": "https://localhost:8080/"
        },
        "id": "_9wUIjQri32J",
        "outputId": "402f4331-e098-4333-98ca-df3ebd7f35fa"
      },
      "execution_count": null,
      "outputs": [
        {
          "output_type": "execute_result",
          "data": {
            "text/plain": [
              "12"
            ]
          },
          "metadata": {},
          "execution_count": 45
        }
      ]
    },
    {
      "cell_type": "code",
      "source": [
        "a.valor_exponencial"
      ],
      "metadata": {
        "colab": {
          "base_uri": "https://localhost:8080/"
        },
        "id": "rzh3GrJKjGDm",
        "outputId": "eaf668e2-f05c-409f-a584-412183cbb343"
      },
      "execution_count": null,
      "outputs": [
        {
          "output_type": "execute_result",
          "data": {
            "text/plain": [
              "144"
            ]
          },
          "metadata": {},
          "execution_count": 46
        }
      ]
    },
    {
      "cell_type": "markdown",
      "source": [
        "**Herança**\n"
      ],
      "metadata": {
        "id": "Y_57-XFtpsum"
      }
    },
    {
      "cell_type": "code",
      "source": [
        "class Calculos(DidaticaTech):\n",
        "  pass"
      ],
      "metadata": {
        "id": "wAMiiF_CjLHY"
      },
      "execution_count": null,
      "outputs": []
    },
    {
      "cell_type": "code",
      "source": [
        "c = Calculos()"
      ],
      "metadata": {
        "id": "n1L4OLYsp33l"
      },
      "execution_count": null,
      "outputs": []
    },
    {
      "cell_type": "code",
      "source": [
        "c.incrementa()"
      ],
      "metadata": {
        "id": "gF4j2qOgp7Yy"
      },
      "execution_count": null,
      "outputs": []
    },
    {
      "cell_type": "code",
      "source": [
        "c.valor"
      ],
      "metadata": {
        "colab": {
          "base_uri": "https://localhost:8080/"
        },
        "id": "mXY0ImwwqDa_",
        "outputId": "5fa59ab3-561f-4894-90b4-ea55ae6f4580"
      },
      "execution_count": null,
      "outputs": [
        {
          "output_type": "execute_result",
          "data": {
            "text/plain": [
              "11"
            ]
          },
          "metadata": {},
          "execution_count": 50
        }
      ]
    },
    {
      "cell_type": "code",
      "source": [
        "class Calculos(DidaticaTech):\n",
        "  def decrementa(self):\n",
        "    self.valor = self.valor - self.incremento"
      ],
      "metadata": {
        "id": "T4lQvNRWqFZE"
      },
      "execution_count": null,
      "outputs": []
    },
    {
      "cell_type": "code",
      "source": [
        "c = Calculos()"
      ],
      "metadata": {
        "id": "tFiSR85Gqs5P"
      },
      "execution_count": null,
      "outputs": []
    },
    {
      "cell_type": "code",
      "source": [
        "c.incrementa()"
      ],
      "metadata": {
        "id": "-3KwQQLGqxEb"
      },
      "execution_count": null,
      "outputs": []
    },
    {
      "cell_type": "code",
      "source": [
        "c.valor"
      ],
      "metadata": {
        "colab": {
          "base_uri": "https://localhost:8080/"
        },
        "id": "B35BGxBIqz0i",
        "outputId": "c8b99145-0e80-427f-fd9f-5570ade1a651"
      },
      "execution_count": null,
      "outputs": [
        {
          "output_type": "execute_result",
          "data": {
            "text/plain": [
              "11"
            ]
          },
          "metadata": {},
          "execution_count": 55
        }
      ]
    },
    {
      "cell_type": "code",
      "source": [
        "c.decrementa()"
      ],
      "metadata": {
        "id": "oXze0ukYq4xg"
      },
      "execution_count": null,
      "outputs": []
    },
    {
      "cell_type": "code",
      "source": [
        "c.valor"
      ],
      "metadata": {
        "colab": {
          "base_uri": "https://localhost:8080/"
        },
        "id": "8tMoq7ioq6oP",
        "outputId": "0032a1b0-677e-49c3-bedc-95af14223f6e"
      },
      "execution_count": null,
      "outputs": [
        {
          "output_type": "execute_result",
          "data": {
            "text/plain": [
              "10"
            ]
          },
          "metadata": {},
          "execution_count": 74
        }
      ]
    },
    {
      "cell_type": "markdown",
      "source": [
        "**Polimorfismo**: o mesmo objeto esta recebendo diferentes formas."
      ],
      "metadata": {
        "id": "Bv_SWgVsv7VN"
      }
    },
    {
      "cell_type": "code",
      "source": [
        "class Calculos(DidaticaTech):\n",
        "  def __init__(self, d=5):\n",
        "      super().__init__(v=10, i=1) #chamando o init com o comando super\n",
        "      self.divisor = d\n",
        "  def decrementa(self):\n",
        "      self.valor = self.valor - self.incremento\n",
        "  def divide(self):\n",
        "      self.valor = self.valor/self.divisor"
      ],
      "metadata": {
        "id": "XiozFQ5Vv4zw"
      },
      "execution_count": null,
      "outputs": []
    },
    {
      "cell_type": "code",
      "source": [
        "c = Calculos()"
      ],
      "metadata": {
        "id": "iaWE9fCM4lz_"
      },
      "execution_count": null,
      "outputs": []
    },
    {
      "cell_type": "code",
      "source": [
        "c.incrementa()"
      ],
      "metadata": {
        "id": "y_RBimBy5wrD"
      },
      "execution_count": null,
      "outputs": []
    },
    {
      "cell_type": "code",
      "source": [
        "c.valor"
      ],
      "metadata": {
        "colab": {
          "base_uri": "https://localhost:8080/"
        },
        "id": "Tl4wyneT4ofO",
        "outputId": "1d45cc35-72d0-4260-e2e6-798dafa1a981"
      },
      "execution_count": null,
      "outputs": [
        {
          "output_type": "execute_result",
          "data": {
            "text/plain": [
              "11"
            ]
          },
          "metadata": {},
          "execution_count": 89
        }
      ]
    },
    {
      "cell_type": "code",
      "source": [
        "c.decrementa()"
      ],
      "metadata": {
        "id": "AnTlCJZH4qpG"
      },
      "execution_count": null,
      "outputs": []
    },
    {
      "cell_type": "code",
      "source": [
        "c.divide()"
      ],
      "metadata": {
        "id": "bFT8nsV_4w1j"
      },
      "execution_count": null,
      "outputs": []
    },
    {
      "cell_type": "code",
      "source": [
        "c.valor"
      ],
      "metadata": {
        "colab": {
          "base_uri": "https://localhost:8080/"
        },
        "id": "iPS0b-0i54n5",
        "outputId": "274c1e48-d08f-4e2d-b028-c85dc9d8ce85"
      },
      "execution_count": null,
      "outputs": [
        {
          "output_type": "execute_result",
          "data": {
            "text/plain": [
              "2.0"
            ]
          },
          "metadata": {},
          "execution_count": 93
        }
      ]
    },
    {
      "cell_type": "markdown",
      "source": [
        "**Matplotlib**"
      ],
      "metadata": {
        "id": "dMkKvfV66uFr"
      }
    },
    {
      "cell_type": "code",
      "source": [
        "import matplotlib.pyplot as plt\n",
        "import numpy as np\n",
        "\n",
        "x = np.arange(-1000, 1000, 1)\n",
        "y = x**2\n",
        "plt.plot(x, y)\n",
        "plt.show()"
      ],
      "metadata": {
        "colab": {
          "base_uri": "https://localhost:8080/",
          "height": 276
        },
        "id": "f7IiLw0_6yt4",
        "outputId": "665b42ab-2b0c-41ac-ceda-4dbb72993626"
      },
      "execution_count": null,
      "outputs": [
        {
          "output_type": "display_data",
          "data": {
            "text/plain": [
              "<Figure size 432x288 with 1 Axes>"
            ],
            "image/png": "[encoded data removed]"
          },
          "metadata": {
            "needs_background": "light"
          }
        }
      ]
    },
    {
      "cell_type": "code",
      "source": [
        "y1 = x**2\n",
        "y2 = x**3\n",
        "y3 = -x**2\n",
        "y4 = -x**3\n",
        "plt.subplot(2,2,1)\n",
        "plt.plot(x, y1)\n",
        "plt.subplot(2,2,2)\n",
        "plt.plot(x, y2)\n",
        "plt.subplot(2,2,3)\n",
        "plt.plot(x, y3)\n",
        "plt.subplot(2,2,4)\n",
        "plt.plot(x, y4)\n",
        "plt.show()"
      ],
      "metadata": {
        "colab": {
          "base_uri": "https://localhost:8080/",
          "height": 276
        },
        "id": "soVF385U64Tp",
        "outputId": "e5b706e0-f5ea-4a17-ec52-d13728de9e1d"
      },
      "execution_count": null,
      "outputs": [
        {
          "output_type": "display_data",
          "data": {
            "text/plain": [
              "<Figure size 432x288 with 4 Axes>"
            ],
            "image/png": "[encoded data removed]"
          },
          "metadata": {
            "needs_background": "light"
          }
        }
      ]
    },
    {
      "cell_type": "markdown",
      "source": [
        "![Pilat.png](data:image/png;base64,iVBORw0KGgoAAAANSUhEUgAAAkoAAAIgCAYAAAB6TEalAAAAAXNSR0IArs4c6QAAAARnQU1BAACxjwv8YQUAAAAJcEhZcwAADsMAAA7DAcdvqGQAAIXuSURBVHhe7Z0HgCRF3cX/PbuXyEeWKDnHuwUB/RAUxQCIcLeH5CAgiIiiYkCCICgiJgTJKsjtARJEECRJlt0jCaIIKDnndGFn+vu/6qqZmt7u3Ym7Mz3vt/u6q6q7q8NUT7+prq4WQgghhBCSTGDHhBBCSOdyzaMT5N23dpQw3FhCWUBT7pDenkujiaSToVEihBDS2VzSv5Oao1P1kriaTYkIw6+pWTrNhPv6vyRBsJgU5BGZMfUKk0Y6AholQgghncslA59VQ3SlXg5zNsXnIZk+dQM1Sd9Sk3SyTVPCe6WQO0JmTLnVJpAMk1QwCCGEkOzTd+9SUgjPTTFJSthlRoF80oyLBJtKEP5RZvZvYxNIhqFRIoQQ0pkE+YMkCJa2sYgw/LkOX9TxyzrtmChN5puxTyBLSC64Qvr6t7MpJKPw1hshhJDOpK//RjVD29qYEh4t03tOsJESff0X6XxfsLFywvA9NUzby7Spt9kUkjFYo0QIIaQzKTNJSpibaUPlBLkbbGgoQbCAFOS30nfPWjaFZAzWKBFCCGkfZt6zi5qTX+vlq0t/6n9Jpk29JEof+JBe0VZSt9OtY1X4suS7n5MZmz5gpsc5/+aJsuDC79tYxEKLTJRPrznXxkqgLVNQeMnGUgjvlvFzPyGf+/DbNoFkBBolQggh7UNf/wNqlDaMIuEjOvizame9nJU/2u8Iwzd0eIVOv1Z6p86KEi19/Y9qXmvYmM4S9Mi0KQM2Vk5f/3U6/RM2hnxP1fjXbSwilKt0HTvZGMkIvPVGCCGkfQiCZWxICdZRHalKNkkAfR8FwT4SSJ/M6v+LXHpvyRhJ8JgNRBQKP7KhBIL47beF1SxdYMMRgewoswb2sTGSEWiUCCGEtB59/QcbDSG83wZqIPik5PO3q5n5cBQNy9skoc1S38BvbaycICzYkON96e3ZV8fXRFFLKKvbEMkINEqEEEJai76BWWpazjCa1X+5TY0I5SEbKgdPn4VyqY77VBepblI9ZaeWiLoDuE36Zm8v03t+pwteGE2wBLKXGrRr5dKBtW1KRCjr25AliNoihTnUILnapkclLFxpwyQjsI0SIYSQ1mLWQGhDEaF8THqn3mTCff17q9kpv+UFCuG2MqPnZhsrcUn/J6Qg++kyvTbFEr4ihWAHCXKPS5D/i14ON7UTIkKBEfq6BBMvlmDOpzRe3r4pkP8r6xLg0ntWlSXefUq22WbQppCMwBolQgghrUUo0ZNsRcJdbEANSiH5KbYgt7wNlTOt53rp7ZkhYfg9m2IJlpQg/J3I4OKS68L0u+yEiEAWVp0lMuftISYplHuG9Ju062ZP0CRlE9YoEULaj1mzuiRc5UgJgv30qrW6Xrie19SHVbdLLndt6pNLpHH03bOjXkJ+bWPX6u/uG6R3Sp+N1wfyDnLeLazwAZnes7GNoFbpEf3s47fGTpDeqUfbWDKz+o/XbY7P0y/5runSNe4VCeecr1fFXW16OmFhf+nd7DwbIxmHNUqEkPYCbUfCVe/UCyVeUrqmXvhyGl5e9QnV8RKG/XpBPEsuvu+D0QKkOQQ/sMcdOsA0jJ418Ge54vaF7Qy1M2Fe7BZasJENWIKf2kCJINSyMALTe76v5QOvKPHpka7BM2X6+u+o0ZqmLuhIm55MGB5Fk9RZ0CgRQtqLvByiv/o3s7EUgi/qxe8a6eu/VXW2TSSNJEh8keynZe7Ev6iZqO9uhem00fSRVOLi2evYkKihOVvXUX7rK5TPmprGkejt+aoue76NWYJPFrd5es+p0tW9jMZ/rfqHSQNoHB6E2+jyw3QhQLIIjRIhpL0IZLoNjUCwjl7MP2JqO2iWGk+hcKyah6G9VQeypVwy+2obq4fxdmwpzLOBiDBWq4RXiYSr7GFjw9Pbs59u+0U2BpM1U5cvNSDfZeOXdJ5DVRtKPlxdcoXVNPwxmdZzi52DdBBso0QIaR/6+jfTC9rfbQy8KGFuA9MgV4JtNL6XTt8imhSjIFvIjKl32xhpFJfc8ykpBIfocf+sTYkI5UBT81Mrff1Pap4r2RhYWaZPLX/cv6//jzrPzjYW1frA0FTKzIHPmfGMqVeYMSEJ0CgRQtqHvv7P6IWxVFsRCl5L8WkbE7nm0QnyzltPasjrvdmCi+h773xG9t1mjk0hjcT0fSTTbAzH+ykJJq1n2v44YEyCEO9pG68zPKDjf+oyj0gu91fZddP/2LkiZg3gPWwTo4gSzltCerd8zcYi4uUBBPn1ZdrmaNhPSEPgrTdCSPuQC8p/3AVqlXzwQtMgPEgv0s9q7MUo0YJelxdY6BK9AC9qU0gjyQUn2FCEqQ2ac7yNRQThcZr+Af3cljCfRyBf1tTTpVB4VI3WD6KZlKghfskk4bOMmyTQ24P3vD0aRSyF7kVsiJCGQKNECGk+fQM7q0F5Qfr6n1NdJDPv+bidUh358F0bsoSr2ECJaT1X6gV0BbVQqFkqB7eHwvBB3Ya9bQppFNOmPKifR8nsRByhx3qEhveWQL4ns/rvMmWjKx/dEnPgScY0wsIJOj1qv2ReSjulvD8kQuqEt94IIc1nVv8/9eum9NQSCMNz1NB80cYqo+/OSRKMf8/GIgLZQaZNHdp4uK//NjVG0Tu9kgjDAV34L7r8dRp7ShZa5EVTI0Xqo6//QT3uG9gYuFimT/2CCeHWW07O1NDQW6M+5rad1z4JnUX29pxoY0PBi24HZQGZsWlyZ5SE1AGNEiGk+SQZpYgb5N23d0hsN4RHvbvWXELyj74q06fnbSpqp67Ub64dbQw8JAU5UmZMheEp0df/tl5sF7KxygjDN3SItjGzpRAeIrtt9rRJJ5XT1/8FPe6lJ8qA/woSYIzN4IYS5NaTINxXy8bwfV7lcmsOacNEyChBo0QIaT4z79lFL56/VuGFpOWE4V9k6Xd2KL7+oe+ePfWraXsN7WiMDm6rBHKzXmzvlt6eY+WS/p0kDIY+pRSGZ+gV9SrJy4PSVdhTl0WHlJbwcV3mYs0n9hqLYailxotE9PXfqMd/WxuDUbpKjdJONlYOOqicN/HHGjo4SoiBDiLR9xEhYwSNEiFk9Lhk4CNSkJP1m2dLmxIRhn/Qi+HueoH9mV5gD7epQ4kaaR+kX11oCPy1KLESwrNles+BMnPgQ7rc4aoZdkI6eBO96amZVM2QV5AoQfg5034sjb5+vDoEL7wtdTMQhidrufi2jREyJtAoEUJGl5tv7paXFvqTXhBRa1QiDM/StANtbHjCEGZq1WFNlU9Q2EqmbXanjelF+d6lRPJ4V9knNbO1NEXjwVL6jdgdzRA+LoXg0CG380jlxG+RVtrHUd/s1SUXbqILvGleaEvIGEOjRAgZfc6/eaIssJBeSINP2JQU1LBIsJqNlBNKr+R0GMo3NNYTJQ7hTZ2Ojg/L3/6exh//voTM6Z4gX5jynE3JFn2zt1CDuI5Ibi0x70YL1lUDg7fkj9MwesIer3H0tn2Imho8el87fQOo9bvRxiLCcHfN9w82RkhbQKNECBkbTH9G4U36NbSpTSknDPaU3ikXSt89a+mFfQ/9tipvX4QLelfXh00jX3Q/ICFqL6aollQDNqjTByQoHC/TN7/fzN/JRL1nf0ePS/pTgGWE98r0HhzLqH1ZLne6Hs+CfgbPR5+XeQ/buea9aMOBriCCIHriDYRyj5rWzW2MkLaARokQMnbMvHcjyeVv0K+iJW1KiYmyoOw4tdQVwKyBfXRY/jJTNATv7fmUjZE4f5i9nHQVjlGzUtktTUco96mh2dR8PkFBDae7JRkjDG+XXPhDmbbZtTalnKGvnFGC/WT6lNhLaQlpXdjhJCFk7EC/N4EcYGPlzHmivE+j6VMv0Atzea0S2jn1DfBt7kngNlt3eHPVJsm8P0+iHrVz+R1STRJADVWYu0YNUfI73Xp77lE3VT4tDPFOPkLaBholQsjYEj0JdWwU8VnZ77QwwnQ6GJa3NwrkmzKrfy8bI0UKMEhrRuEyLlOzcpJqH9XmMhgsL935JUUmLiwLLTJRDemyxZfEhlJ+mwxPAiYRBAfoZ9BnY+WE3cfpev5lY7jq/MmGCGkLeOuNENI8rhpYQN4fXEakaym9WIYSDD6e+M4u0Nf/iF5w17YxRQ3R9J5eGymBBteDXXiCrWQC0F6pt2f43p47Cbwc+O03X9PjuYBNUcK7NX5iYi/mafT19+syU21MvZdsoUbnOT3eRxtzFCcIemTalAEbK4HOQ4NVP69G63k1YrfbVELaAholQkhjQa/LhcIuemHeSb9iPmRTPcJX9IJ5twaukPfeuajYK/es/lN0/iNNGITyqvROHdp2CfTN3l6CMN4uZmW9CD9lw51NvD1XGP5HjWRS7dLw9A08oVeJ0vv0/B6y8eZ+ke+qOdrCxEEoP9XP7Os2Rkgm4K03Qkjj6Bs4Ugp53GY5KdkkgQBPpX1WdY4ssPAzapAOMsmFrgvNuEj4sg0MpXfKX3R4RBRRQvk9TZIPTGoZQ3syr4RAFrehiLndr9iQfXN/eI6NRQRheUeihGQAGiVCSGPoG/iBXlhRK1T590ogS+jgTJk1cEj0QtPwh3YKpg3/ZNT0qejFeyOj3qlso1RGUN5gOgz+aEPVEYZv2lDEhHmx25s5/fw8woDvYyOZg0aJEFI/ff27qbFJfo9aKM+o7tPQQ3rhLX/zf4nTNY+vyPSe72p4ZaPpPXj/1/BMm/KgESknDJ+3oYgg3F9mPYQOJasjCP5rQxGD4ao2FLU/k3BPG4sI5F4bIiQz0CgRQuonCKLbZ44wfEeFd7GtLL1TVzR98kyfuoH09iyo86IX7YRH+oNTZdbASuYWGm+j1UcQlLffMg2v37/fdB5ZDaGUfw5B0Ct9dy5u+ld6X87VePmTiYNBZT2gE9JGsDE3IaQ+TE3FnPI+j8JgS+mdcpeNJWMe6Q9+a2MRofxSTdVXbIzUCgxnKNfoN/x6NqVEGJ6hBufbakbLb6v5mI4iZS+ddxkJcnhZbSWcpnlW8aJiQtoDGiVCSP3M6s/r10mphnralJxejEMbSwe324Lg5zYWUchtHLVXInVx6cDaUgh/pp/LJ22KR/g/CXNHm1fExOmbvYcE4e9tTBnmfXtFwltles/WNkJIpqBRIoTUz6yB93U4MYoo4bwFpHdLpI1MX/8DapY2tDHUeBwnvT0JHVCSmoh3u+CDbgNE8JLaf0suGFRjtZt+FjubaY5Q/qpXiu1sLIHwOuku7C6f3/xVm0BIpqBRIoRUj3kLfXiwfoOso7Fl9YIb6gV2pWiiEoaHqdn5lY0Nz9A+fy7SZfewMdII+vrV6AQn6Oe1mU2pnLCAW6QvaOhIXX41DaNvq0VV/TrtTOnd7DzMRkhWoVEipFOZOXsHyYWnm3AhOFRmTKns1RKX9O8kofxRvz7SHwYJQzQCPkoNz8VRwgjMGkCtxm663BuSCw6UaVMviSaQhhJ14ZD8dGIiIZ5E/KWNlEC7tOnrz7MxQjINjRIhnYp/yysMH1RTs5EJj0TfwEP6zTG0kXASeKdYb893bGx4+u5eBR31SO8mz9oU0gwuvu+D0pX/loZQk1e6XeoThldLGJwoM6aiB3VCOhoaJUI6lVkD/9Dh+lFEHjKP71fCkHeyjUAo50rv1KHvBSNjyxW3LyxzJ+6nHxC6a+jWz7Rbw6+J5O6S6VOG7+yTkA6CRomQTuWSgWkShr824SA4pOLbXX0D03V4hn57zNfx8ZLvuka65i0mQdcKmh+eshr6hBRqKHp7drAxQghpG2iUCCGNY+Y9PWq6rlR9wKaUQP89vT2H2BhpNJfdv7QMzv+UHvvHhW/oJ6RhsGduQkjjmLFZv36rfEFDb0UJHkHwJRsijaav/0uSH3xRj/EFGrtN43izPyGkAbBGiRBSGXjEPJCP6tfGPAnDlyQM7ktt7Dtz9v9JUDhGL9zb2pSId9+eJPtuM8fGSCPo6z9Yj/MZNhYRym+kd+rBNkYIqQMaJULIyCRdjEEol+rwDL0o3xQleJx/80RZcKHv6NfMNzSGp6uOlelTjzPTSGPo6/+Cfi4X2ViJguysJvYKGyOE1AGNEiFZpZF93cR7zx5CeIUUgjP14nydTSDNZmb/NpILhhrUMPyS9PacaWOEkDphGyVCssbMgc+psXnOvKi2b+AJ+5RafQTDdC5pCD6n3yZ/0XWdI333rGUTSTNJ6jgyLOxPk0RIY6FRIiRrBHKCGpvoqbNAVlH1qXGKeuCulULhWNMuSeRFFcLXm/Q4geyvXyv9po0SaR59A4frZ1ze/isMD+frRAhpPLz1RkjWSO8Q8gbJhwfLbj2P23h99N2zo5oivO/tUzalRCg/ld6pX7cx0kj+MHs56Q7/qSG8by0ilN/r8d7LxgghDYQ1SoRkjuAYvXC+KmEYb5/0cckFt6iRasyj472bXaUX509LIdT8wvL3xAXSGDNGhtJVQOP4kkkSmaNpx9owIaTBsEaJkKzS17+ZnuFn6Gm+qU0pEYZfk96e02ysMfT176bDabrOh2R6z/ejRNJQLvn7ehJ2PWRjEaF8Uw3rKTZGCGkwNEqEZJlZDy0k4Zyz9UyfYVNK4PUlvT2H2hhpB/r6z5Mg2NfGlPARNaXr2gghpAnQKBHSCfQN/EDP9qFPSaHdUq5wkOy62RM2TloVNJDPhX+zMUv4RTVK59gIIaQJ0CgR0inM6t9LT/nfaAidP/o8LVHfO3+28fbikv6dpGBuMU5Q46CGL/ifpj4VKfiz9E55zMzX7szqv1z353M2hhrB2/Uz+4iNEUKaBI0SIZ3EzIEPSS48XU/96totXdL/UTUju+tyT0vv1ONtamswcmeYs/Sb7g8yredKm9B+oG+snKhR8igUdpUZm11mY4SQJsGn3gjpJMy72SZtraaoz6aUCIKfyqz+X9lYiUtmf0zC4GadfoAajuOkbwBPXbURwXTd/iuMoerr39smthc5+aoNRYTh1TRJhIwOrFEipFNJa7cUyn361fAjNRf/kiC/tRqkn9spEa3WZ0/fwM66H3gP3TJRwgiE4c+lt6fceLQyswb20eH5UcRSCLeVGT032xghpInQKBHSyaDdUihnqxkab1NGJpDpMm3qJTbWOqAjxnHhamqEVtHYSrpfn9b92iKaGCe8VQpdX5EZmz5gE1qXIbcWwwtles+eNkIIaTI0SoR0Omi3FMivVZvYlGEIj9SL9Kk20vr09W+nQ7xhH7UycZ6WINxLpvXcYuOtx6wB1HyVtxsr5DZuC4NHSEagUSKE6AX5ofESvv9jNRSH25ShtPNb6fsGttUdOK28ZgaEj0uY3056P/Rfm9BazOqfrV/TpYb3ofxSeqd+xcYIIaMAjRIhpMQls6dKobCHhtbSr4fFJQhf1IvzHVLo7pPdNsFj9+3LVQMLyPvh6Qm1S3+T6VM/asOtA3o6D4I/2BhM0qB+Y6+m24quDwghowSNEiGks5jVf4p+9R1pYxFheJH09sAgtg59A1foN/RONgaj9CvpnXqYjRFCRgl2D0AI6Sym93xDjVGppgYEwe6JXSOMFZcOrF1mkkAgQ7t0IAT0DRwuswZuUZ1sU0gDoVEihHQewX/3Ejz5VkZwqPT1/9hGxpY8Ovf00W2dPvV2GyGkRN/sLdRE/0xDW6u+pWV4f5NOGgaNEiGk85g+PS9hbn8Jw3/ZlIgg+Ib+Kj/GxsaSbe3YErA2iaQQLmsDEUHweRsiDYJGiRDSmeAdcKHsrmbpWZviOFb6BsbuRbPRbbctbQztp+bJRLnAxggpJyz8x4YcH7Zj0iBolAghncuMnnslzH1BQ29FCZZA9pe+/hvl4v7VbMrokZfyF90GcrPsOPU9GyOknBmbPaTDp6OIYRG55J6S0SZ1Q6NECOlsZky5VQrhbhKGL9uUiCDYVr8hb5KZ93zcpowOgXzIhiJCuduGCEkhvMsGIgrBJ2yINAAaJUIImdFzjRqlbVXlF5wgWEl1ko2NFvFbJ3fYMSFp3GTHlgA90pMGQaNECCEAtzCCSR9VsxTvOmBNG2o+l92/tA5L6zOdTP43dhEkJEY+vMaGItDGre9uvPOQNAAaJUIIcUxff5709qCBd6k/Grw2ZLQozN/YhiICuc88oUfIcOy2Gdoo/S2KOHLZbdQ9c/YO0jfwtPT1PyOzBg6xqU2DRokQQuL09nxbhysb9U79nkkbDQqyng1FhOHDNkTI8ITydxuyBFNsIHvkCj/QHxErSBAsr7HT5ZLZH4smNAcaJUIISQLvVBvt96oFso4NRQTyiA0RMjw5GbAhS9BjA9kj1DPDJywcaENNgUaJEEJahVA2t6GIUFijRCqj0HWnDTk2sOPsEYbH25AlWNcGmgKNEiGEtAJ9/btKEGxoYxHBpFi7E0JSeO+NV20oIpBxNpQ9cmH5k6ChfMCGmgKNEiGEtAZH27ElnCXT13/HRggZngVfnm9DEaF021D2CPNv2pAlnGQDTYFGiRBCWoKg/Om2UK60IUJGxjwdGRZsDDVK3TJrVpeNkToIQsWGCSGEjBFXP/+mHHLvU1LQr+TvrPMBOWS1pewUQipjwmX3yrxC6ZI+Z5dNZUKuvN1zFng/X5AF/nifjYks0JWT93bZtGk7SqNECCGEZIAF1Ty8pybC8fbOm8hC3e1/4+iyZ143PyLeGSzISguMl2UndsstL5fuSo9XM6gGceURn1I9/+aJMmnRtSQYnCPB/x6rtI8yGiVCCCEkAyx2xf3y5vzStf/1z20si41r/7tvG1z/T3nozfdtbBhMT/bhg1IIDpUZU0vvSLxk9lQJCyeo5fmkTdF5w3kSBLdq6CI1WBdEicmwjRIhhBBSA4+/M1e2v+0/ssVN/5Jrno+1Lx4DxsVus833bsNd8szrsvRVD8hyf3pQrnzuDZs6tlS6TRUbFbTLkmBTNUvftSkwSRuqSZpZZpJAEIzXIV54fb709Z9v0lKgUSKEEEJq4Kh/PCvXvfCW3P3qu7LfwJM2tTnc8vLbMu2uJ2TrW/4t2/7tUZlx9xNy4iPPm3U7xgXpRun7Dz0nL88dlOfnzJfj//m8TW0Mr8/Lm9tiT7w716wDbYgq4ZiHS9u0X/+TJpzED9ZfTpafVEVvB37XCIXCsZqwmo0lEwT7yKyBS21sCLz1RkgChUJB3n33XXn77bcFp8jyy6On/PYG+xHoFynG2K933nlHJk+eLJMmNfXJ2kTmzJkjr776qnR3d8vSSy9ttmusefPNN+X++++XcePGyUYbbSQLLrignRIxb948GT8eP0KTccc3K7z1lhqAu++WhRdeWDbeeOMxKSetzobX/1P+4d0Sum2bteTDSy5kY43j1EdflCMfeMbGhrLBopNkv1WWlJ/qfE+/N8+mijz5mQ1Mmx4w7tJ7ZdC73L//+U1kYlepriSv097Ph8ZcoRgPd8sOxui7Dz0rd7zyjjyl63vDu93n+MDEcXLGlJVkp+UWsylDWfe6h+WRt+bYmMjhaywtP9t4RRsbCtaL9T313lzZ8Y7HbaolDF/WDV9KA4/bW2/XmfS+/rc13ftQdHooBU1bwyaUCIM9pXfKhTZWhEaJkBT+8pe/yEknnSQrr7yy/PjHP5Zll13WTmlvXn75ZTn++OPlwQcflEMOOUR6e3vtlNEDF+ATTjhBurq65Nhjj5VNNtnEThk7fvvb38q3vvUtYwp+97vfGQMXxzdDg4ODZvtHyxzBvOdyjbsJ4PJLM3hPP/207LrrrvLaa6/JqaeeKjvuuKNJnz9/vjGTrcpj78yVy599Q259+W15dd6gjNd9RG1Ez+ILyvQVJstysZoJ1ITAXKyzyESbEvFn+xQiDMTpmyZf8HvvfkJmPf26jYn8Wuf7UuxpxZtfelsu+N+r0v/6uzJHjcicfEHmqhlBo+ulJnSbZT77gUXt3EPp0/xRe1QJS2p+r3i1Mo9/en1ZdcEJJozbW6i5cVzzkdXNcULbn/+9O69sGlhFl8O2bb/sIjYlAm2gdr7zcbNfI7HJYgvIvduVv5XH5+R/vSDf/sezNhZx17ZrG0MHLahGbm39XBbuHmraFr78PvPZFRk/ZxGZt9hc82Jrx1UDC8gcKVW56W80mT41cvx9s7dQB3SShrY2cRDKtdI79dM2VoRGiZAEcFr86Ec/km9/+9uy2GKLyW233Sbrr7++ndrePProo7LLLrvIQw89JN///vfluOOOs1NGj8suu0x23313U6M0c+ZM+exnP2unjA1z586V7bffXm655Rb56le/akxcvEbJBybj6quvlnvvvVeWWWYZ2XPPPWWhhWqvSUB+DzzwgKnR+s9//iPvv/++TJgwQVZddVXZbLPNTA1XxYbs7bNsYCi4FD74qMj1179qTNIuu0yW1ZeJpsWZO35vOeCAA+TCCy+UPfbYw/xoWGGFFRpu2BoJajl++MgLNpbM55ZfTD6y5EJGMAon6cUabLjoJPnDh1aR9RaJrqNTbnhE7n39PRNeWg3IiztuZMI+Rz/0nJzwSOk21vfW+YC5TQRgiA4YeFIueuo1E09jo8Umyf3bpb+B49O3PSbXvlBb+6fZH19HNp28gAlvdP0/5cFKGkR7wCRd+5HyipcDZz8pZz/xio0ND9aNbRiO+HatuMD4sloxACN5xJrLyLZLL2xTRFa4+kF59v0yc5f81NusgXKPk+9aRRZd8Hl5842lJRd8QE+s0suEw/Ap6e3By7DLYBslQhLARQkXcYALYNJtB1wwcAsLt5DaAfebCLUgjny+oqdjGw5qJHB8sS2tUDvx17/+VQYGBmSJJZaQGTNmFE0Sao3iwGB+/etfly996UvGZP7mN7+Rl156yU6tnscff9wYctTe7LfffsaQ/OxnPzNG/aCDDjKG8uyzz5Y33qikAa5+xu8clKjXVb/57UGyzz4HyXe+8x058cSjZPbs5HmhCRPGm2MxceJEuemmm+SRR6L387aqSfraA8+MaJLAFWqOvq7zbnbjv4omCeBifczDJdMz6LXveWnuoFycYHhQI+Tjt7H56v3PjGiSAE5Lv52Rz9uD+SEm6fyeD8qNW68pv9xkRdl1hck2NRmYPdSMAdQ2VYt/a86BGq446McINXKohcIxwXIrTBovx667nPzuyVfluXJDU8a31i6vqY+bJIA+xj72t0fle2pMHYvEbw0WCuVVX0VCPNlWIpe/Td55a4505Z4S3yRFJHYvQKNEMstIlaW4hVApaJ8S58YbbzQ1MwceeKC52DUCmC8HwvVU+CZd5EcLfz/GApgKmIFtttnGmI7hQDm48sorTZutrbfe2tTeOJxZBtinvr4+Yx6Q53PPRV/aqI2qBxgj3Np94oknZI011jC3uGCa3O3If/7zn6aWC9tYK/epHzjgyyKHHQajhx8C2G/sk50hhY9+9KOmRgv7evPNN9e9r83i/P+9Kqc9+qKN1Q7667nR3lLaxqu9AL9JqEVZZmK5yX9pbvSdAjP2mydeNuHhQE0VDBqemtvh9sfKHu0H/a9FNVoO1Hrt88ElTM3Kl1dfWi7ZYlXTDgk1WfFtcaDWCyw+fnijhAfm0OcS5kP7pA8tsaAcrfn6DLz+nrzlbSNuaT6/w4by7uc3kX9+cj154tPry0s7bmTaP53bs7LseMdjsvc9/5ON/vpPcxs0ic0WT6+5jYPG6/iMgGt7VSQXbGpD5YRyhQ1FBLKCDSUQxF8sbKBRIpkFJmM4o1FNTYafjwv/73//MzURf/zjH+W990pfaPUYFP/XOsKo2UpadyX4F/lmkmQ4G1nrUMvxRGPxu+66y9xKu+eee8ryiJtetMVBbRLYfPPNTQ1KnP/+97/GEOMW28MPP2zMzAYbRC9nxy2yWoH5euWVV2SLLbaQn/zkJ3Lttdea9lG///3v5aqrrjI1VqjRxK24X/3qV/Lkk9U9WQUf9LM+kU9/WrScikyZIrLddtG0SkDNWk9PjwnfeeedddWcNZMr1Zj4rLbQBPnJRiuYxtU3bb2mnLD+chVfkF0NzGFqRHz+9vLbQ7oAgNHxcTVKM58ur0naQk3H5VuuJo99an159rMbyqs7bSRXf3h1U1PlQK3JT/5dbvb8XrbBBxKe/IJhwO2+Zz+7QWINENpYATSujrOvmq4rtlrNtGXK7zrFdFCJbUP/S2gr5G7bOZ6P1QxttNgCsmyKQfvTc6VjhXZTZz6ebBxX188q3ikmzNoOyy06pN0YcJ/PxrruMkJJbugYdt1kQ8MThjepifqhjZVBo0QyizMaABdOn2oMB/Av/C5P/9acP70WgzLc9mB9robGrbuViBvORtcmVXo8/WOIC7y7XbrooouW5RF/cu3222835geNtzfdNPlHKW49nXvuubLaaqvJL37xCznttNOMqQL1mEIsi3ZiaEiO23nIH9sLs4b2QEcddZR88pNR9y8wSWiAXw3P6Y//Y49F+Rf52tf0Aj5TZJ997MQRcIcTNVso41g3bju2Ik+/X25+f7fZB+Xray5jnkBDzdB31/mA/P1ja8sDn1jXGKidl09/EgtPVQGYrd1XWtyEHVd5F38wJ1bWnbF56M3y75tj11vOtI1CnmhMDiPgNwJ3XBXrS8iZHId+o9nQUNBeB+2iHEvoOmDkjl43qhVaecGhT2z+dOMVTSN11+B7JNADto9/ezLO4uPLb42hkX0afm/iACbyqq1WN7VUfR9a1aZGoF0ZmBIzcXpokk/eGZs+oIX5chuLQMeUYfi8Sk+o8GbVwdLb8zGZPrX8A7bQKJFMghoEfKnjdsELL7xgLjy4kKKxLBoSn3HGGWaMhs2VgF/0DtRAoBEvahkAaihQa/GPf/xDZs+ebdpyVHuLArUyuFjj9gouyOedd57ZdjyiDdzFGPv17LPPyg033GDW9frrQ79sAfYVDdBR44XtHQk8Go8aGKwXwnKPPfaYnToUHDfk79qtgH/961/mmJ555plmjMbJtZomV0uFMQwCtsffNtzqxDY7sL8wkbjlhltVf/vb34rTcdvovvvuM0/a4TPyjwfy//vf/27GH/jAB1Ib7MPAwNDMmjVLDjvsMFlxxRWLhstta63AnOGWWxx81ljHhz/8YWP0UGuZ9nmnMVmvVQcfLHLBBSLHHKm/3hdEuzQ7cQScJ4dRQoN1rBufeSvyTKxdy4qThpoCgFtXMFBrLzy0psLx33dL5268DdDlz5Yf/9u812gA5A9ei91mWidhfa5mxAe34fxH+NH2x+eN+em1q4++XW7OVlVThgbobh8+GLtV5W6xVcMyE8t/tKANVRrr2kbxDtcwPg72N+63fDs2fcXJpoG3A10RoKPKzYfUEAb/J333Jr8gMZc73YYi0DFlGByi5mgjmd6zreo3dkoiNEokk8DY/PSnPzVPMuHWGMzSN77xDdP2Y9q0aXLooYea8Oc//3n5wx/+YJdKx9XkIF80ssWtl1/+8pcmDXzzm9+UnXbaybRZ2m233YwhGwlnInA744c//KFZbvr06WbbDtar22c+8xnZe++9TdsVBy6YMEnYB6wvzejhdg7mwf796U9/sqklXA0LxrjthNqMz33uc7L//vsbYdkvf/nLpiYlCTwJte222xpTB+OBNjvYfhxTd2y/8IUvmJoX32RWapxQS4XPDLejcEyxPf624Sk5HHOYRR8YqJ133tk8rdXf32/2D8bqU5/6lNmmj33sY/Lzn//czh21ZYKJAuuuu655wjEJtNXBbTB3uw374falVjM4En6je6wDpsl9bpWCS8nJh4vstJmIa+la7ebCJKGLDIDbzehfrNVATY3PGSm3eRw3DPNou1/zgVog/5YVbpVdatvIgNtfKTdKrg+leFujrlhN8P1vvJfaZuf+N0rnywoxc4Nao7Q6nHP/W/5QyYdiRiJ+jCZ1lW9TJcQf03/6vfQfCfEaH5jAssf5LfHbi6A7VnMV75rhWjWZuOUYvzUoQbizDZUzbcqNeuDKO5QMwsNsaERolEgmwa9x9BfkanvwhBLaeOBLHrdM0FcObs+gFgcX3IsvvtjUSqTh2q3gQoWLKW6PuMfBYaLQceMCCyxgbvfgwuKmDQdqibBOXLjRmPeZZ54x5gP9GsFkrLPOOqadCtrZ+OBJNdSWoPGx3/bGBzVREOZxtVI+rp0Oagiw/2gXs+SSS8qHPvQhYxiQ73XXXWcaESeZJfStg3lQe/Pd737X9IWEmi60tcHxRZ9TmHbiiSea/cN2gJFuUznTAaN3zDHHmP6eYIbwNBoaZsP4rrLKKqa266yzzjJPheEY+bcksR/4vPBZYRuxTnxe+NwwDR0ous8aTyziyUWAWqKk9kljhdsndBeA44K2UKuvvrpJG01Qltdee20Tfuqpp+T558t7dcatkGX/9KAsc9UDxkSgU8DRZpdYzQ+eZsOTbUnbgobW/a+Vmz2/oTMaK/uPncfzdrffUGt0W8wouQbga8VqkOJPv90Ta6Tt88+3SkZpDTU3fm0Kbgt+afZTpnYGYfTHBNAfUbxd1HbLlD8EtmZsm7CPwz2NlgTMlt8O6pn355nXuCSR1HbpyfeGzptklOI9jH8m1s/U3fbzi6dLWNjehoaSC2O1SsG2csnANBsbFholkklwYXEXZTSMveaaa8zTSn/+85+NOUC7lFNOOcW0S8EFHrVDGIMkw+QMCWo6YCzQGSVqfbAOXJBhBq6//nqTP2pZ1lprreJFfzhQ64HbSWhDhc4O8VQV2qtccMEFxgCgPQyeOvKBUcI2Ypy2DqS7ab6JcLhjAxOEGpUjjjhCLr30UnNsMIZBgpHErapzzjlniNnCupEH5sc2YxtxnJEfbhliGdxOwu0a7F+lTwW67brooovMMcBx+eIXvyhXXHGFaeiMzxE1hCeffLIxpDBRqM1yt0HXW289My+Wd+2NUPvklkMeX/va14qfMUyIu/DDDCR99mMJzDOMPpgyZYqstNJKJjyawKDBnALcBnVP+zmOffg5eXHOfFPbgldsLH7l/bLSn/8he97zXznriVeGbZvSKL66xtJDXnGBXqqxLXis/Lh/Pi+3vvyOecT/+7q9Pl9YafEhtS3/ead0GwuNin1+/+Srxmjd8GJ5rRRqN9yTWL0rlpsrPJGHxtowNnhy7JePpTeKj9dSxdtJ4Wk6PPa/sh7jiZfdK0tc+cCQThvRR1R8u3Ebzzdd4Ioa3vm25RLlNVV/j5lOBxpoo52UT5IxSzrlYm27Zd1Yo25XMzWko84g2FkuerD84Dum9dyiK+uzsYhCeJ5cMvtjNpYKjRLJLK7tCAwD2pWgBgIXTxgbmADUMkEAt5/uuOMOE04yFv6TTYsssoipfUBjW8dyyy1nhA4CkY51uIt+Es7E4KID04Eaj+22287k7cBrU3Aba7iOLtPW4cxUGm4fsT7U3OC2EmqwsN0Y/+AHP5BP41EpBaYy3jYFNWfYB9TQ4ZYd+vlBo2PUyGAabhviVidqcWCSYCxBJUYE88N0odYLt8zQ+SNueeEzwHbjoo1bhTCqWB/aI7laL8SXWmopUyuGWj6AzxptjNZcc01zCwk1Su64oWbMr1FK+uzHkssvv9y09cL24nbvWPUOj/KJHwk4VpU8+Ya+cC588jU5aPaTssa1D8mmf33EvIKj1o4TRwK3tn66UfKrL2566W1j5vCOtC/8/b9lrxwBe668xJD2O+ip2vGJZRaR9W3bI8eP//2ieQrOZ+ulSt0JwHz5oNdrPP4PY9OjJme4N+H/Ldbu6RtrLTP0UXiPeHsosO8qS9pQORvF9iNes1YJ8dtds1PaHgF0pumT9KqT+It8QfwWX/ypuHetUcKTjK5dWJHuOcm330AQ/MqGIvBqk0I4S2b1Hy+X/H09mypySf9O0tf/oPQN3CEz792IRolkFlwgAW7ZoA1Q0nu60CYIF3OYKlxwq6lRQC0TzAIuYq7GqVLchXrxxRc3hgA1NqiNqmT9/jzOcA3HcDVKuM2H2qP4LScsgzY9MFKoafOftsL2uvVuuOGGpr8i14bF3zbcJkMtDeZFQ3G0VRrOiLhlb731VrM+bBPaJyW9SgSgrRJuRSF/1CL5YBudUR5unbj15j67Sm6XjiZoZA5zj/2ASYJGlXfOU51rhGODMoMavviDCgesmnxR9rnvjffM+8rQy/SCf7zP9Mb8+TsfN51E/uI/L5lHyR/2bjnVAhr9oiPGpEfK00Bvz+h9Ov5EWPx2EsyKD24xxm+7bb1Uqfyg5ubQ1ZPbFcf5mm6DfzsLjbLvfLWUN24LXrrFquYVLCOBThjP2HQl89h/EvFH6t0TftUwdXL5duCt/76x9Il3HvlwgkHsTjg9F401Mo93Lun35fTZWM2Zfrt9T664vbwTLMf0qbfrF035qwgCUVcbHC1h10Nqjp5U0/SYhMEV+sWxgU7bUnL5H9AokUyCL3X3hQ4zkgYutO4ijzZNfn9IowHaSqFNDy72aHyOW2AwFfHuDGqhEtP1wQ9+0IaGgpostLvCtvlPmMFwosYKoO2QX7Pmgxod3B4DMFsjPQnoDA1qlGAOcJsJbabSwHpRgwdQ0+HaXVUD9g3HCetOMtJjBdpood0antyEUcTt3lGvTXr7gKJQm4faRhyv+OeI/obQFw+erkI7mPiv/zh4FBwNe9G2CbekDr//adMx4frX/dO8jwwX3lpBR4zoOwlPtg1p6BsDxuqUDaOXXa+5ULm5etS79Qb2WnkJ+XTsNk+8ZupjS5e3CfrVJisVH81P40A1madutILsFrtVF38iDibpno+tbUwQjjNqUdDIvNueMzjm31xrWdPh48Gxd8357K0Gyn+SLt5uqRLiT5vBVK5yzT/kIzf/W7a79T/ms0Sv55PUEP8nZjive3Foe8mkGqW4McJ++mYST8q9b7sUOHS12A+pQFaRuRMvlEv6P2pTyuntOVZCOdHGygmClXSwmo1ZgkVolEhmcRde/3aWw5kIzINbNQC3YZwBiFOJ6agFbBseO8dTVXgCC22dUHOwzz77mBompOHilMRI2+SmJ83nTMVwhgzGwZlMHJskUBuTlgdqIXD7EGD5SrtMcE/54cKc9hSaA7fRAIxc/GmsSj6zkW5RjiauBgy1i+itG7fdUKuG26JoJA/GZFtz0bu60sohwFNJ6CX639uvZzotRCePx6hJ+Fisd+uRwC0q1DDVA9rFoK8kvGMMHTyeOWUl084HPVd/cMHx5g31qHlC/zzuaTS8eNXnX94b7R2YP63Tyj1WXjzRIB6/3nLy280+aNpA4WKPfohwwcfb/s/r+aD8Zkr0I+2Ty5absP+m1NDABOE4oz+o53bYUObvuqm8stNG5pj/SE1fvE1QHHTu+Dc1kjNWXFy+qCYNxqtacAyPir12BKBt1Q1qhFA7iFt6fp9ODryqxRkcBz4D3N50fEqPxVDrNLSrBLxgGKBfKvSTVUYgO0oY3CyzBv4hfffsaVNL9E79npqlr6pGvhUQys9plEgmgQFyt96SahrcBQfzuVsvMAbV9NbdKLbaaivT+Bm3B9FnDUwFGkjjcXs08EaD3mpxt9ZA0sXV1Z7gEfS0iy+OhWubFb9IOhMK0o4Z8nXbgQt+tRd5rHu4WiJMd0YpzeCOhNsvbFstNVKNBMcRZg81i7/+9a+NUUQNI0wzwDY6MzXawOTiWOHzdGViOPD0FzpZvEENyWs7bSwXbb6KHLDKksO2tXEkvSm+VmBQDlp1KblQ1/+CGov/fnoD+dnGK5a9XBWsFzNKqPGK336DEbru/9YY0oAYt9l+tEH6WzFQGwXDBlMzd5dNzes9HlSj498eQ+NvzAfQt1H8cfjhGMkcxZk6eQG5+EOryFnWpNXCSRssP7QhdQXsqPs1KWZ4AGokD1ETCF2u4ST8d9WhEmqy16Elel7XE+QuG/VZX4Lc7xIbePdO/blMmLO4LneICo0cS+44DN9Tg/R7/aLr0fkup1EimQQXHNd/Dy44wL/Yuws9LjzuiS4YK7/vmkrBBcw3DpXiGwc0NsaLUdHWBi9ZxS0n3E5CGxXXTiUOzIF77D4O9jVubnx8c5i27TAO7oW/rmYI+NsS33c/jIurq4lCzZkzriOBR/gBaqqGMwaYjltUwD327/CXG+44oDbRtc9KO5bNwn3+bowyixpFdImA43jkkUea2kbfZA5n5Au1ecWKwPHENsAo+Sa8EnBBQ+Pms6eubN5LhneB3bHtWqb3bNS4wEDBuKCmYsslFpLjNG20QTsgPCnmg04N48DE/OnDq5vXkZysZuHnaroe/uS6plajXlDz9JQen4c+ud6Qp+ZaERyHH2+4gnk9Sxp4MS5qr1B7Bl2ZYoJgnk7fdCWjCQm34sAM75gMud0GBid8Rs3NVTZWzvj3kwvV5z78tvT2nGF65RZZVsLBVSWct4QEkyarQdpLpk0x7zaiUSKZBBcXZwZwsY9/wbsLOvrjcY8746knZ6riJF1sXR4Yx2/7VIJvKhxol4POEtGv0f/93/+ZNNyCc4YFYDlcMHHhSjMSMHzDGQS3btzaSwNthdBmC2bKmQmAfJOOZRyYGNcL9nDHNo57BB5dC7jH/pNAmzLXpQOWQf7uM/drPeLHyD8uaIPlzMdwx6sZuOPmxujIFEIcHWuiNtEdd6Q5OeLbm6ulIib5oxuCa/QOwzvS7dCRwNvlYYjwtBna8MBA4VYYantgoOJPSo0W6FzSx70qIwnMi7fef2WNpRtaA4baqXg3B60MGrnfue3a5sW4f/voWvKXj6xhTCRqEtEr+NOf3cDUXqH2LK2BeaXAQN+/3bpGv9gk4QnH3Td8Xc3NTmqWPl9mmEL5pUzb/GEbSwevL+n90H+ld8vXZPr6ZdXLNEokk8AouIsKHv2fiZdcWfwLDEwIeoDGxRJdByT9Wna/5uOgDQ6WQ82Jq71Kmhc1FTBklbxKxIE+iLbccksThuHwe7fG4/EwL1iv3wO4MwmoicIrWgC2z5kG/yLrzAH6F8LTfkkm4eqrrzbrRk3Q1KlTbWrpog3wKhf0++TftnLH4MYbbyw+LYf9qbS2Dg3c0XAZnwv6kkozg+hyAI2d0R0BOuoEfu2he9cbzJ7fjsr/jNGY3bXDqvY9atWAzwa3UCGE/XKCMG63oTYJtZvo9gAdeOKR/OFw+zE4WJAn//e0Gv4X9VhVZ/bClNn9ZNS3ouzimKJhedpTiO1O74rlD33c89q7wz7GT0qgc8n/W2oh+eSyixgTibZp8RcGNwKY6BGNdO/Uy41hGj9nEVnq7XEa/oqdUjM0SiST4LaUa4eDCy763UEtDS7o7gKDzgfxXjKACzku0NUAA4GLMfLEo9zOqOCijDAu8Li44BUp6A9ojz32GNLL9qxZs0x7pPhtH/yCd+9Rw1N5/qPreNLLXazwbjj3Cg6YBFzQsK/ohRxgX30TEwdGAx0w4jUfvllCp5Pu1S54ezw6cnTAZLl9RU0a+jlC+ypX6wUThb5/cAsRjaxhetBY3X0eacAwQFgf3m8G8M44dDwZB51aYh9hCpE3uiIAbrtQU+QMEMwJemB3uHkAbr25xv7oXLNZnH/++WYb8UoamEscI2eW0EEpGmzDJKG7BtyCxTbBCEMj3YL861+vl1123UV23HEH05t6sq330Blc5Z7n18pwJQGT38lHHU0C3OJMe8qx3UFNTvzJtrTOFEkbgNtq22xTOtnrQU9WQjLHyy+/HO6www74ng/1Qh2qoTFhNSyhXpTCQw45JFxmmWVMGqadd955oRoFI8dJJ51kpi+//PKhXkRtalic56mnngrXX399M4/++jd5HnXUUeHnP//58MEHHzTz6EUu/NznPmfmgY4//niT7jj44INN+kc+8pHwRz/6UXjFFVeYbZk2bZpJV3MR/uxnP7NzlzjmmGOKea699tomn8MPPzxcc801TdqUKVPCVVZZJdQLstkPn0cffdRstxoeM9/EiRNDvTCHu+66a3jKKaeEBx54YLjwwgubfJCHmjG7ZIRetMMjjjjCTMexmzx5cqiGLNxqq63CY4891uwjtgnT1bwNWT9QAxSq0TTrvfrqq21qib/85S+hmleTB47BdtttF373u981+eNzXWKJJcy0DTbYYMj2OU499VSz/5hv6tSpZrv23HNPM1YDYuZRg1r8fLbYYotQjZdJj/Pvf//bfLZqdkM1O+G+++5bPNbYh1122SU84IADzHTM99hjj9klI7BezIt9VnNsU8PwiSeeKOaDY7XOOuuEavzMsYS23HJLI2zb5ptvbspWf3+/XTripJNONsurRdXwj8L8c/q1rpprdcwxEu67j4T77Sfh/vtLuM02op95JPVuJm2vvUTLkIS3o5cZu7zTY4+tE2600UZmHdiP9957z645e3zvH8+GMmugqEPvfdJOIa2Ols/mYddBSKbwjdIXvvCF8He/+525CCHuCxdjTMPFP85pp51m5oFRwgXN4RsqmBr9hV2WJwyYu5gh30MPPdSkw0ycffbZJt1xySWXhCuvvHLZ8k4weDBEb775pp27xDPPPGMu2AsttFDZMojvtdde4b333htuvfXWxihgP3ywLIwS5j3nnHPMdGyDMxVOMFEwIfFjgzjMFObBRfyMM84wF3Hsn7/8SiutFJ5wwgmJ23/VVVcZM7bYYouF1113nU0tB2Zpxx13NEbOzxfCurbffvvwrrvusnMPBYYQhhOG0F92//33Lxol4EzncsstF86ePdumlnP55ZcXDSEMDQQDN2HCBCNsozPjKC833XSTXTLCGSWsA/vlwPrWXXddc+yRH/LFfFiPL0xDOo4ptgW4MnjyyT8y00Ry4YUX/iGc45mcV1RbbSXhkkuW9h9aYnGUL6wnmobxZE077bTSsk633LJOuPTSSxuT94tf/MKsM6tc/szrZUZpsxsesVNIq6PlumkEzV4BIWMB2tbspz+h8eZ8vGAWb7vHrSy0a0EjZdw+Qq/RaHuDd2jphcrcetKLks1BzC0t3BbDbS686gS32RxuXtzGQU/SeIUG+v/B7R487o/3i7mnsLBe5IPl0RO4e28WwK0VvDwWrwlBGxncysL68DqUT3ziE+adcf56fdBuCX3t4NUraPiMJ9Nwy8q9SgTvO8PtJKzTvfcMYJ24FfTiiy+KXsDNrRS043LttXDbB68MwS0ttOHxjwnAvqM3b7wfD/Og/RfaAeFWppoTczsMtzJxHHAbzTVI9sE71nB7D+2W8A4+14A7Dl7CijZUmB+3f7BubC96BEe7JNehZRrYH7TDwq03vHoD61EDXdaRJT47HCPcOsRtMJSbOGg0jrKD/cTxQHnxwXapgTRhfA5oX+ZuUSFflEG8CxDlArd7MQ9AY/obbrjB3B50bcnwlQz568DtN5QDtFv6+Mc/Xrz1ivkOPvgQOeusM7Usby4XXHC+rLf4umYawEs2/jZbt+EVPZZPi0xeTO2UbSqG7PHQILoRQ/Mx3P3dfHORLbV4Yk9ck+JfXrqOft7/NucLziN0YZFV8L46vNzX593PbzKkDx/Seuj5Un5SNhIYJUKyBmqUent7za9n1Cjl83k7pXVR42NDlTNv3jxTw6MXaptSGUnHA3khH9yOGi4/TPNrlHCsfZDPSCCPeE1VJWC7K8nfzxvLQK4Wya3b7SNuoar5MPujhjh139PSfZL2CbcZUeOEGimEG4HbFjW44QorrBh2d40Pf/mL00164Tkxcrfg3rdh3IZD3I2heV4YetOOXfprqr33jmpi1UyGasjNerPMilc/WFar9OS7pdpH0rpoGW0atMkkk+DHhXvSSS9eZtzqJNW8jARqxrq7u8tqHyohXksEkBfyQSP14fJz8wDUCPmNowHyGQnkge0G+I7TC3yi4t9/2O5K8nd5AywDjbeNyd263T6i6wLUfgHUXrlG9HGGOyYOf70AXU/gqUCUxS9+8YsNe18btgXH5rzzzpNnnnna5Pv5XXaJtnHhsyWvyqkQnmDH42NjaJwdv2vHk1Svjj9b5tn4f54+W+64Y745fnhpc71dA7QD6JDRgcf1K+kkk2QbGiWSSfDFnre9Nft96pDG4AwMjnEtBs8HF3dnZuKqxJw0gr322svcLoRJwpOJjfqBitt66OIAt+K+/OUvDzFS9YAnFXELdaWVVpYjv3GkfOAD9jbkggdIlyq0ChZS6Vh0DCFt3vh9VPua+Ptde8iEifuY8DjV4ovvL3Pm7mziN9zwkuna4iMf+UixX6+4Mc4ap2y4gnmlBvp6Ondq7b1Xk+xAo0QyCS6wrgYBv+ZH64LbKTgTilqf0e7RuhmgywW0XYJBQrcIrrf2ekEbq2222cZ0n4Caq0aC9ldoL3TKKafIFltsrmU8SsfYl0tzIJzLlfoZmzRpYtHAod0b2rChfR0MEtq5AXRvseaaa5pwpf1htSt47QleVYLOL7fz3kFGOhcaJZJJ0I8O+h9Cg9p11lmneFEgjQEN0tEgGQZjpI4R24WDDjpIDjvsMNl8882H7XuqGo466ijT8ebWW29tU+oHZg5y/XJNnz7NTqmc7m707p6Tt9+O+glyt6dhgiD8yIBg8o4++mjT6N/Bc4l0GnzqjWQS3B7A01d4+g1PCGXlYt4q4Ng+//zz5riO9ORZO4Gvw042AqghxP7TDJF2Q8ts0wotjRIhhBBC2ppmGiXeeiOEEEIISYFGiRBCCCEkBRolQgghhJAUaJQIIYQQQlKgUSKEEEIISYFGiRBCCCEkBRolQgghhJAUaJQIIYQQQlKgUSKEEEIISYFGiRBCCCEkBRolQgghhJAUaJQIIYQQQlKgUSKEEEIISYFGiRBCCCEkhSBUbDjTFAoFueOOO4zy+byJgw7ZfUIIIR1AEARm7K5tq666qnzmM5+RyZMnm3hW0f2OdrwJdIxReuaZZ2TPPfeUW265xaYQQggh2WbRRReVK6+8Urbeemubkk1olBrAo48+KltttZXMnTtXdt99d1lsscXsFEIIIaT9weUcmjdvnolfffXV8thjj8k111wjn/rUp2TOnDkyYcKEYq1TlqBRagAPPfSQbLvttjJp0iS56667ZLnllrNTCCGEkGyB5iUHHnignHvuuXLVVVfJDjvsYKdkk2YapY5pzI1jCA0ODsr8+fNtKiGEEEJIOh311FuHVJ4RQgghpEGwewBCCCGEkBRolAghhBBCUqBRIoQQQghJgUaJEEIIISQFGiVCCCGEkBRolAghhBBCUqBRIoQQQghJgUYpU6CfKPYVRQgh7YP73uZ3d6tCo1QvxfLtF/aCKm/HfnxQhV7BMfanx/HzSZqehMsb0rxdFmVCfjofxonTW1jmeKXJHSeMk6anyS2HsDt2tch9nv5n4KePtF3x5UZbKeXBkTQNGhWwIhw/iuoU4TsB41E7ycgIdMy73h5++GHZZpttZNy4cXLnnXfKyiuvbKfURl4LMVSwX+SBLdSlIYRUvH4mmie06YFJy+lfYIQwQm6+0vJuiHlKr7GJpiKfLrNcWLwgR9MKJi+ku3U7XN7ROuvFbVG07cn5ubW7tQ4lOh7+fI5S/riYYx/LKeXnH2c/hxKlvPzlom3Gpxgdm+qJPn+Xa7QVJcrXNjy1rb8RhNKtwy5VtA+OaMvdPpT2w23pOE3Dks3APxqlNadTyTyEtDLxb656yzTf9dY4aJRqAJftl2WOPF14Sd4ovKuxnIwLccnQC3Yueqec5GB+cAEPZc7gXMmHeXNRxeHOBWqSwkDGBV26pM6rYYz0w9BpJrvSSWPyi/LC8u/PmyuDQUFtkdoh5GFyUMuU69b5uqSQVwOnJ0hB8ypoPoUAOUXCfJgnh/feaVJoaphqx2yq5oXtMGMkYlU6ATljjdFea1zXFdmZaN2Y3xHoPoYF3V5NynvFEflh3i6zD3lkq/uJC3qEyUHzRa6lpTTdy9uBObqwnVhPXrdKj1GUQ/QZiR5T5OHnMxJmXs0CYxxvtyzGpS0Yui0lhps2emip000pHVeUUfO1oIco0OOFObQI6lDNuI4Hu2Dyu2WpOd2yWvdkWXrhxaMFG0J0HFFOXpyTl5dff1/efvd9mTBuQjS5DJQlU6L0T2O64Ngd0eg4mY2oFJz30ZabaHvT7vs/ltvfpWvW7+5Av5f0ewibge++CV3zZNGFcrLkoovIeCRUCY1S46BRqoE3VP35Z+Qnl/1G/v36k9I9YaIs0D1Jj6aWZmtscOEJ9aQrwCBp4TfGQT9GHGxjLFS4cOO8LOTVROhnjEs2jBLmieZFXpEQi2qw9EKVU6OkJxWW7w7VKKngikKMdRmYEl2BMUpREnLCenACwlhpHMbFbWsdYPuRA+q2sI5oS3VdWqxgfKL9NkNVNF0nRmMP7CPmN/uOOBI1D90NuwyMFoySbr/dZjcP/rC+6FgN3Z9ozaLHSpeHQdLjjWKfH4wMpVmn7ogZmzkrB58T9s7kY/OoHOxBfce/Iehxc2UtZ8qEObJ2x7CVWt4K880XOf7m6/T8e4OydmFR2W/qJ+Tzm39SJpkaqUYAa92lP0NELrnmLrnmpn557c137WeDMuYfYY2j/Ls/nWS3fNSIvj6dcE4htUJQeMznj/Fob3kjKe2/+RAqpWX2f2y3PzA/srvMd3o+N6hx/KDTspR/Q9ZYebIcss9uss6qy0czVwGNUuOgUaqB51Qzn79Lzrhhljz22v+iKzBONHxOeiGPTiCVOen05INxKTsBdRrmwa94u2gE8rBBg83HpCMfk6hhdTwmjnxwoqqQF5yROXExI+bBvAjrvCbNzY+wE2aqFreclcsqjpnsJqbOoEqbHsPM5s9n122ywP5i35LADBYsX8xC0/1lvNmqoricZlzNF61Z0Kma5RqNrh9lFGCcx7HENuHY2G0zZVjTUa6QNmERWeylubLb2h+WY3f9iiwtSTU+tZCXQb1ovKehE0+9VG664yGZuMhkGcQmahq2pgRimKDC9o7ZIcSKVcWyXil2291+tC3tvv9ju/1dapRy+r2cz6lRCmCUcjKpu0vmvfOiTMq9LccceaB8eNM17NyVQ6PUOGiUauBJ1R9eulu+9/tfSGHBQZHxuLDM15NGLyb2elM6cewJWIzicGvEnGD2Im0u1ppuLlaYbucpyqUpJknDMEqmCsZdzFTm9onGzUUD22SXcxfBpPzqwuWH9ZmEcky59fcpjlu+iu0ZYpTs8mZf09B5zDHx14O4juKLIbuqsflX+4vUrMxuR03rbRDmONiD4Qy52TSULVueurRsGYOO2XQwT2SBV+bLjHU+LMfsdKisJIvohHqJtmGervNtDR138p/lvoeflUWXXUaCibg9Ea2+RFQTBpn6xvKJVVDzghZs2XDlPA2s11e74va7Xfd/bLYfa8JSXfodjjsM0a23vHTp9zp+drz+whPSNf9V+c5hu8tHp66ORaqCRqlx4JuQVAnsSJd+JguM1+LcNQ4lUmRQDRPubcGUGLkwltDPz5wVOkaNE+LFzxRjfMlaFZeHkIfm6/IpXug17k5Mlw/mwfqdEC+bV1X26wdxnV6UJlUtHbhtTZrBbJMGUyaXlsc4abqTDhLXo5hd8dMS5KZjbO7lIa55mbgGXbqbVovctrntrEa1LtcouWMDARPGgVVscZW8/hDIa1kcVIc0X5UvyCSrcVi+QaC9FLYIGsxNkPeDcfK+XjiCCRMlN2GCGQfeWHQsEyOFGi7ouHpNkILmVbOwfDy/snhcbvpI87WbKt2vVt3/0d3+0I7zE8fL4KRuHXdrWpf+KOiO2qGqokYbZKyhUaoBazMicEGBATENcvRwooYHcSMcXtxes+nqX4zM/Bp3V4S8hnFvIW+XcTVFfj6QnxeWM2Mbd9OHzGPzKNh0s51WoaYh3chLr0p2XUnyj0fasmXLJ03XsT+9OIawf/Y4DKf4ekyx92Rugbo8axG2QeU+Tz+cpOJ0XdbID4+FvPWb/dFjYrZTw67Mls2P9nU5Ga/jcToPWgk1hqgFElaNVQ7m8npaDOppgbZfqFHSC4kZ28avLqzluJiOcLXSPQgDSNdvxlUKyxeF/GpQ0na1i5L2p1ol5TtaStqeapWUb4XKa7nDVz+EmlGcAyUQK08how+uFKRKzBe5Hrn5OQ2ZWggt4frLV8zD0hDCqkDDTjjU5taYlX7BFi/UehHvysOs2OWD8dHY5WPmRzryRBzTkOby0bFbd3GdLg9MS5GepOV5VSu7Lrdu0yjRk5nH7neqMK+OzbGIT7PLmumYz+27zduk+9MrkNvn4nGCNG1IfsNoyLzYTpgFSMNJZsxXcbpbpgWEmk48Uegfl7J9VOHY2eOXV83XeaCoO4rGYi4PwfsqtFbCE55oxzGubNylY6fuwjgZV6XGF8PduryegyqMK5Wbf5z+0IDGaz7Iy+WZLjfdrj9vx+2qsu339y9N/nyqsd7/Mdp+U170fEJeXaqoXEdy7ZbwF52jZCxp/DdcB4Avcf1+1F+7GsIRNLfTVOYCoxeS4oVX03DbKA9rhbCdz8lcmDBWYf4uXT4Xy8MI8ysmL5XLx88P8+GEcrexzGPd/jzeRdFhjIiVy6ceVZ0PtjkpvUL55qRS+ccMYRfH8cPnUYncvPHP202rSnbd/mcx6tL1u2MSlzlGeozNcfKOty7jjFLezNsYkDuI1jZPhW4hbJmPCY1e3ROkmB+/WbpqUlRDhidIMa5Upfmj5WuTLqt7mLxdbSKz/bUegxbY/zHf/mjdMEaBGqecCiUaf+YuuDkjyFiC7xdSA2hAajDtOlzNko4hU+cE2fsWmMe0B8FYk3xhgPvRXZgP0vn8vIr5+XmpcAsE2+Dy8Ocx82ncrA8XFcyHeex82BZzBmIZCJhLTZVyp7Bbf0xuf818ScsnkTSfW4+lLGrX7R8vX6j1c2G03Sp+FqridiKfpPWOJH+/NIzjbNIqlcNswBiD7fH3ze6TQbcPx88cL7etuF2Q05KG203+vtSHf2Rw0cAvazz6jy4m4nKNX8NgUH8XzNetq055FzZtAXWFOKcwrlT2cOA3CbqHyGuZMt2BVCxsd23b3lLC9hf3JWk/09Qi+z9G24/nO/31ol8789Wug6iI6dBcXyAyluDbkFRJVGxdAbbflubC69I8mW9+hP0LDdLtGJjrkk0rXsTddE9mGRghTFdwVhXzcQLIA/N5aebqo2G9wJh1uWlDlh9LgaR0FbbTyaVh//150uSWwTFAw3u3nBkrSEe4WvnrwKjtie0TVDzmKHNWJg1TYWDibSrqBx8HTgl0x4pbbKafMF1L1IsY1uYLpglmqXZF+6V5+WWrEnnzmz60alLyNrWnkvZvJCXlM1ZK2r6RlJRPNUL5dWUJJR/nlJYok7dO0+97DWk6GUtolGoAX6tR000NuQumHQ0p0/i56eYxJwQuNJAm4dYRJuF2mpkvmm2IgAl7icWTS4VeKoGJ6gAy0+wFwI3xaWNWJPkyxBOrVQyTpAO3jcMK2H2oeHoMf/b4LOa42WPg0otjDZjblDXKHe+kaRWpVUjatpj8MqeYTyQKNhTkG/12iJpHl6yYKwNx0tIrAxelqK/72hQZOHeuVQu2vb7tH3vq2YdW2P+x3H67vPkx4PKKSjxsEjorjsoXGUtolGogcvgVfCkWZ9GAOZcw1oBpW+MtjyB+RhRNVRp2mrtYRedUFDaYSDnmimNlLuo6Nuv3sfnVLOA2RuVuQWGUOH+CKjJUTjFSkg1+Ova7K6nI60y1Gh5/uxGuSrrYWAtgW/x9ShTwwyAyMS6bRoH88Cn5mzgybu5ahJFejGqWf0xqJWm72kWNICnf0VIjSMq3EinF4hPF3VkWGXgN2dnI2JF01SCjgTFF+iVbNEZ6NgwxMBWAfEyNyAiY9WGsqmD2usBuVLUrI21YBRteyfpwvIu33hKo4fAb/P114XYQcOOqwPEb5rNoAM3NPYn4walGhDQHlq7WgEap4dgvT1Or4nDhOoq9WbSWfHTe4rboGE85DaGa/NJwF09fI5G2Xm97y9C4q63ys4/PloYzokMMqcYrzaOM2EI15TGGFLdXAziuvsxEFfypm9HcHrAqzqNBM2wcfn6NzpuQlsOeXkNg4W8ZaJTqxd3OMtiLR/EigsPrp1mK82sAVfcmwc/H4S1jsHm6vMpqkjTNJMeWMTVJmC+WXsSlY1yrANYRF0ia3wm4sHesDHbsjqV7es+EzZSRic+XtJz/uSRi15ko4MZKpdvVKrjtNWPdDxwLJ98MmTR8PkjrKoWVZu8yngRq4psJCCFkRKJvO1IT5jV57jYOvszd7a3ihRRyFxUV+qsxFx8F8xelZqkoO93gXYb8ZOBNipZBgsq1fSli08vkkzR9tFUaDZkWb//hJlVC/JiBsuOrFNvnpKHT3OecJh9E20Vl6HExx8aOIbdvqIV0BsrUSOq4UDCv8cE8jeuZm5AOxJ1m0Yi0IPjWIzUy5Jcuov6F1wUhc1Hx03RQvBBhQQ2b7HzTpIrufehke4EyYOzFE7sTAPE0XyApvRr56wX+9oGk+eqQOV4ql/1wVDJPMW+ABeICmD7C9rvP0SyDz6VSuXWMIW7TTXs57KcKZRjh4mEozqT/9nF6pOsPg5yW3UY8vuytoSR7XDEeVmU1q4S0F8XTbJTAOUOqA9/WpEaGFDh3UXEXGvf17wzVsOUTy9lgTSBzJx8/vdLplQq4MRgprU7huI5YA6RUdRxdfsMJJKU7tSnFTdeAO7ZlZdfKmCY7zZhGG9dpzf6CpwkinYC7dJDWhEapJlCsvUuEieqgKCT6F5vSKBVzewMBjD2V1Txg7MdbBbefSWoSwx2CpM2AUkma2alCkhZtdQ1H2Y8AhK1BKi5Y6t2IEEKyDK66pGpwibDCazEALiy+0AkkfnWbI6zjivANUbuBfYyrSTTlMI3i9rc15ceFR4mQBtGOX/sdAo1STfgX00ZcKnCG+DVFvPyQVodllBDSGdAo1QQuEgXBo8vmdoRpw5HwcyApLRX+nCBjBcreSFKMN3JhvKoWf4QQkm1olGrCtdWwJom/rknbo5bHdF2RItdezrWd02KPdyujsTW7ByCEZBkapZaBZou0IKgVLTNQEQhZ60SbRAjJNDRKLYGtnaJZGjtw6NPU8mAjUX7SVMlO6Dz2kf9klUYYm5fh6hi1SqUJhBCSPWiUakV/RvPyQLIBSnKK3K1l010Axjqy02CWTO/chBCSYWiUagSXirJLhLmQ1Iq7kcGLDmlFtGybXuJRxnWMqiTv5costYSQLEOjVCG4TPh06bUCMtcOiJCs4pyQMUhRYS9oWl6FMYs/ISTL0ChVAEzSoAoXBHQviesGTFI3EtwPbUKyDAp9TDBKg6r4jwhCCMkSNEoVEvdC7npBSPZxpd3KFnxXm9Ss3wn8/UE6Chb4loVGqQJwXei2YwjlGb+m82iXVNDf0+PGaQohWcaVfv3KMN0FaEiLv0ttNCZf01A80DG/pgghYwe/gSoAX9ddUbB4UXBmydx4mDMHATJauF9ebtzWRGagMo0B/lNt/vF2JsmM6982l4PJMwqacdT7fWhXHY3jIqTdMeW4/tOINAkapSpxX+RhaL+8EZnAGqVRJxNXSFeaPJnak4T0opJAOpZLU9pyFVB8mlPHpiG3GhekqYFBNDoP3DyNwW1xgHXo+qI+LwtS0BViPFSNXT8howlKL0twa4PvJFIDuC1g70AQMjLu23DIt6KxBBWqiRQNURI6zZgjKEqBN2mADUvF5K3nWJS3XWn5gVPicULaEHsCsTS3LjRKNYACbQo1fuqy/QSpheK3ogvYUlV8d6Av4MZjQHxzVCj15slP/ZZv2hmgpxdqrIJcmhVLSyeEkMbBq3yN4Hph4Hc1qZtiaYrK0xDpdIxbBd2WUH8gwNKNDm7nW+kgENIgvNOftCY0SvXCQk6ygN9oOw4m4ZvCSeMFHQ+q5msYfYsRQkhWwdceIWQsqLhacqTpowA2wZdiushQ8bcCISTL0CgRMqZY1zHEifgCbjyGJDiiFtgqQghpKjRKhIwVxmXAfXgyT5/ZcVxjiVs9xjbMp/IJIZ0AjRIho4GrHPJVdB0xGVOUJkIIIaMJjRIhY0qSGUoTIYSQ0YZGiRBCCCEkBRolQgghhJAUaJQIIYQQQlKgUaqBRr8ElBBCCCGtCY1SveA9VGP96DYhhBBCmgKNUh3ghZ2EEEIIyS40SnWw3PLLi3lHFg0TIYQQkklolAghhBBCUqBRIoQQQghJgUaJEEIIISQFGiVCCCGEkBRolAghhBBCUqBRIoQQQghJgUaJEEIIISQFGiVCCCGEkBRolAghhBBCUqBRIoQQQghJgUYpMwR2TAghhJBGQaOUCWCSnAghhBDSKGiUMgGNEiGEENIMaJQIIYQQQlKgUcoEoSdCCCGENAoapUxAo0QIIYQ0AxqlzECTRAghhDQaGiVCCCGEkBRolAghhBBCUqBRIoQQQghJgUaJNJB4Oyn260QIIaS9oVEiDcKZJDdG0VKjFLoihvQ0EUIIIa0JjRJpAKg5QlHyFKhyqi6Mu4ZON3LprHkihBDSmuAqRUh9wBQF3RoYJxLqOFQDhIoi558wXTA9LhgljFkMCSGEtCa8QpEG4NUo4VZbqPGCRiEYJozN9FjNkjFUCLNGiRBCSGuCqxQhjSNUZwTlVfOtEM6rWypAGoZAYMeEEEJIi0KjRBoADI8nZ5LmqDF6TzXXM0jOSEHAVCbZMCGEENJi0CiRxhIEkkObpDfeFrnvIVnw1XdkkbBLcl3dUa0STBQMk6lhokEihBDS2tAokQYTyLhCIMG7c2WtdTeSj669gbz13ItSmDNXzVHezhJoydOihzFrkwghhLQwNEqkDpJMTiC5MJCuQZFVlllB9tp1hmw+ZXORd9+TrsWXMNMjAV3e3IKjWSKEENKa0CiROrCmB0+5QaghUg0GXWp9umViOF5WnbisfHWn3WX1yStL7qlXZcI8LXKoWMKiOTVIXSqEi+aJEEIIaR1olEgdoPj4nUZGRml+rkvyhZxMLIyX1WRJ+cSENeTig78rHx6/jEx47g2ZlBuv86lBct0p5eyyNEuEEEJaDBolUieeyTE1SihSOcmF3bLQ4DiZrE5ocY2vJ4vKr7/2ffnQSmvJ+489GTXmLnvyzQwIIYSQloJGiTQYNObOyQJzRRaaD/MT1TpNDCbJEl2T5ajDjpSVVllN5PW3RN58J+pGQD0T2ykRQghpRWiUSJ3A4DiTE9UKjS8EMj6vhQvtlkxal3qhbnlT3pcnn31KPrvd9iJzBqP+lUyHlGYxnZW1SoQQQloLGiXSAKzBsZ4JsbwOXh+cqx6oS24buF1uefBOue7Wm2TfPfeQ884/T+fQGXCbzr3uxHktQgghpIWgUSJ1AltkHRKk/4NBKPMndknX8kvIhQN/keNPP01OPOVkmbz0ErLUmqvKnMJ8kQnjVBN0cRgm5MGiSAghpPXg1Yk0BvPeNpWO5+YKMm+hcXLhTX+WU/sukDe6BuWZV56Xp154Srb77CdF5r+vJqlbZJwaJHQRgFIIr+RqpgghhJAWgUaJ1Ik1SEUVJOzKy+CSC8icRXPy5KIFeXeNJWXc1NXl1zdeIYttuJrIpC7VODVKOkbvAjBZzmgRQgghLQSNEqkDz9yYhtswPAU1P3mRhbRorba0vDU5J48sMl/+tew4eXqZCfLryy6UrvXX1HlQ9LCsrUUK0V2AefyNEEIIaRlolEidOLOkMv0iqUkKVDBL3fNFxqM90nwpTNLxJJ2+8DjJv/tmZKgM3vKEEEJIi0GjRBqEGh1z+wzABA2qYJo0LdSxEdIgnY6KJFOZRJNECCGkdaFRIg3AmR1PxVtpGi7oGHJppk2SvVVnRAghhLQmNEqkSbgqoxThNp0vQgghpAWhUaoLXuAjEoyQESGEENLe0CiROvEMEXyjLxonQgghbQ6NUl3w4j/UHXkq3lZzIoQQQtoLGqUaCEwviTl5/rkXoge88M6yjsQ3QcMJB8mFCSGEkPaBRqkueEup3BClCbgxIYQQ0j7QKNWFvfh3bI2SA8cBtUZx0RwRQghpb2iU6qXYBocQQgghWYNGiRBCCCEkBRolQgghhJAUaJQIIYQQQlKgUSKEEEIISYFGiRBCCCEkBRolQgghhJAUaJQIIYQQQlKgUSKEEEIISYFGiRBCCCEkBRolQkiNdPp7DgkhnQCNEiFkBNzLn5OMEc0SISTb0CgRQkYAZghfFb4pcu845HsOCSHZhkaJEFIBrkbJfWWoQQpolggh2YdGiRAyAs4kxWuUCnZMo0QIyS40SoSQEUgySg6YJUIIyS40SoSQCoibJMRdTRJrlAgh2YVGiRBCCCEkBRolQkgFxGuNEB/ulhwhhGQDGiVCyAjAFDn50CgRQrIPjRIhZASSjBLNESGkM6BRIoRUgDNK7ik31iQRQjoDGiVCyAg4gxSrUQpplggh2YdGiRAyAq42yTdKDpolQki2oVFqGXixIe3GaJmkJINGCCGjA41SS+AuODRLpN2giSGEZBsapZaARom0I6NlknheEELGDhqlegn4JU5IU3CNxYt+jLVXhJDRh0apJcAFwIkQEgGThK8o/hghhIwdNEotAY0SIUOxNUo0SoSQMYRGqWWgSSKkHNYmEULGHholQkgLwxolQsjYQqNULyFrggghhJCsQqNECCGEEJICjRIhhBBCSAo0SoQQQgghKdAokTphQ1tCCCHZhUaJ1IF7IolmiRBCSDahUSJ1QpNECCEku9AokTph9wiEEEKyC40SIYQQQkgKNEqEEEIIISnQKBFCCCGEpECjRAhpKfh4ACGklaBRInXA7gEIIYRkGxolUgcoPl12TAghhGQPXuEIIYQQQlKgUSJ1UPBECCGEZA8aJVIH6Gwyb8eEEEJI9qBRInUAg+RECCGEZA8aJUIIIYSQFGiUCCGEEEJSoFEihBBCCEmBRokQQgghJAUaJUIIIYSQFGiUCCGEEEJSoFEihBBCCEmBRokQQgghJAUapYbAt+cTQgghWYRGqS5okAghhJAsQ6NUF3yFByGEEJJlaJRqwn9rPk0SIY2EZxQhpJWgUaob1igRQgghWYVGiRBCCCEkBRqlumGDbkIIISSr0CgRQgghhKRAo0QIIYQQkgKNEiGEEEJICjRKhBBCCCEp0CgRQgghhKRAo0QIIYQQkgKNEiGEEEJICjRKhBBCCCEp0CgRQgghhKRAo0QIIYQQkgKNEiGEEEJICjRKdRCGoQtEY0IIIYRkCholQgghhJAUaJQIIYQQQlKgUSKEEEIISYFGiRBCCCEkBRolQgghhJAUaJQIIYQQQlKgUSKEEEIISYFGiRBCCCEkBRolQgghhJAUaJQIIYQQQlKgUSKEEEIISYFGqWUI7JgQQgghrQKNUksAk+RECCGEkFaBRqkloFEihBBCWhEaJUIIIYSQFGiUWoLQUzvg14CxJowQQkh2oVFqCao1Spiv4GkUDVbgTBFNEiGEkOxDo9QyjKLZIYQQQkhF0CiR6gidocPYiRBCCMkmNEqkBnyTRLNECCEku9AoEUIIIYSkQKNECCGEEJICjRIhhBBCSAo0SoQQQgghKdAoEUIIIYSkQKNECCGEEJICjRIhhBBCSAo0SoQQQgghKdAoEUIIIYSkQKM0avgvkY2LEEIIIa0IjdKokGSO4iKEEEJIq0GjNGokmSMnQgghhLQiNEqjhntxbPxFsrW8UBbmCh+dE80WIYQQ0gxyYRhKp8iRNK0WlXmeiqSDYeMU1W5KPjcaIR2UVuTiFNUJKp5giCafH5XIkTQta2omrFEihBBCCEmBNUo1SgfIiaI6WmYYOzcaJs0bAw3atQ0n/vEvQ3+2YOM8QGTIuVGFHEnTsqRmwholQgghhJAUOqZGySdpevVCRhTV6Uo6NxojHegq7IpsPF3x7aKoNpYOorJvQ1rGa5EjaVrW1ExYo0QIIYQQkgLbKNUgHUQipMOJToXk86Ru2V/UGsGAojpHKPMI6sAE3TlRg0wuCelZUzNhjRIhhBBCSAodV6Pkj+uVDlQmM4rqAKGsx8o7EnScdH7Uq+K67DooqlOEPw1E/4jXKJ+k6VlSM2GNEiGEEEJICmyjVKN04DJTYdyuChLSKCpJOvDLOzBJyedI3bIr0WBxleniH/+y84d/EIV1WKMcSdOypmbCGqWOxr2Ul++KI4QQQpLoqBolCCSlVy9kZLKrgrghaQWDQpNEakTLf/K50RjpIFqJ/VU9vEqzUlTbSwfROaD/Oq5HJreE9KypmbBGadRwhgRjJzDWRqW5BYwQQghpZ9hGqUZZqx/5jBGlg7AwjDA9ablmSwdFJU2nqDRFgaRzo1Fy+evAXzFFZV9emTd/9pyoVo6kaVlTM2GNUr3kKq0RKhX8oSKEEEJIK9IxNUo+SdNrkc0NGUbjtpNP0nSKSpMLJp8b9UoH+C+SNA9FZVam0Juinzy9QvkkTc+SmglrlAghtROMdRs7QghpLmyjVKN0EDn+vM0XI4rqIGGE8yDp/GiE3Iqi8EiU5qeotpct/6bsm2j5uVGNQFJ61tRMaJRqlsnJ/FNU50kHRhglnR+NkVlXtJIR5G8bRbW5dGBGCGn5rlWOpGlZUzPhrTdCCCGEkBRYo1SDdGBlMyz+DKCoLMtRCusZUXZuNFJuDdHqMKCo7Mv8ofybc6B0PtQqR9K0LKmZsEaJEEIIISSFjqxRAknTq5XNCKafojpAOkgo70nnRsNkVhFLo6gMSwda6i2I1lH+HUnTsqZmwholQgghhJAU2EapRukgkskwGhGSaVDOi2XdRux5kHSO1CsdRKroBHPzUVQGZMs9/hBOOj8qkSNpWtbUTFijRAghhBCSQsfUKDmSptUmZGZlXX/7CS/kzdtx0nSK8uQwcYztCGMdNFzRytwKRlA0K0VlQSj9KNYmrIF65EialiU1E9YodSR47YQTIYQQQtJgG6UapQOXm/lvP8EkwSd3RePEeSjKlw6MbBzY86EZ0oFdCVaX9FfwwvzjX3b+orIfKToVMK5ejqRpWVMzYY1SR8MaJdJOxMsryy8hpPmwRqkOGcPftm9Px/Z77ZMIqQqUn+TzolESQfnMR2HUgCLJjONCerQ9FJUJATuOnxfVKp5HPJ4VNRPWKHUkKFRxEdJqxMulmiJCCBllWKNUo3SAnKLvchenqMwqKu6l8q5jS9L50RgFdjXFFVNURwjlH0Sj+HlRuRxJ07KmZsIapXopNPcDIoQ4eK4RQkafjqpRgkBSejXSAf7t9zbiGBOSZaJyX1bWEbbnRDNkVxD9uyBFZVRRwIY1gD8z1oRa5ZM0PUtqJqxRIoQQQghJgW2U6lCUWTSy5p+isiuDBkw8SsQo6dxolKL12nXZMUVlUf7QjUDSeVGNGpFHO6iZsEaJEEIIISSFjqlRipM0TzXSQSSTmcmQojIqV8YTpIOk86MRirBhiuog4U8DUbgOOZKmZU3NhDVKhBBCCCEpsI1SHXKmXyMmX0KyiSvojlLcFH3vnGi0dGDXRVGdIfyZch/9m3DSuVGpHEnTsqRmwholQgghhJAUWKNUo4q4MEYUlWnpwKg8Len8aISwAgwxQJSisqwoEJV3DEzp17RoUnROVKN8Pi+BfRdp0vSsqZmwRokQQgghJAXWKNUhHdgMoxEhmQblvKysR5Gkc6MRirLXsAlQVLblD80oGiSeG5XKkTQta2omrFEihBBCCEmh42qUktJrkQ5MfkXn79LaUtiFYBhhuj8/1ZFyFNMwSj4/GqVsnF8UVZ3w58p+0nlRiQqFgpEjaZ4sqZmwRolEJBokK0IIIaRDYRulmhTl4Ry/Gbe9dFAcO/npFKUDF3Zo2tDzoz7pIJJbmfmPwvzjX1b/XHk3YVv+oxHG1StO0jxZUjNhjRLxiBe25hY+QgghpNXpmBoln6Tp1UgHkYzzj0btj9uRJBHisOXBFA09H8xo6DnSMLmV4d+sjKKyqFKZN/EoCcNiei1yJE3LmpoJa5SIR7w9EtsnEUII6WzYRqlmISMrDJDQ1kLDbeyKbcBdFvfnozpTtqwbRWkImnGTZCiGKSrL8vHLvIkVz4laZPJISM+amglrlEhEoAUtTYQQQkiH0pE1SiBpejXSgTP80bitpYMRlbQc1TnSgR8HNpx0fjRKRRCmqA5QVO4hRBF34+rlkzQ9S2omvPVWh0xhNuMsYPcnUYQArzyYoJ4H+PPOiUaquD7E+ce/jP8VyzuE8m/OAUR1ah2KskieliU1E956I4QQQghJoaNqlCCQlF6tdKAy2UXjYhpFZU2ujHuKBjaefI7Uq2LeCJgwRWVV5eU+SkaglF6LHEnTsqZmwholQgghhJAU2EapZrnMoOa6WULGFlPIo6BBwzYp+dxokMwf1mNXRlGZVQlT6lHmbXLiuVGhfJKmZ0nNhDVKhBBCCCEpdEyNkk/S9Gqlg5JMplRdMr2Au04uqdaUDvw4BpqWdH40QjpwKyrG4/NQVFakg5LsSVb8s/PUInf+ZF3NhDVKpDFYn5MoQgghpE1hG6UapINo7EDQpnekcACS0p1Gmk61uFwZd+Vcx+YzxRhJQ8+RhshkblZgAlEKRWVT7s+ETZk3QVUUr0WOpGlZUzNhjRKpn5HKaCVlGAW9yYWdEEIIqZaOq1FKSq9FOogMgFGUNyHZxBV0h4ZtNOncaJR0YNaFP7M+isqsdFCUxk1SFIifF9WqEXm0g5oJa5QIIYQQQlJgG6WaZTKKMgQmTlEdIoDyj//iOdFguRWZEQYUlVWBaGzKvZb/CJwLiNpzokr5JE3PkpoJa5RI/Yz0ZBuffCOEENKmsEapRunAZaaKgh3LSPvf6ccnM+CDtB+mLf96NhTPiUYLqzLjJq6DolpF5tQy46jMYxxFh85bqRxJ07KmZsIaJdIY7LmdKNJk9CAHhdrFD4kQQlLpyBolkDS9KuHigixNtghT1BjJL4u1CIOkfMvkL1MeTzw/GqSyFVFUhuX+orDDxhPOjUplcklIz5qaCWuUCCGEEEJS6JgaJZ+k6dVKB8jJZkhRYy0d1Kyk/OLSgR83IC35/GiE3IpM2EUpKnPSgaeovJsJ0b9Nq0U+SdOzpGbCGiVC2p16vyOa+x1DCCFtDZ96q1nIyGTGCw0Ze4rlsQZVjDezLfcmpXhONFbR9pk1aNBE+Me/DP5FRd0NIzTdlP1oXI9MbgnpWVMzYY1Sy8DOhjobfP5xEUIIGWtYo1SHSmgY8ZoVZRHJpVGdIXzmaooKnhAvqtIy4ZehaqWDERWb16HhpHOjITIrjNYBIc2FKSprikYurGMUfVP8o3gtciRNy5qaCWuUWobmftCkFVEjBJmP3nwlRjInvUlU7DzD4uapR4QQQpJgjVIN0oEnZBjlWzsuk7ozIu1G2kfeckVCN8TfHhNGWvI50gjpQFcT/dkVUlTmFZV3oGNzHmCkqTXIJ2l6ltRMWKNECCGEEJJCR9UoQSApvRYVjT9AmKKqFQamLA2n2DJjJYeJRwkumHR+1CMdaN4Yu5VQVFalg0TpNDNL6byoRSaPhPSsqZmwRomQsYZNhAghpGVhG6Ua5dy+RqKwGVNUtULZSXNKNj1xudEUtsHfDrNVxbSk86MRitZjVsI//mX4zxZ1OwT+lKRzo1I5kqZlTc2ENUqEjCnOJGEcF3BjQgghY0HH1Cg5kqbVKmv4kanJm5DqKRaiYTTWxLdDwyaK80CH3jnRUJmVmBVQVOYVjVzcL/reOVGlHEnTsqZmwholQsYM+21YkQghhIwFHdlGCSRNr0Y6QC5RZsBFKaoq6WBEJS03xtIBNi0aN0c6MOsyqzFDisq+8FeWFjsvqpUjaVqW1ExYo0QIIYQQkgKfeqtDkeG3Y/8XAEVlSpZiWUe4NE46NxqhKHuzAvzbdVFU1mTLu6eo/COMaBSvRY6kaVlTM2GNEiGEEEJICqxRqlE6sLkpJo5xpyhIUNJ8VDakA4wNCNu4jpPOjUYqwqzM/LkwRWVHICrfURm3cROMUpLOjUplcklIz5qaCY1SDdIB/s3YK9f1yfWdkzSNosZcOvDj0SDCnA+Nlw4iYV1+nKIyp6iYR0XdxnVgkjReq3ySpmdJzYS33joaa87YqSEhhBCSCGuUapQOYPhL43pxebrwqHgXt+HV7gDmj4tkH+9zth970rnRMEVr0jBWFa2Qf/zL6p85oXyZEcY6tUY5kqZlTc2ENUqEEEIIISl0TI2ST9L0WlQicv0NVSEhreHCpvtjikpTVMyLcUMUTjo3GiEdROsw6ymPUlR2pIOYTPk3ExEdem5Uo0bk0Q5qJqxRakWC0Woz5E7G5hYyQgghpF1hG6UapQMrZBjlS0h2iZV1V/ZNMPkcqVv407EOKCq7is4iDdry7uIuZNNrkSNpWtbUTFijRAghhBCSAmuUapXNy4AIRWVdDi+eeG40SMV1FIcUlUEVy7oZlMq+Ow804p8X1cqRNC1LaiasUSKEEEIISaHjapT8cT3SAYx+NEagmEZRWZQt624MbDzp/GiIopWZ9SDuxhSVKdk//GuCKfMmbklcpkI5kqZlTc2ENUpkbMETfr4IIYSQFqKjapQgkJRei+D8o18BJltSCziOvkiL4j4bO7afVdJ50SjpwK7OrssMCckYtqy7Pxc3QooJYly9HEnTsqZmwholUieoBWqUCCGEkNaCT73VKB3A7JdAmKI6RcCOk86PRsjmjhVQVHYVK+elFMSRVH5eVCtH0rQsqZmwRonUSVLNUA1COW9uWSeEEEKqpmNqlHySplcjHeDfXtwRN7k2WCApvZXUaJLWQY29LMWyjjCE+NDzo6FyqyoO+ce/jP2Zsq7FW8MGW/ZNEGk2XoscSdOypmbCGiVSJyigDZCpWMKgU+nkfSeEkNaFbZRqlA6Qk8swCjZUOhiS1mrSQcOVtJ6sC7cenZKmj7V0ABls2MbduRA/PxqhsnW5NIrKmtyJZkZ+PErTkq/B2gWS0rOmZsIaJVInKKCNUqdiDRJrlQghpOVgjVIdKru+uzBFVS0M7LgsvYUF7Djp3GiMTO5WhGQUFHSUd/dn43aiidcqn6TpWVIzYY0SIWMOTnInQgghrQRrlOpQlJlV2cWOorKkBExy8nnRCOnArSQauTSKypoM5XEMzbngxjXKkTQta2omrFEipCVo7olOCCGkNlijVKOKv3KLvwSiIEVlTzqIjxFwI403SzrQVUR/WBn/+Je5P1PWtXhr2GDLfSmMkZuvekXZJE/LkpoJa5QIIYQQQlLoyBolkDS9WkUZRSNCso0WdJT1IeU++dxohHRgV2PDNo2iMqXoxLLRUjxSlFarHEnTsqZmwholQgghhJAUOqZGySdperXSgTP80biYRlFZky3jDhfXadEsQ8+PRigCK7BBQrIIyrop75Gi8m/TES+mVS+fpOlZUjNhjRIhhBBCSAod10YpKb1a6aAsDNePf4rKpnQQH2sAQ4T9c6PRwko0ZMPl0ygqE3Jnk4aNDDbdJHnz1iCTW0J61tRMWKNECCGEEJIC+1GqUcbuO5prZsmowhfTJmPLPMq+jbpyn3R+NELFldgw/oppFJUVoXwjGA1sHGErDSedH5XIkTQta2omrFEiHQxMkRMhhBAyFNYo1SFn+Kl2lQ7KxioMTLxQhbzlsyyHCUcJ0XmQfH7UL7OCaF0YU1QWZU+wKKpjGy+OkFaHHEnTsqRmwholQgghhJAUOqpGCQJJ6dVKB8jJ/EfYONVmKpTHzedaC14emZPFj5qwDuz50AxhJWZ1bp2EZBGUdVvejUz5NxOMosml86IaOZKmZU3NhLfeapUp0CY3ZBiFqYxIB1UrKZ+sSAeQibi4DZpo7NxooLAG84dwbBpFZUK2lGskkgHTMIymJS5XgRxJ07KmZsJbb6SDSWvMjThODTbyJoSQTqdjapR8kqZXK2v1IwE/TrWJdBCqGYp/ntQw0gHGGNh40vnRCBnsOhDAn02gqOwI5RvBaBCVfVvmo1nKz4tq5UialiU1E9YokQ5nuBOMNUuEENLpdGQbJZA0vVoVL7Jm5OJU+8gnabpTJSQtlxVZ/KgZ6wD/CedGI6QDt6IoTFFZlCnjXrlH2Kb56bXIkTQta2omrFEihBBCCEmBT73VKB1Yw++HqfaTDoakxaWDIWm+dDAkLUvSAcbRIIqbMf5xPiCp/PxoiLz12ZAZU1SmZMt7hI4RdhMxstNrVSPyaAc1E9YokQ6nkvZHmIftlAghpBNhjVIN0kE0jjKLxqQNwWfnVCn+MtUu287ofprdtftbHCM49BxphIp5RwGbRlEZU+lEKoubP43XI0fStKypmbBGiXQ41ZxgfAqOEEI6jeDxxx9vrhVrEd5880256aabJJfLycc//nFZcMEF7ZShzJ07V15//XUbG8qrkpd73/ufXD1wi4S5+SLdXdGbMMaMpAu3/7H607P4ccf3fzT2Me34ZhXd38AW8lDLezhOJr5bkE2WXVW233ArmSzjomkNIK+ap7r2xgfliadflwUmLym5CRM0Bcc5i+WXdDbR90doy7eeXRLk58l7b70oXfm35ZNbbyZrrLiMmaca8vm8zJo1S+666y458MADZf3117dTsslWW23VtC9i1ijVBD4PX2NA2WpruHiM8ebXzbDb3+SdGnbdWQU7m/R1gbLXTPPSUQeZENKCsI1SgkaeB9Mxk5m1udeJJMwG2DAYsv54got76Qg6tSNl2+92Qi+qrqftRmPWpQN37As6gAxunHGwmzi+Jmwi0ViVfJ7UK7cqu674C4wpKgtC+S6W8ajsl4ifE9XLkTQtS2omwZ///OfmrqFFePLJJ+Xb3/62dHV1yamnnipLL720nVI9L2jhvfWdf8vvb75SCt3zRLr04lG8aDaJ4X5Yu4uXT+BtT9l0e/skSFhmyC64BJ0Xsw+3i4nTkWDXU8nytVDM02XgVjTcytIYaSNsvkFOR+5ea60b3g7E9q14603Tw25Z4K28fGSldWW3LT4tS8nEaFoDGFTNVV146V3yrydekwWXWEq6F5xkpqVSy8dNSEuA8ywott7o0sKcG5wn77z+tHQNvi4zdvy4bLj6CnZq5QwODsrpp58u119/vRxzzDGy2Wab2SnZ5DOf+UzTvoz5rreaZDKxmRUHzcWsM0UugIt3UYgnTS9Fh8inbHlvnEba8o5Klq9FDmNcNMGs159QDcMs5x+P+LHJLNjB6EvcyBgku9NmrLJlLfk8qU8gUENvwi4tUea/bYUBftdQnSmUYVfeTWEwYRdHtPy8qEaOpGlZUzNhG6WaaO6HUj0Vbg8KU6UFqpp5k6h3+eFw1+5E7DprXjUWTJBbp6uJwzipVi5zYP/9MXBhmNNG4edPCCGtA9so1SHz3Y4x/KaJj4KilZZU0IvVuHHRRRzTu7pEurujyRiYa7mOMQ3zuWl+nlCUGAm3EYebN0n+8tC48dG2IK+k+X3Fl61GWN6sQ6OVrIuqQrHDHQ1KYfM/9LyoXgWreLquRssvpkUrHUaYuV2l28+/zv3D52/klwcbNn8Y1yFH0rQsqZmwRqkm4D7GqDYhOo9KoFZj/nxzUklOw4W8SH6wtHmuACGO9EE8fJ2AnydKxXDzJuEvD/K6TXm9wDX7MCF/V4qbva6OhgeXENKZsEapJkW/gI070HikKDpqcj+yQVrcCXEnF/DTnKqZN0lJy/vxNPnbGs8jSfF5EAcI+/jzUHVIB0llXAkK7nyInyPVyGZv44gUEMZK7Nill5aJqd3/kvaJ6hBp0fb/NI4UA0Zl81Yun6TpWVMzoVGqVSjBOi4JGTdIaSTN52pTyrYFQpongHTDMLUDlc4bX5fDhZE+XBsef3kXdyDoRRNx0/353HK+SO0Uj6EOolanVvhcc1FjVMTrNkqQZmPDxiRhDBOGP8R1ZQVdLcZD5OZpZ/Gvs/+K5V9PLf3l5745A4RcGalBjqRpWVMzyRUKBf1C6gy5g4lx0vRKFRTyksurNFx6wqyBqqatTXFe7JgvpMU13DRPJs8R5kUtjtOQaRhjmpcWV3x5E8bYn6cC+fMmhanahQ8RYxxP3EYtfl5uUk6LP6TJsXOkEQpDPPGGC4X+6zrMFyLGcZltaW+5Y0p1ntyF3sl9fcEkmbgmJJ0flQjLgyif5Hmyomai1/u86eo86/IPZNL0ahTmByU3mJcu5OmEAtlI4WyJy5+OMwxpeQj7ZuNG2J7YNpl50X5J5bYXyzn58+p/lJ4yr9kWpDtp3K07vrzL0182vnwx7uZNUdk6rBD3p7np/piqUd7noyNznPXfHFcN5NUoFQrd+jEHquRzpToNmnFBFZpxQebPG4w2YVC/DOerMB4izK8XmTZTwRtTnatQyzmuKUUN4jzLqVMK9PzSwh/ouVY8R6qTM0rIJ2l6ltRMOqpGCTTKWef12ztvC6G9ioyOAquyNGwHTigdAcTROWBxXmyfCi8RytlpWC6nY6cQ3fwh3QoNw3FbLz6vv14nLAuZeSFdh1vezTPc8nHF988pTEirRGn5USMo9nn5x9GWf/zazSecH7Ur+lED5bQcTejuku6uLtNR7PDKtZ26/XiO6lTl/HJgyzN+m+ALdL7+CJg3b753flQn3yhlXc0kmDlzZnQkM84zzzwjxx9/vCmEP/jBD2TJJZe0U6rnJb1Q3Pnuf2TmHdeq+Zgn0q2OwFzEcSidW6mBtMWR5j6lsuluAZfoxkh38qcrCOInup+G+cysrsGTj5+PgjPYb3tk8sN0hP3lzQRPKcunYfJMmA9JZck2gtnN2AUUNx/GXjIZARht3PLyj60x3+4gotuHcdL9VigfXm5t2bXn47KkjLfT6iEql3nVHA1d9qfZ8tiTr0jXgotI94ILmTnScdvbfh+0PcptuvWkVsytNfuHTz6034u5MCfB4KDMffcVCea/Lr2f3VrWXmkpM60ElnElJxnUspxzzjly8803yze/+U3ZdNNN7ZRsMmPGjOEPSB0EF110UUecmzBKJ554ojFKxx57bF1G6RX9Qv/7O4/LZbdfL3NzapTG6eeDx/IbSSUfedGg6MzxT9Fc7DD2p3kzObPiG4uylSbMCzC/ydNfTsEs5uLqsNP9ZX3iy/uUrc+OHZgUX03088umexP9+Uh9mGOJ46wq5KRbjdIC7+alZ/m1ZOeej8lkwdv96yX6HNGUFa8w+eOf7pRHHn9awnGTpNA1TlOwEfazLqP9P+iiByUdSdQUL/rL6Q8RVP7n57wjE3NzZcZOH5O1Vl4mmrEICszw5R5G6bzzzpNbbrlFjjzySNlkk03slGyy++67N+2LIPj973/fEafos88+a4xSd3e3fP/736/LKL2t+vf8l+TG/tvl9blv2ltMoRbb6BdCI3C5+Lm5MO6exY3GkPm0yOD1D+YL2M5bKJvLxzxbYeRw+5G0hMkyChbJ2XW5PKpdfij4woi2Kw4sKZ6Awvpw6P15yvcB+9xYcEzLxmbYPNxx8htljhZu3/BJYK2hvbU6TiMLyjgZ934om666jmyx1iayaNCId725fUOtksid9/5LBh54SAbDLl2r+6Sj86wcxJv0SdjPGXeSi9i0RuGfN6RzQGn3P/eCFoSC+cbqku6gW/Jz35PFFhon22+zhay47OLRTFUAo3T++efL3/72N/na176WeaO05557Nu00Cn7729+6b6dMA6N00kknmRqlo48+unajpEcrrx8Hbg28nH8tavejxR1f36bYN+BChhxMLsgO4xhdmhh46xkyj36RI82VGjevmw8mIw5MCbbdn4T57UNHZcTNB0wSljXNn2waSFvepEfBYXE38pAn5nd5O6MEjGlUEHXT3fyVrqcWnFEaLUbTIJXAOlGWYJR0bNsodeu2jNe0CcE4WUAmyiSNdZv5G8t7WtDmDOYlP78gXTk90aLNGUqxJtN98k2giZ83cm5e7qTVMT9mlbwG8nqOBfZsMs068/Nl0YXH1VQ+YJT0+m6M0hFHHCEbb7yxnZJN9t5776adRoE6zrH4Bh51YJR+9KMfGaP0ve99T5ZYYgk7pUqKX9YIwDJg3IzLBBmO4sdARg2Udgi/DcqteONB7u4M49lFOgl3ZtV7hsEo/e53v5Nbb71VvvrVr8pGG21kp2STfffdt2lfSME555yDzyPzPPfcc3LKKacYo/Ttb3+7PqMEzEeiX+OD89X2T4i+0RtJ0kfu0qo9g9w2+22tHf6n74eT5h0Ot6zbtmq2r1rS8va331HpdiQtm0R8vkqXq5Wk7W/msR2OUVwvDituFWPcpcNo1YiN9gGxH3Dxcy4GGkuTsiXtAMqvKsjbWtsujZV+HqDLgKCr+p8LMEoXXnih3HbbbfKVr3xFNtxwQzslmxxwwAFN+yIIzjrrrI44RWGUTj31VGOUvvWtb9VulMjoMZols5nXWkIIqQh86TXmywhG6aKLLpLbb79dvvzlL2feKB144IHNM0pnnnlmxxil0047TXK5nDFKiy9efeM4QgghpB2AUfrDH/4gd9xxhxx66KGywQYb2CnZ5OCDD26eUTr99NM7wig9//zz8rOf/czUKOFRSRolQgghWQVGaebMmXLnnXfKl770JVl//fXtlGyiZrB5RumXv/xlxxilX/ziF8Yo4VFJGiVCCCFZBUapr69P7rrrLjnooIMyb5QOO+yw5hmln//85x1hlF544QVRU2iMEp4AoFEihBCSVWCUZs2aJXfffTfa78h6661np2STww8/vHlG6bTTTusYo3T66acbo6QHVCZPnmynEEIIIdkCRunSSy81RumAAw7IvFE64ogjmmeUfvKTn3SMUTrzzDNNY+7DDjuMRokQQkhmgVG67LLL5J577pH99ttP1l13XTslmxx55JHNM0o//vGPO8Iovfjii8YooUYJTwDQKBFCCMkqMEqXX365MUr77ruvrLPOOnZKNvnmN7/ZPKN08sknd4xROuuss4xRwhMANEqEEEKyCozSFVdcIf39/Xi9R+aN0lFHHdU8o3TiiSd2hFF66aWX5JxzzjFGCU8ALLbYYnYKIYQQki1glK666ioZGBjAC2Nl7bXXtlOyyXe/+93mGaUf/OAHHWOUzjvvPNNGCU8A0CgRQgjJKjBKf/rTn2T27Nmyxx57yFprrWWnZJOjjz66eUbpuOOO6xijdMEFFxijhCcAaJQIIYRkFRilq6++Wu69917ZfffdZc0117RTsskxxxzTPKOkmXeEUXr55ZeNUcKtt/33318WXXRRO4UQQgjJFoVCwRil++67T3bbbbfMG6XjjjuueUbpe9/7XscYpd///vfGKO2zzz40SoQQQjILjNI111wj999/v/T29soaa6xhp2STE044oXlG6Tvf+U7HGCW8SRm33vAEAI0SIYSQrAKjdO2118oDDzwg06dPl9VXX91OySY//OEPm2eUjjrqqI4wSq+88op5kzKMEp4AoFEihBCSVWCUrrvuOmOUdt1118wbpZNPPrl5Rukb3/hGRxil1157TS688EIZP368adi28MIL2ymEEEJItoBRuv766+Uf//iH7Lzzzpk3SqecckrzjNLXv/71jjBKr7/+ulx88cUmjLcoT5gwwYQJIYSQLBGGodFjjz1mnvjeZZdd5IMf/KCdmk1OPfXU5hmlI444oiOM0htvvGG6c8eYEEII6RR22mknWXXVVU0tE5qfZJHTTjuteUbp8MMP7wijhD4lnnrqKdNWCeDpNxAETTu2hBBCyJgAU4TrHASTtOCCC9op2eTnP/9584zSl7/85Y4wSoQQQgjJJr/61a+aZ5QOOeQQGiVCCCGEtC2//vWvm2eUDj74YBolQgghhLQtZ555ZvOM0he/+EUaJUIIIYS0LWeffXbzjNL+++9Po0QIIYSQtuXcc89tnlHad999aZQIIYQQ0racf/75zTNKe++9N40SIYQQQtqW3/72t80zSnvssQeNEiGEEELalgsvvLBJRknk/wHL+ORM876iSQAAAABJRU5ErkJggg==)"
      ],
      "metadata": {
        "id": "fRG1o1gL9UKK"
      }
    },
    {
      "cell_type": "code",
      "source": [
        "y1 = x**2\n",
        "y2 = x**3\n",
        "y3 = -x**2\n",
        "y4 = -x**3\n",
        "\n",
        "figura = plt.figure(figsize=(12,10)) #largura, altura\n",
        "\n",
        "figura.add_subplot(2,2,1)\n",
        "plt.plot(x, y1)\n",
        "figura.add_subplot(2,2,2)\n",
        "plt.plot(x, y2)\n",
        "figura.add_subplot(2,2,3)\n",
        "plt.plot(x, y3)\n",
        "#figura.add_subplot(2,2,4)\n",
        "#plt.plot(x, y4)\n",
        "plt.show()"
      ],
      "metadata": {
        "colab": {
          "base_uri": "https://localhost:8080/",
          "height": 602
        },
        "id": "QXI0fPup9kov",
        "outputId": "3123d47a-a88a-4654-a1a7-bc289abb997d"
      },
      "execution_count": null,
      "outputs": [
        {
          "output_type": "display_data",
          "data": {
            "text/plain": [
              "<Figure size 864x720 with 3 Axes>"
            ],
            "image/png": "[encoded data removed]"
          },
          "metadata": {
            "needs_background": "light"
          }
        }
      ]
    },
    {
      "cell_type": "code",
      "source": [
        "y1 = x**2\n",
        "y2 = x**3\n",
        "y3 = -x**2\n",
        "y4 = -x**3\n",
        "y = [y1, y2, y3, y4]\n",
        "\n",
        "figura = plt.figure(figsize=(12,10))\n",
        "for i in range(4):\n",
        "    figura.add_subplot(2,2,i+1)\n",
        "    plt.plot(x,y[i])\n",
        "plt.show()"
      ],
      "metadata": {
        "colab": {
          "base_uri": "https://localhost:8080/",
          "height": 602
        },
        "id": "OKgcmePmARsh",
        "outputId": "997e9040-ea54-4ebd-bfd6-a28a182580d7"
      },
      "execution_count": null,
      "outputs": [
        {
          "output_type": "display_data",
          "data": {
            "text/plain": [
              "<Figure size 864x720 with 4 Axes>"
            ],
            "image/png": "[encoded data removed]"
          },
          "metadata": {
            "needs_background": "light"
          }
        }
      ]
    },
    {
      "cell_type": "code",
      "source": [],
      "metadata": {
        "id": "X-kTH5UvDJtw"
      },
      "execution_count": null,
      "outputs": []
    }
  ]
}